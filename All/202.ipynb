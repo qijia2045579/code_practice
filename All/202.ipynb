{
 "cells": [
  {
   "cell_type": "markdown",
   "id": "734692c2-fbe3-46f8-989a-a8a12be4efa4",
   "metadata": {},
   "source": [
    "Write an algorithm to determine if a number n is happy.\n",
    "\n",
    "A happy number is a number defined by the following process:\n",
    "\n",
    "Starting with any positive integer, replace the number by the sum of the squares of its digits.\n",
    "Repeat the process until the number equals 1 (where it will stay), or it loops endlessly in a cycle which does not include 1.\n",
    "Those numbers for which this process ends in 1 are happy.\n",
    "Return true if n is a happy number, and false if not.\n",
    "\n",
    " \n",
    "\n",
    "Example 1:\n",
    "\n",
    "Input: n = 19\n",
    "Output: true\n",
    "Explanation:\n",
    "12 + 92 = 82\n",
    "82 + 22 = 68\n",
    "62 + 82 = 100\n",
    "12 + 02 + 02 = 1\n",
    "Example 2:\n",
    "\n",
    "Input: n = 2\n",
    "Output: false\n",
    " \n",
    "\n",
    "Constraints:\n",
    "\n",
    "1 <= n <= 231 - 1"
   ]
  },
  {
   "cell_type": "code",
   "execution_count": 1,
   "id": "38d226a3-3b18-4e51-8da9-6f8465d4d25a",
   "metadata": {},
   "outputs": [],
   "source": [
    "class Solution:\n",
    "    def isHappy(self, n: int) -> bool:\n",
    "        s_set = set([])\n",
    "        num = n\n",
    "        while True:\n",
    "            s = sum([int(c)**2 for c in str(num)])\n",
    "            num = s\n",
    "            if s == 1:\n",
    "                return True\n",
    "            else:\n",
    "                if s not in s_set:\n",
    "                    s_set.add(s)\n",
    "                else:\n",
    "                    return False\n",
    "        "
   ]
  },
  {
   "cell_type": "code",
   "execution_count": 3,
   "id": "7a2f109d-3c8a-442e-a45d-a9b4983a9920",
   "metadata": {},
   "outputs": [
    {
     "data": {
      "text/plain": [
       "False"
      ]
     },
     "execution_count": 3,
     "metadata": {},
     "output_type": "execute_result"
    }
   ],
   "source": [
    "Solution().isHappy(2)"
   ]
  },
  {
   "cell_type": "code",
   "execution_count": null,
   "id": "6c3c24fb-c2f0-4167-a0f9-e150bf04e1a7",
   "metadata": {},
   "outputs": [],
   "source": []
  }
 ],
 "metadata": {
  "kernelspec": {
   "display_name": "Python 3",
   "language": "python",
   "name": "python3"
  },
  "language_info": {
   "codemirror_mode": {
    "name": "ipython",
    "version": 3
   },
   "file_extension": ".py",
   "mimetype": "text/x-python",
   "name": "python",
   "nbconvert_exporter": "python",
   "pygments_lexer": "ipython3",
   "version": "3.9.12"
  }
 },
 "nbformat": 4,
 "nbformat_minor": 5
}
