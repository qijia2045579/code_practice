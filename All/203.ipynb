{
 "cells": [
  {
   "cell_type": "markdown",
   "id": "3b9f797c-69d9-4d3b-8717-e5197a821659",
   "metadata": {},
   "source": [
    "Given the head of a linked list and an integer val, remove all the nodes of the linked list that has Node.val == val, and return the new head.\n",
    "\n",
    " \n",
    "\n",
    "Example 1:\n",
    "\n",
    "\n",
    "Input: head = [1,2,6,3,4,5,6], val = 6\n",
    "Output: [1,2,3,4,5]\n",
    "Example 2:\n",
    "\n",
    "Input: head = [], val = 1\n",
    "Output: []\n",
    "Example 3:\n",
    "\n",
    "Input: head = [7,7,7,7], val = 7\n",
    "Output: []\n",
    " \n",
    "\n",
    "Constraints:\n",
    "\n",
    "The number of nodes in the list is in the range [0, 104].\n",
    "1 <= Node.val <= 50\n",
    "0 <= val <= 50"
   ]
  },
  {
   "cell_type": "code",
   "execution_count": 1,
   "id": "087c552e-9086-4fb0-901f-1dce5f76b5a4",
   "metadata": {},
   "outputs": [],
   "source": [
    "# Definition for singly-linked list.\n",
    "class ListNode:\n",
    "    def __init__(self, val=0, next=None):\n",
    "        self.val = val\n",
    "        self.next = next"
   ]
  },
  {
   "cell_type": "code",
   "execution_count": 8,
   "id": "f20f366e-acff-4a96-afb7-026e560a661b",
   "metadata": {},
   "outputs": [],
   "source": [
    "class Solution:\n",
    "    def removeElements(self, head: ListNode, val: int) -> ListNode:\n",
    "        dummy_head = ListNode(0, head)\n",
    "        p = dummy_head\n",
    "        while p.next is not None:\n",
    "            if p.next.val == val:\n",
    "                p.next = p.next.next\n",
    "            else:\n",
    "                p = p.next\n",
    "        return dummy_head.next"
   ]
  }
 ],
 "metadata": {
  "kernelspec": {
   "display_name": "Python 3",
   "language": "python",
   "name": "python3"
  },
  "language_info": {
   "codemirror_mode": {
    "name": "ipython",
    "version": 3
   },
   "file_extension": ".py",
   "mimetype": "text/x-python",
   "name": "python",
   "nbconvert_exporter": "python",
   "pygments_lexer": "ipython3",
   "version": "3.9.12"
  }
 },
 "nbformat": 4,
 "nbformat_minor": 5
}
