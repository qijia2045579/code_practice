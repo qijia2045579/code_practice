{
 "cells": [
  {
   "cell_type": "markdown",
   "id": "2e60a94d-5157-48cd-9605-e8463b6a1149",
   "metadata": {},
   "source": [
    "Given two integer arrays nums1 and nums2, return an array of their intersection. Each element in the result must appear as many times as it shows in both arrays and you may return the result in any order.\n",
    "\n",
    " \n",
    "\n",
    "Example 1:\n",
    "\n",
    "Input: nums1 = [1,2,2,1], nums2 = [2,2]\n",
    "Output: [2,2]\n",
    "Example 2:\n",
    "\n",
    "Input: nums1 = [4,9,5], nums2 = [9,4,9,8,4]\n",
    "Output: [4,9]\n",
    "Explanation: [9,4] is also accepted.\n",
    " \n",
    "\n",
    "Constraints:\n",
    "\n",
    "1 <= nums1.length, nums2.length <= 1000\n",
    "0 <= nums1[i], nums2[i] <= 1000\n",
    " \n",
    "\n",
    "Follow up:\n",
    "\n",
    "What if the given array is already sorted? How would you optimize your algorithm?\n",
    "What if nums1's size is small compared to nums2's size? Which algorithm is better?\n",
    "What if elements of nums2 are stored on disk, and the memory is limited such that you cannot load all elements into the memory at once?"
   ]
  },
  {
   "cell_type": "code",
   "execution_count": 11,
   "id": "b9d80919-7686-47f2-a4d3-769e6e3c1f8d",
   "metadata": {},
   "outputs": [],
   "source": [
    "class Solution:\n",
    "    def intersect(self, nums1: list[int], nums2: list[int]) -> list[int]:\n",
    "        # If the nums1 and nums2 are sorted, then it just need to compare one by one\n",
    "        s_nums1 = sorted(nums1)\n",
    "        s_nums2 = sorted(nums2)\n",
    "        p1 = 0 # pointer for sorted array\n",
    "        p2 = 0\n",
    "        r = []\n",
    "        while p1<len(nums1) and p2<len(nums2):\n",
    "            if s_nums1[p1]<s_nums2[p2]:\n",
    "                p1 += 1\n",
    "            elif s_nums1[p1]>s_nums2[p2]:\n",
    "                p2 += 1\n",
    "            else:\n",
    "                r.append(nums1[p1])\n",
    "                p1 += 1\n",
    "                p2 += 1\n",
    "        return r\n",
    "        "
   ]
  },
  {
   "cell_type": "code",
   "execution_count": 5,
   "id": "a5d42479-d6d5-4230-bbd6-a9b78224ac8a",
   "metadata": {},
   "outputs": [],
   "source": [
    "class Solution:\n",
    "    def intersect(self, nums1: list[int], nums2: list[int]) -> list[int]:\n",
    "        # Do not consider the follow up\n",
    "        dict1 = {}\n",
    "        for n in nums1:\n",
    "            if n not in dict1:\n",
    "                dict1[n] = 1\n",
    "            else:\n",
    "                dict1[n] += 1\n",
    "        dict2 = {}\n",
    "        for n in nums2:\n",
    "            if n not in dict2:\n",
    "                dict2[n] = 1\n",
    "            else:\n",
    "                dict2[n] += 1\n",
    "        for key in dict1:\n",
    "            if key in dict2:\n",
    "                dict1[key] = min(dict1[key], dict2[key])\n",
    "            else:\n",
    "                dict1[key] = 0\n",
    "        r = []\n",
    "        for key in dict1:\n",
    "            for i in range(dict1[key]):\n",
    "                r.append(key)\n",
    "        return r\n",
    "        \n",
    "        \n",
    "        "
   ]
  },
  {
   "cell_type": "code",
   "execution_count": 12,
   "id": "ce9bc743-65d4-448b-ac0d-813a514146ae",
   "metadata": {},
   "outputs": [],
   "source": [
    "nums1 = [1,2,2,1]\n",
    "nums2 = [2,2]"
   ]
  },
  {
   "cell_type": "code",
   "execution_count": 13,
   "id": "8ccdea49-d658-462a-ac4d-d52a4fce6dfd",
   "metadata": {},
   "outputs": [
    {
     "data": {
      "text/plain": [
       "[2, 1]"
      ]
     },
     "execution_count": 13,
     "metadata": {},
     "output_type": "execute_result"
    }
   ],
   "source": [
    "Solution().intersect(nums1, nums2)"
   ]
  },
  {
   "cell_type": "code",
   "execution_count": null,
   "id": "dae6f1d8-2a29-4fef-9dd1-1a3fa272fa5d",
   "metadata": {},
   "outputs": [],
   "source": []
  }
 ],
 "metadata": {
  "kernelspec": {
   "display_name": "Python 3",
   "language": "python",
   "name": "python3"
  },
  "language_info": {
   "codemirror_mode": {
    "name": "ipython",
    "version": 3
   },
   "file_extension": ".py",
   "mimetype": "text/x-python",
   "name": "python",
   "nbconvert_exporter": "python",
   "pygments_lexer": "ipython3",
   "version": "3.9.12"
  }
 },
 "nbformat": 4,
 "nbformat_minor": 5
}
