{
 "cells": [
  {
   "cell_type": "markdown",
   "id": "df717a7f-668f-48cf-a1db-bd6c7ccecead",
   "metadata": {},
   "source": [
    "Given an integer array nums and an integer val, remove all occurrences of val in nums in-place. The relative order of the elements may be changed.\n",
    "\n",
    "Since it is impossible to change the length of the array in some languages, you must instead have the result be placed in the first part of the array nums. More formally, if there are k elements after removing the duplicates, then the first k elements of nums should hold the final result. It does not matter what you leave beyond the first k elements.\n",
    "\n",
    "Return k after placing the final result in the first k slots of nums.\n",
    "\n",
    "Do not allocate extra space for another array. You must do this by modifying the input array in-place with O(1) extra memory.\n",
    "\n",
    "Custom Judge:\n",
    "\n",
    "The judge will test your solution with the following code:\n",
    "\n",
    "int[] nums = [...]; // Input array\n",
    "int val = ...; // Value to remove\n",
    "int[] expectedNums = [...]; // The expected answer with correct length.\n",
    "                            // It is sorted with no values equaling val.\n",
    "\n",
    "int k = removeElement(nums, val); // Calls your implementation\n",
    "\n",
    "assert k == expectedNums.length;\n",
    "sort(nums, 0, k); // Sort the first k elements of nums\n",
    "for (int i = 0; i < actualLength; i++) {\n",
    "    assert nums[i] == expectedNums[i];\n",
    "}\n",
    "If all assertions pass, then your solution will be accepted.\n",
    "\n",
    " \n",
    "\n",
    "Example 1:\n",
    "\n",
    "Input: nums = [3,2,2,3], val = 3\n",
    "Output: 2, nums = [2,2,_,_]\n",
    "Explanation: Your function should return k = 2, with the first two elements of nums being 2.\n",
    "It does not matter what you leave beyond the returned k (hence they are underscores).\n",
    "Example 2:\n",
    "\n",
    "Input: nums = [0,1,2,2,3,0,4,2], val = 2\n",
    "Output: 5, nums = [0,1,4,0,3,_,_,_]\n",
    "Explanation: Your function should return k = 5, with the first five elements of nums containing 0, 0, 1, 3, and 4.\n",
    "Note that the five elements can be returned in any order.\n",
    "It does not matter what you leave beyond the returned k (hence they are underscores).\n",
    " \n",
    "\n",
    "Constraints:\n",
    "\n",
    "0 <= nums.length <= 100\n",
    "0 <= nums[i] <= 50\n",
    "0 <= val <= 100"
   ]
  },
  {
   "cell_type": "code",
   "execution_count": 2,
   "id": "ab5d9f75-017c-4fc4-8cc3-915c9919ff85",
   "metadata": {},
   "outputs": [],
   "source": [
    "class Solution:\n",
    "    def removeElement(self, nums, val: int) -> int:\n",
    "        iter_pointer = 0\n",
    "        remain_pointer = 0\n",
    "        for iter_pointer in range(len(nums)):\n",
    "            if nums[iter_pointer]==val:\n",
    "                continue\n",
    "            else:\n",
    "                nums[remain_pointer]=nums[iter_pointer]\n",
    "                remain_pointer += 1\n",
    "        return remain_pointer"
   ]
  },
  {
   "cell_type": "code",
   "execution_count": 3,
   "id": "700a2424-6dec-43c6-85d4-df556a9435cf",
   "metadata": {},
   "outputs": [],
   "source": [
    "s = Solution()"
   ]
  },
  {
   "cell_type": "code",
   "execution_count": 4,
   "id": "1e5770e8-fbca-45ff-887f-6e499858fe29",
   "metadata": {},
   "outputs": [],
   "source": [
    "nums = [3,2,2,3]\n",
    "val = 3"
   ]
  },
  {
   "cell_type": "code",
   "execution_count": 6,
   "id": "4e384fcb-e001-4967-96ba-4ea88e774eac",
   "metadata": {},
   "outputs": [
    {
     "data": {
      "text/plain": [
       "2"
      ]
     },
     "execution_count": 6,
     "metadata": {},
     "output_type": "execute_result"
    }
   ],
   "source": [
    "s.removeElement(nums, val)"
   ]
  },
  {
   "cell_type": "code",
   "execution_count": 7,
   "id": "754a4d5b-0202-4727-a459-a2efbb9b9961",
   "metadata": {},
   "outputs": [
    {
     "data": {
      "text/plain": [
       "[2, 2, 2, 3]"
      ]
     },
     "execution_count": 7,
     "metadata": {},
     "output_type": "execute_result"
    }
   ],
   "source": [
    "nums"
   ]
  },
  {
   "cell_type": "code",
   "execution_count": 8,
   "id": "d028764f-7c92-4f9d-89d2-1546f4afa6fa",
   "metadata": {},
   "outputs": [],
   "source": [
    "nums = [0,1,2,2,3,0,4,2]\n",
    "val = 2"
   ]
  },
  {
   "cell_type": "code",
   "execution_count": 9,
   "id": "d81c2f00-9ee6-44cf-919d-916d0a05a687",
   "metadata": {},
   "outputs": [
    {
     "data": {
      "text/plain": [
       "5"
      ]
     },
     "execution_count": 9,
     "metadata": {},
     "output_type": "execute_result"
    }
   ],
   "source": [
    "s.removeElement(nums, val)"
   ]
  },
  {
   "cell_type": "code",
   "execution_count": 10,
   "id": "40e25890-f6b5-4e74-8c30-5121ca300482",
   "metadata": {},
   "outputs": [
    {
     "data": {
      "text/plain": [
       "[0, 1, 3, 0, 4, 0, 4, 2]"
      ]
     },
     "execution_count": 10,
     "metadata": {},
     "output_type": "execute_result"
    }
   ],
   "source": [
    "nums"
   ]
  },
  {
   "cell_type": "code",
   "execution_count": null,
   "id": "18f9a801-c236-43e4-a9dc-9021b9a8ac92",
   "metadata": {},
   "outputs": [],
   "source": []
  }
 ],
 "metadata": {
  "kernelspec": {
   "display_name": "Python 3",
   "language": "python",
   "name": "python3"
  },
  "language_info": {
   "codemirror_mode": {
    "name": "ipython",
    "version": 3
   },
   "file_extension": ".py",
   "mimetype": "text/x-python",
   "name": "python",
   "nbconvert_exporter": "python",
   "pygments_lexer": "ipython3",
   "version": "3.9.12"
  }
 },
 "nbformat": 4,
 "nbformat_minor": 5
}
