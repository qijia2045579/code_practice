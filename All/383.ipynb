{
 "cells": [
  {
   "cell_type": "markdown",
   "id": "51fa96af-a136-44e1-83f1-a10822dbe9a0",
   "metadata": {},
   "source": [
    "Given two strings ransomNote and magazine, return true if ransomNote can be constructed by using the letters from magazine and false otherwise.\n",
    "\n",
    "Each letter in magazine can only be used once in ransomNote.\n",
    "\n",
    " \n",
    "\n",
    "Example 1:\n",
    "\n",
    "Input: ransomNote = \"a\", magazine = \"b\"\n",
    "Output: false\n",
    "Example 2:\n",
    "\n",
    "Input: ransomNote = \"aa\", magazine = \"ab\"\n",
    "Output: false\n",
    "Example 3:\n",
    "\n",
    "Input: ransomNote = \"aa\", magazine = \"aab\"\n",
    "Output: true\n",
    " \n",
    "\n",
    "Constraints:\n",
    "\n",
    "1 <= ransomNote.length, magazine.length <= 105\n",
    "ransomNote and magazine consist of lowercase English letters."
   ]
  },
  {
   "cell_type": "code",
   "execution_count": 1,
   "id": "e4d30847-b805-488c-980e-f899f965da43",
   "metadata": {},
   "outputs": [],
   "source": [
    "class Solution:\n",
    "    def canConstruct(self, ransomNote: str, magazine: str) -> bool:\n",
    "        if len(ransomNote)>len(magazine):\n",
    "            return False\n",
    "        mag_dict = {}\n",
    "        for c in magazine:\n",
    "            if c not in mag_dict:\n",
    "                mag_dict[c] = 1\n",
    "            else:\n",
    "                mag_dict[c] += 1\n",
    "        for c in ransomNote:\n",
    "            if c in mag_dict:\n",
    "                mag_dict[c] -= 1\n",
    "            else:\n",
    "                return False\n",
    "        for c in mag_dict:\n",
    "            if mag_dict[c]<0:\n",
    "                return False\n",
    "        return True\n",
    "        "
   ]
  },
  {
   "cell_type": "code",
   "execution_count": 2,
   "id": "5ef40e9f-b4a4-4223-96ba-bc6661065b7a",
   "metadata": {},
   "outputs": [],
   "source": [
    "ransomNote = \"a\"\n",
    "magazine = \"b\""
   ]
  },
  {
   "cell_type": "code",
   "execution_count": 4,
   "id": "508ca771-61a0-4f38-8b44-bacb0466a68d",
   "metadata": {},
   "outputs": [],
   "source": [
    "ransomNote = \"aa\"\n",
    "magazine = \"ab\""
   ]
  },
  {
   "cell_type": "code",
   "execution_count": 6,
   "id": "fcfa5479-2be3-4bf4-a14f-19d24150197d",
   "metadata": {},
   "outputs": [],
   "source": [
    "ransomNote = \"aa\"\n",
    "magazine = \"aab\""
   ]
  },
  {
   "cell_type": "code",
   "execution_count": 7,
   "id": "362a07e4-54ec-4b45-8440-39438a72f6ec",
   "metadata": {},
   "outputs": [
    {
     "data": {
      "text/plain": [
       "True"
      ]
     },
     "execution_count": 7,
     "metadata": {},
     "output_type": "execute_result"
    }
   ],
   "source": [
    "Solution().canConstruct(ransomNote, magazine)"
   ]
  },
  {
   "cell_type": "code",
   "execution_count": null,
   "id": "1f5faee4-bfe1-4166-9d95-fa884b8e3682",
   "metadata": {},
   "outputs": [],
   "source": []
  }
 ],
 "metadata": {
  "kernelspec": {
   "display_name": "Python 3",
   "language": "python",
   "name": "python3"
  },
  "language_info": {
   "codemirror_mode": {
    "name": "ipython",
    "version": 3
   },
   "file_extension": ".py",
   "mimetype": "text/x-python",
   "name": "python",
   "nbconvert_exporter": "python",
   "pygments_lexer": "ipython3",
   "version": "3.9.12"
  }
 },
 "nbformat": 4,
 "nbformat_minor": 5
}
