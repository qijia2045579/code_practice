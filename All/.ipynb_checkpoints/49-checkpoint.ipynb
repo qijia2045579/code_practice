{
 "cells": [
  {
   "cell_type": "markdown",
   "id": "ce151a55-f21f-482e-86fb-2158ab29e8ff",
   "metadata": {},
   "source": [
    "Given an array of strings strs, group the anagrams together. You can return the answer in any order.\n",
    "\n",
    "An Anagram is a word or phrase formed by rearranging the letters of a different word or phrase, typically using all the original letters exactly once.\n",
    "\n",
    " \n",
    "\n",
    "Example 1:\n",
    "\n",
    "Input: strs = [\"eat\",\"tea\",\"tan\",\"ate\",\"nat\",\"bat\"]\n",
    "Output: [[\"bat\"],[\"nat\",\"tan\"],[\"ate\",\"eat\",\"tea\"]]\n",
    "Example 2:\n",
    "\n",
    "Input: strs = [\"\"]\n",
    "Output: [[\"\"]]\n",
    "Example 3:\n",
    "\n",
    "Input: strs = [\"a\"]\n",
    "Output: [[\"a\"]]\n",
    " \n",
    "\n",
    "Constraints:\n",
    "\n",
    "1 <= strs.length <= 104\n",
    "0 <= strs[i].length <= 100\n",
    "strs[i] consists of lowercase English letters."
   ]
  },
  {
   "cell_type": "code",
   "execution_count": 39,
   "id": "310edf82-5545-4e4b-98a6-a193214f60a1",
   "metadata": {},
   "outputs": [],
   "source": [
    "class Solution:\n",
    "    def groupAnagrams(self, strs: list[str]) -> list[list[str]]:\n",
    "        result = []\n",
    "        all_cases = {}\n",
    "        for s in strs:\n",
    "            alphabet = [0]*26\n",
    "            for c in s:\n",
    "                alphabet[ord(c)-ord('a')] += 1\n",
    "            stringlize_alphabet = str(alphabet)\n",
    "            if stringlize_alphabet not in all_cases:\n",
    "                all_cases[stringlize_alphabet] = [s]\n",
    "            else:\n",
    "                all_cases[stringlize_alphabet].append(s)\n",
    "        for key in all_cases:\n",
    "            result.append(all_cases[key])\n",
    "        return result\n",
    "        \n",
    "        \n",
    "        \n",
    "        \n",
    "# Below approach has problem, dict cannot be hashed again\n",
    "#         all_dicts_set = {}\n",
    "#         for s in strs:\n",
    "#             s_set = set(s)\n",
    "#             s_dict = {x:strs.count(x) for x in s_set}\n",
    "#             s_list = list(s_dict)\n",
    "#             if s_list not in all_dicts_set:\n",
    "#                 all_dicts_set[s_dict] = [s]\n",
    "#             else:\n",
    "#                 all_dicts_set[s_dict].append(s)\n",
    "        \n",
    "#         return [all_dicts_set[key] for key in all_dicts_set]"
   ]
  },
  {
   "cell_type": "code",
   "execution_count": 40,
   "id": "179f8c7a-24db-447a-963c-6a99e8a7d16f",
   "metadata": {},
   "outputs": [],
   "source": [
    "strs = [\"eat\",\"tea\",\"tan\",\"ate\",\"nat\",\"bat\"]"
   ]
  },
  {
   "cell_type": "code",
   "execution_count": 41,
   "id": "cde2a59b-b24a-44f9-9669-48544dff0384",
   "metadata": {},
   "outputs": [
    {
     "data": {
      "text/plain": [
       "[['eat', 'tea', 'ate'], ['tan', 'nat'], ['bat']]"
      ]
     },
     "execution_count": 41,
     "metadata": {},
     "output_type": "execute_result"
    }
   ],
   "source": [
    "Solution().groupAnagrams(strs)"
   ]
  },
  {
   "cell_type": "code",
   "execution_count": null,
   "id": "d18fa309-b051-4979-aebf-9e039aa3db3b",
   "metadata": {},
   "outputs": [],
   "source": []
  }
 ],
 "metadata": {
  "kernelspec": {
   "display_name": "Python 3",
   "language": "python",
   "name": "python3"
  },
  "language_info": {
   "codemirror_mode": {
    "name": "ipython",
    "version": 3
   },
   "file_extension": ".py",
   "mimetype": "text/x-python",
   "name": "python",
   "nbconvert_exporter": "python",
   "pygments_lexer": "ipython3",
   "version": "3.9.12"
  }
 },
 "nbformat": 4,
 "nbformat_minor": 5
}
