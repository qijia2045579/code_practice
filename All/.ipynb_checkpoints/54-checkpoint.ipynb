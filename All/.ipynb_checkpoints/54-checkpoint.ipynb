{
 "cells": [
  {
   "cell_type": "markdown",
   "id": "4f566873-689c-4797-a564-e8af79c38d90",
   "metadata": {},
   "source": [
    "Given an m x n matrix, return all elements of the matrix in spiral order.\n",
    "\n",
    " \n",
    "\n",
    "Example 1:\n",
    "\n",
    "\n",
    "Input: matrix = [[1,2,3],[4,5,6],[7,8,9]]\n",
    "Output: [1,2,3,6,9,8,7,4,5]\n",
    "Example 2:\n",
    "\n",
    "\n",
    "Input: matrix = [[1,2,3,4],[5,6,7,8],[9,10,11,12]]\n",
    "Output: [1,2,3,4,8,12,11,10,9,5,6,7]\n",
    " \n",
    "\n",
    "Constraints:\n",
    "\n",
    "m == matrix.length\n",
    "n == matrix[i].length\n",
    "1 <= m, n <= 10\n",
    "-100 <= matrix[i][j] <= 100"
   ]
  },
  {
   "cell_type": "code",
   "execution_count": 18,
   "id": "cdd1b5c3-ae39-4a58-80b3-203264b11103",
   "metadata": {},
   "outputs": [],
   "source": [
    "class Solution:\n",
    "    def spiralOrder(self, matrix: list[list[int]]) -> list[int]:\n",
    "        # Copy the original matrix\n",
    "        mat = matrix.copy()\n",
    "        # get the length of this matrix\n",
    "        m = len(mat)\n",
    "        n = len(mat[0])\n",
    "        # define the pointer and initialize its position\n",
    "        p = (0,0)\n",
    "        # Used for saving result\n",
    "        result = []\n",
    "        # A variable to control the direction\n",
    "        d = 0\n",
    "        for i in range(m*n):\n",
    "            # print(p)\n",
    "            row = p[0]\n",
    "            col = p[1]\n",
    "            r = mat[row][col]\n",
    "            # Set the viewed position to \"*\", so we can check whether we meet it before\n",
    "            mat[row][col] = '*'\n",
    "            result.append(r)\n",
    "            # To prevent the last position get into infinite loop, we ensure i is not larger than the last element index\n",
    "            while i<m*n-1:\n",
    "                row = p[0]\n",
    "                col = p[1]\n",
    "                # change pointer based on direction\n",
    "                if d==0:\n",
    "                    col = col+1\n",
    "                elif d==1:\n",
    "                    row = row+1\n",
    "                elif d==2:\n",
    "                    col = col-1\n",
    "                elif d==3:\n",
    "                    row = row-1\n",
    "                else:\n",
    "                    raise ValueError(\"Wrong direction value\")\n",
    "                try:\n",
    "                    # Only when the row and col are positive and not went through yet, we record next position\n",
    "                    if row>=0 and col>=0 and mat[row][col]!='*':\n",
    "                        p = (row, col)\n",
    "                        break\n",
    "                except:\n",
    "                    pass\n",
    "                # Otherwise we need to set another direction\n",
    "                d = d+1 if d!=3 else 0\n",
    "        return result\n",
    "                \n",
    "        \n",
    "        "
   ]
  },
  {
   "cell_type": "code",
   "execution_count": 19,
   "id": "796500f3-5326-4cbe-97a6-6712b1793ce1",
   "metadata": {},
   "outputs": [],
   "source": [
    "matrix = [[1,2,3],[4,5,6],[7,8,9]]"
   ]
  },
  {
   "cell_type": "code",
   "execution_count": 21,
   "id": "67b15840-5fda-4900-932e-9a09bb3ad76b",
   "metadata": {},
   "outputs": [],
   "source": [
    "matrix = [[1,2,3,4],[5,6,7,8],[9,10,11,12]]"
   ]
  },
  {
   "cell_type": "code",
   "execution_count": 22,
   "id": "4ca6e5cc-6ca5-4650-9695-88241c9412de",
   "metadata": {},
   "outputs": [
    {
     "data": {
      "text/plain": [
       "[1, 2, 3, 4, 8, 12, 11, 10, 9, 5, 6, 7]"
      ]
     },
     "execution_count": 22,
     "metadata": {},
     "output_type": "execute_result"
    }
   ],
   "source": [
    "Solution().spiralOrder(matrix)"
   ]
  },
  {
   "cell_type": "code",
   "execution_count": null,
   "id": "5086f0a8-36fc-491d-9ebe-c65183a3a821",
   "metadata": {},
   "outputs": [],
   "source": []
  }
 ],
 "metadata": {
  "kernelspec": {
   "display_name": "Python 3",
   "language": "python",
   "name": "python3"
  },
  "language_info": {
   "codemirror_mode": {
    "name": "ipython",
    "version": 3
   },
   "file_extension": ".py",
   "mimetype": "text/x-python",
   "name": "python",
   "nbconvert_exporter": "python",
   "pygments_lexer": "ipython3",
   "version": "3.9.12"
  }
 },
 "nbformat": 4,
 "nbformat_minor": 5
}
