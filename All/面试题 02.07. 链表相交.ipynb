{
 "cells": [
  {
   "cell_type": "markdown",
   "id": "5f1b0b43-57a0-4988-831d-78a311a7a1c5",
   "metadata": {},
   "source": [
    "给你两个单链表的头节点 headA 和 headB ，请你找出并返回两个单链表相交的起始节点。如果两个链表没有交点，返回 null 。\n",
    "\n",
    "图示两个链表在节点 c1 开始相交：\n",
    "\n",
    "\n",
    "\n",
    "题目数据 保证 整个链式结构中不存在环。\n",
    "\n",
    "注意，函数返回结果后，链表必须 保持其原始结构 。\n",
    "\n",
    " \n",
    "\n",
    "示例 1：\n",
    "\n",
    "\n",
    "\n",
    "输入：intersectVal = 8, listA = [4,1,8,4,5], listB = [5,0,1,8,4,5], skipA = 2, skipB = 3\n",
    "输出：Intersected at '8'\n",
    "解释：相交节点的值为 8 （注意，如果两个链表相交则不能为 0）。\n",
    "从各自的表头开始算起，链表 A 为 [4,1,8,4,5]，链表 B 为 [5,0,1,8,4,5]。\n",
    "在 A 中，相交节点前有 2 个节点；在 B 中，相交节点前有 3 个节点。\n",
    "示例 2：\n",
    "\n",
    "\n",
    "\n",
    "输入：intersectVal = 2, listA = [0,9,1,2,4], listB = [3,2,4], skipA = 3, skipB = 1\n",
    "输出：Intersected at '2'\n",
    "解释：相交节点的值为 2 （注意，如果两个链表相交则不能为 0）。\n",
    "从各自的表头开始算起，链表 A 为 [0,9,1,2,4]，链表 B 为 [3,2,4]。\n",
    "在 A 中，相交节点前有 3 个节点；在 B 中，相交节点前有 1 个节点。\n",
    "示例 3：\n",
    "\n",
    "\n",
    "\n",
    "输入：intersectVal = 0, listA = [2,6,4], listB = [1,5], skipA = 3, skipB = 2\n",
    "输出：null\n",
    "解释：从各自的表头开始算起，链表 A 为 [2,6,4]，链表 B 为 [1,5]。\n",
    "由于这两个链表不相交，所以 intersectVal 必须为 0，而 skipA 和 skipB 可以是任意值。\n",
    "这两个链表不相交，因此返回 null 。\n",
    " \n",
    "\n",
    "提示：\n",
    "\n",
    "listA 中节点数目为 m\n",
    "listB 中节点数目为 n\n",
    "0 <= m, n <= 3 * 104\n",
    "1 <= Node.val <= 105\n",
    "0 <= skipA <= m\n",
    "0 <= skipB <= n\n",
    "如果 listA 和 listB 没有交点，intersectVal 为 0\n",
    "如果 listA 和 listB 有交点，intersectVal == listA[skipA + 1] == listB[skipB + 1]\n",
    " \n",
    "\n",
    "进阶：你能否设计一个时间复杂度 O(n) 、仅用 O(1) 内存的解决方案？\n",
    "\n",
    "来源：力扣（LeetCode）\n",
    "链接：https://leetcode.cn/problems/intersection-of-two-linked-lists-lcci\n",
    "著作权归领扣网络所有。商业转载请联系官方授权，非商业转载请注明出处。"
   ]
  },
  {
   "cell_type": "code",
   "execution_count": 1,
   "id": "89211235-8429-441e-8ee4-48ed7bdac4eb",
   "metadata": {},
   "outputs": [],
   "source": [
    "# This question cannot find corresponding link in the US Leetcode"
   ]
  },
  {
   "cell_type": "code",
   "execution_count": 3,
   "id": "7595c092-2eb4-402a-a621-6bc118d71a7b",
   "metadata": {},
   "outputs": [],
   "source": [
    "# Definition for singly-linked list.\n",
    "class ListNode:\n",
    "    def __init__(self, val=0, next=None):\n",
    "        self.val = val\n",
    "        self.next = next"
   ]
  },
  {
   "cell_type": "code",
   "execution_count": 4,
   "id": "15aecbf1-6906-44da-8eb5-d3a64fed9f5c",
   "metadata": {},
   "outputs": [],
   "source": [
    "class Solution:\n",
    "    def getIntersectionNode(self, headA: ListNode, headB: ListNode) -> ListNode:\n",
    "        \"\"\"\n",
    "        根据快慢法则，走的快的一定会追上走得慢的。\n",
    "        在这道题里，有的链表短，他走完了就去走另一条链表，我们可以理解为走的快的指针。\n",
    "\n",
    "        那么，只要其中一个链表走完了，就去走另一条链表的路。如果有交点，他们最终一定会在同一个\n",
    "        位置相遇\n",
    "        \"\"\"\n",
    "        cur_a, cur_b = headA, headB     # 用两个指针代替a和b\n",
    "\n",
    "        \n",
    "        while cur_a != cur_b:\n",
    "            cur_a = cur_a.next if cur_a else headB      # 如果a走完了，那么就切换到b走\n",
    "            cur_b = cur_b.next if cur_b else headA      # 同理，b走完了就切换到a\n",
    "        \n",
    "        return cur_a"
   ]
  },
  {
   "cell_type": "code",
   "execution_count": null,
   "id": "a8c80e21-91c0-4462-ac9e-5d6665fafa3c",
   "metadata": {},
   "outputs": [],
   "source": []
  }
 ],
 "metadata": {
  "kernelspec": {
   "display_name": "Python 3",
   "language": "python",
   "name": "python3"
  },
  "language_info": {
   "codemirror_mode": {
    "name": "ipython",
    "version": 3
   },
   "file_extension": ".py",
   "mimetype": "text/x-python",
   "name": "python",
   "nbconvert_exporter": "python",
   "pygments_lexer": "ipython3",
   "version": "3.9.12"
  }
 },
 "nbformat": 4,
 "nbformat_minor": 5
}
