{
 "cells": [
  {
   "cell_type": "markdown",
   "id": "c02471dc-e009-48ba-b690-d54094fdf180",
   "metadata": {},
   "source": [
    "Given an array of positive integers nums and a positive integer target, return the minimal length of a contiguous subarray [numsl, numsl+1, ..., numsr-1, numsr] of which the sum is greater than or equal to target. If there is no such subarray, return 0 instead.\n",
    "\n",
    " \n",
    "\n",
    "Example 1:\n",
    "\n",
    "Input: target = 7, nums = [2,3,1,2,4,3]\n",
    "Output: 2\n",
    "Explanation: The subarray [4,3] has the minimal length under the problem constraint.\n",
    "Example 2:\n",
    "\n",
    "Input: target = 4, nums = [1,4,4]\n",
    "Output: 1\n",
    "Example 3:\n",
    "\n",
    "Input: target = 11, nums = [1,1,1,1,1,1,1,1]\n",
    "Output: 0\n",
    " \n",
    "\n",
    "Constraints:\n",
    "\n",
    "1 <= target <= 109\n",
    "1 <= nums.length <= 105\n",
    "1 <= nums[i] <= 105\n",
    " \n",
    "\n",
    "Follow up: If you have figured out the O(n) solution, try coding another solution of which the time complexity is O(n log(n))."
   ]
  },
  {
   "cell_type": "code",
   "execution_count": 109,
   "id": "ef57953b-4621-46eb-908e-6e76d426d74b",
   "metadata": {},
   "outputs": [],
   "source": [
    "class Solution:\n",
    "    def minSubArrayLen(self, target: int, nums: list[int]) -> int:\n",
    "        # This question is for subarray >= target, not == target\n",
    "        # Notice this array is all positive\n",
    "        # Save all results\n",
    "        results = []\n",
    "        # left pointer\n",
    "        l_p = 0\n",
    "        # right pointer\n",
    "        r_p = 0\n",
    "        # subarray\n",
    "        sumsub = nums[r_p]\n",
    "        while True:\n",
    "            if sumsub<target:\n",
    "                r_p += 1\n",
    "                if r_p>=len(nums):\n",
    "                    break\n",
    "                else:\n",
    "                    sumsub += nums[r_p]\n",
    "            else:\n",
    "                sumsub = sumsub-nums[l_p]\n",
    "                l_p += 1\n",
    "                if sumsub<target:\n",
    "                    # results.append(nums[l_p-1:r_p+1])\n",
    "                    results.append(r_p-l_p+2)\n",
    "        # print(results)\n",
    "        minr_len = len(nums)\n",
    "        minr = None\n",
    "        if len(results)==0:\n",
    "            return 0\n",
    "        else:\n",
    "            # return min([len(x) for x in results])\n",
    "            return min(results)\n",
    "        \n",
    "        # This is working for subarray == target\n",
    "        # # Notice the array is all positve, no negative or 0\n",
    "        # # subarray, right pointer and left pointer\n",
    "        # r_p = 0\n",
    "        # l_p = 0\n",
    "        # results = []\n",
    "        # while True:\n",
    "        #     try:\n",
    "        #         sub = nums[l_p:r_p]\n",
    "        #         if r_p>len(nums):\n",
    "        #             break\n",
    "        #     except:\n",
    "        #         break\n",
    "        #     sumsub = sum(sub)\n",
    "        #     if sumsub==target:\n",
    "        #         results.append(nums[l_p:r_p])\n",
    "        #         l_p += 1\n",
    "        #         r_p += 1\n",
    "        #     elif sumsub<target:\n",
    "        #         r_p += 1\n",
    "        #     else:\n",
    "        #         l_p += 1\n",
    "        # minr_len = len(nums)\n",
    "        # minr = None\n",
    "        # print(results)\n",
    "        # if len(results)==0:\n",
    "        #     return 0\n",
    "        # else:\n",
    "        #     for r in results:\n",
    "        #         if len(r)<minr_len:\n",
    "        #             minr_len=len(r)\n",
    "        #             minr = r\n",
    "        # return minr_len\n",
    "                    "
   ]
  },
  {
   "cell_type": "code",
   "execution_count": 110,
   "id": "c8f9d9a4-b7a2-4e3f-9610-c794db15f5cc",
   "metadata": {},
   "outputs": [],
   "source": [
    "s = Solution()"
   ]
  },
  {
   "cell_type": "code",
   "execution_count": 111,
   "id": "9c9c5f47-8edd-478c-ae75-af50f15ccc04",
   "metadata": {},
   "outputs": [
    {
     "data": {
      "text/plain": [
       "2"
      ]
     },
     "execution_count": 111,
     "metadata": {},
     "output_type": "execute_result"
    }
   ],
   "source": [
    "target = 7\n",
    "nums = [2,3,1,2,4,3] \n",
    "s.minSubArrayLen(target, nums)"
   ]
  },
  {
   "cell_type": "code",
   "execution_count": 112,
   "id": "3d4ab714-b8c9-4427-ac78-e2da05d50c73",
   "metadata": {},
   "outputs": [
    {
     "data": {
      "text/plain": [
       "1"
      ]
     },
     "execution_count": 112,
     "metadata": {},
     "output_type": "execute_result"
    }
   ],
   "source": [
    "target = 4\n",
    "nums = [1,4,4]\n",
    "s.minSubArrayLen(target, nums)"
   ]
  },
  {
   "cell_type": "code",
   "execution_count": 113,
   "id": "48f950bb-8ffc-424f-bb9b-c2d42f0f10e2",
   "metadata": {},
   "outputs": [
    {
     "data": {
      "text/plain": [
       "0"
      ]
     },
     "execution_count": 113,
     "metadata": {},
     "output_type": "execute_result"
    }
   ],
   "source": [
    "target = 11\n",
    "nums = [1,1,1,1,1,1,1,1]\n",
    "s.minSubArrayLen(target, nums)"
   ]
  },
  {
   "cell_type": "code",
   "execution_count": 114,
   "id": "2ee7f3fb-3d55-4269-8f77-f67594ac0052",
   "metadata": {},
   "outputs": [
    {
     "data": {
      "text/plain": [
       "3"
      ]
     },
     "execution_count": 114,
     "metadata": {},
     "output_type": "execute_result"
    }
   ],
   "source": [
    "target = 11\n",
    "nums = [1,2,3,4,5]\n",
    "s.minSubArrayLen(target, nums)"
   ]
  },
  {
   "cell_type": "code",
   "execution_count": null,
   "id": "f6ed2b6d-d340-4505-bdef-a9e98eb74e1d",
   "metadata": {},
   "outputs": [],
   "source": []
  }
 ],
 "metadata": {
  "kernelspec": {
   "display_name": "Python 3",
   "language": "python",
   "name": "python3"
  },
  "language_info": {
   "codemirror_mode": {
    "name": "ipython",
    "version": 3
   },
   "file_extension": ".py",
   "mimetype": "text/x-python",
   "name": "python",
   "nbconvert_exporter": "python",
   "pygments_lexer": "ipython3",
   "version": "3.9.12"
  }
 },
 "nbformat": 4,
 "nbformat_minor": 5
}
