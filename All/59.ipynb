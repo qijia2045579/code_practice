{
 "cells": [
  {
   "cell_type": "markdown",
   "id": "d90c7aee-4931-4d22-825b-6cb655355b86",
   "metadata": {},
   "source": [
    "Given a positive integer n, generate an n x n matrix filled with elements from 1 to n2 in spiral order.\n",
    "\n",
    " \n",
    "\n",
    "Example 1:\n",
    "\n",
    "\n",
    "Input: n = 3\n",
    "Output: [[1,2,3],[8,9,4],[7,6,5]]\n",
    "Example 2:\n",
    "\n",
    "Input: n = 1\n",
    "Output: [[1]]\n",
    " \n",
    "\n",
    "Constraints:\n",
    "\n",
    "1 <= n <= 20"
   ]
  },
  {
   "cell_type": "code",
   "execution_count": 7,
   "id": "ccbe4d62-b5f0-4477-8d31-d39418f461f2",
   "metadata": {},
   "outputs": [],
   "source": [
    "class Solution:        \n",
    "    def generateMatrix(self, n: int) -> list[list[int]]:\n",
    "        temp = [0 for i in range(n)]\n",
    "        r = [temp.copy() for i in range(n)]\n",
    "        p = (0, 0)\n",
    "        count = 1\n",
    "        d = 0\n",
    "        for i in range(n*n):\n",
    "            a, b = p[0], p[1]\n",
    "            r[a][b] = count\n",
    "            count += 1\n",
    "            loop = True if i != n*n-1 else False\n",
    "            while loop:\n",
    "                a, b = p[0], p[1]\n",
    "                if d==0:\n",
    "                    b = b+1\n",
    "                elif d==1:\n",
    "                    a = a+1\n",
    "                elif d==2:\n",
    "                    b = b-1\n",
    "                elif d==3:\n",
    "                    a = a-1\n",
    "                else:\n",
    "                    raise ValueError(\"Wrong Direction Set\")\n",
    "                if a<0 or b<0:\n",
    "                    d = d + 1 if d<3 else 0\n",
    "                    continue\n",
    "                try:\n",
    "                    if r[a][b]!=0:\n",
    "                        d = d + 1 if d<3 else 0\n",
    "                        continue\n",
    "                    p = (a, b)\n",
    "                    loop = False\n",
    "                except:\n",
    "                    d = d + 1 if d<3 else 0\n",
    "        return r\n",
    "        "
   ]
  },
  {
   "cell_type": "code",
   "execution_count": 31,
   "id": "78aa821c-a4c3-4c41-9746-564157585e88",
   "metadata": {},
   "outputs": [],
   "source": [
    "n = 16\n",
    "#(0,0), (0,1), (0,2), (1,2), (2,2), (2,1), (2,0), (1,0), (1,1)"
   ]
  },
  {
   "cell_type": "code",
   "execution_count": 32,
   "id": "9e4d7a9e-976e-47cc-aae4-a04f10825702",
   "metadata": {},
   "outputs": [
    {
     "data": {
      "text/plain": [
       "[[1, 2, 3, 4, 5, 6, 7, 8, 9, 10, 11, 12, 13, 14, 15, 16],\n",
       " [60, 61, 62, 63, 64, 65, 66, 67, 68, 69, 70, 71, 72, 73, 74, 17],\n",
       " [59, 112, 113, 114, 115, 116, 117, 118, 119, 120, 121, 122, 123, 124, 75, 18],\n",
       " [58, 111, 156, 157, 158, 159, 160, 161, 162, 163, 164, 165, 166, 125, 76, 19],\n",
       " [57, 110, 155, 192, 193, 194, 195, 196, 197, 198, 199, 200, 167, 126, 77, 20],\n",
       " [56, 109, 154, 191, 220, 221, 222, 223, 224, 225, 226, 201, 168, 127, 78, 21],\n",
       " [55, 108, 153, 190, 219, 240, 241, 242, 243, 244, 227, 202, 169, 128, 79, 22],\n",
       " [54, 107, 152, 189, 218, 239, 252, 253, 254, 245, 228, 203, 170, 129, 80, 23],\n",
       " [53, 106, 151, 188, 217, 238, 251, 256, 255, 246, 229, 204, 171, 130, 81, 24],\n",
       " [52, 105, 150, 187, 216, 237, 250, 249, 248, 247, 230, 205, 172, 131, 82, 25],\n",
       " [51, 104, 149, 186, 215, 236, 235, 234, 233, 232, 231, 206, 173, 132, 83, 26],\n",
       " [50, 103, 148, 185, 214, 213, 212, 211, 210, 209, 208, 207, 174, 133, 84, 27],\n",
       " [49, 102, 147, 184, 183, 182, 181, 180, 179, 178, 177, 176, 175, 134, 85, 28],\n",
       " [48, 101, 146, 145, 144, 143, 142, 141, 140, 139, 138, 137, 136, 135, 86, 29],\n",
       " [47, 100, 99, 98, 97, 96, 95, 94, 93, 92, 91, 90, 89, 88, 87, 30],\n",
       " [46, 45, 44, 43, 42, 41, 40, 39, 38, 37, 36, 35, 34, 33, 32, 31]]"
      ]
     },
     "execution_count": 32,
     "metadata": {},
     "output_type": "execute_result"
    }
   ],
   "source": [
    "Solution().generateMatrix(n)"
   ]
  },
  {
   "cell_type": "code",
   "execution_count": null,
   "id": "12a78285-bbf0-482f-bfad-9e257a6d619b",
   "metadata": {},
   "outputs": [],
   "source": []
  }
 ],
 "metadata": {
  "kernelspec": {
   "display_name": "Python 3",
   "language": "python",
   "name": "python3"
  },
  "language_info": {
   "codemirror_mode": {
    "name": "ipython",
    "version": 3
   },
   "file_extension": ".py",
   "mimetype": "text/x-python",
   "name": "python",
   "nbconvert_exporter": "python",
   "pygments_lexer": "ipython3",
   "version": "3.9.12"
  }
 },
 "nbformat": 4,
 "nbformat_minor": 5
}
