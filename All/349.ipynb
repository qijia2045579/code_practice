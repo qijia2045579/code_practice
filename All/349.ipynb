{
 "cells": [
  {
   "cell_type": "markdown",
   "id": "9ffdc255-92b7-4258-870b-63ad9a511ea6",
   "metadata": {},
   "source": [
    "Given two integer arrays nums1 and nums2, return an array of their intersection. Each element in the result must be unique and you may return the result in any order.\n",
    "\n",
    " \n",
    "\n",
    "Example 1:\n",
    "\n",
    "Input: nums1 = [1,2,2,1], nums2 = [2,2]\n",
    "Output: [2]\n",
    "Example 2:\n",
    "\n",
    "Input: nums1 = [4,9,5], nums2 = [9,4,9,8,4]\n",
    "Output: [9,4]\n",
    "Explanation: [4,9] is also accepted.\n",
    " \n",
    "\n",
    "Constraints:\n",
    "\n",
    "1 <= nums1.length, nums2.length <= 1000\n",
    "0 <= nums1[i], nums2[i] <= 1000\n",
    "Accepted\n",
    "680,859\n",
    "Submissions\n",
    "981,617"
   ]
  },
  {
   "cell_type": "code",
   "execution_count": 1,
   "id": "392d7fb3-d416-4efd-a06f-958c9d9c7241",
   "metadata": {},
   "outputs": [],
   "source": [
    "class Solution:\n",
    "    def intersection(self, nums1: list[int], nums2: list[int]) -> list[int]:\n",
    "        return list(set(nums1).intersection(set(nums2)))"
   ]
  },
  {
   "cell_type": "code",
   "execution_count": 2,
   "id": "605254f7-c786-4e12-8cc8-327ba5131fe0",
   "metadata": {},
   "outputs": [],
   "source": [
    "nums1 = [1,2,2,1]\n",
    "nums2 = [2,2]"
   ]
  },
  {
   "cell_type": "code",
   "execution_count": 3,
   "id": "facc3b49-6924-440e-9123-76aefffccffa",
   "metadata": {},
   "outputs": [
    {
     "data": {
      "text/plain": [
       "[2]"
      ]
     },
     "execution_count": 3,
     "metadata": {},
     "output_type": "execute_result"
    }
   ],
   "source": [
    "Solution().intersection(nums1,nums2)"
   ]
  },
  {
   "cell_type": "code",
   "execution_count": null,
   "id": "756deb23-18b6-4312-a4db-306ec8b350d8",
   "metadata": {},
   "outputs": [],
   "source": []
  }
 ],
 "metadata": {
  "kernelspec": {
   "display_name": "Python 3",
   "language": "python",
   "name": "python3"
  },
  "language_info": {
   "codemirror_mode": {
    "name": "ipython",
    "version": 3
   },
   "file_extension": ".py",
   "mimetype": "text/x-python",
   "name": "python",
   "nbconvert_exporter": "python",
   "pygments_lexer": "ipython3",
   "version": "3.9.12"
  }
 },
 "nbformat": 4,
 "nbformat_minor": 5
}
