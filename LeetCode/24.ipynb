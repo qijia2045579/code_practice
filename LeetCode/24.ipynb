{
 "cells": [
  {
   "cell_type": "markdown",
   "id": "f6da1237-39b5-4db2-b5dd-15203441b527",
   "metadata": {},
   "source": [
    "Given a linked list, swap every two adjacent nodes and return its head. You must solve the problem without modifying the values in the list's nodes (i.e., only nodes themselves may be changed.)\n",
    "\n",
    " \n",
    "\n",
    "Example 1:\n",
    "\n",
    "\n",
    "Input: head = [1,2,3,4]\n",
    "Output: [2,1,4,3]\n",
    "Example 2:\n",
    "\n",
    "Input: head = []\n",
    "Output: []\n",
    "Example 3:\n",
    "\n",
    "Input: head = [1]\n",
    "Output: [1]\n",
    " \n",
    "\n",
    "Constraints:\n",
    "\n",
    "The number of nodes in the list is in the range [0, 100].\n",
    "0 <= Node.val <= 100"
   ]
  },
  {
   "cell_type": "code",
   "execution_count": 1,
   "id": "b49f813f-92f3-41b2-bf76-6450de126e3e",
   "metadata": {},
   "outputs": [],
   "source": [
    "# Definition for singly-linked list.\n",
    "class ListNode:\n",
    "    def __init__(self, val=0, next=None):\n",
    "        self.val = val\n",
    "        self.next = next\n",
    "        \n",
    "class Solution:\n",
    "    def swapPairs(self, head: ListNode) -> ListNode:\n",
    "        # This question should better to swap two nodes together, it will be clearer, do not divide into differnet blocks\n",
    "        dummy = ListNode('a')\n",
    "        dummy.next = head\n",
    "        h = dummy\n",
    "        while h is not None:\n",
    "            try:\n",
    "                one_hop = h.next\n",
    "                two_hop = h.next.next\n",
    "                three_hop = h.next.next.next\n",
    "                h.next = two_hop\n",
    "                two_hop.next = one_hop\n",
    "                one_hop.next = three_hop\n",
    "                h = h.next.next\n",
    "            except:\n",
    "                break\n",
    "        return dummy.next\n",
    "        "
   ]
  },
  {
   "cell_type": "code",
   "execution_count": null,
   "id": "b7d5744f-d99f-4fd0-a876-b5eac1239146",
   "metadata": {},
   "outputs": [],
   "source": []
  }
 ],
 "metadata": {
  "kernelspec": {
   "display_name": "Python 3",
   "language": "python",
   "name": "python3"
  },
  "language_info": {
   "codemirror_mode": {
    "name": "ipython",
    "version": 3
   },
   "file_extension": ".py",
   "mimetype": "text/x-python",
   "name": "python",
   "nbconvert_exporter": "python",
   "pygments_lexer": "ipython3",
   "version": "3.9.12"
  }
 },
 "nbformat": 4,
 "nbformat_minor": 5
}
