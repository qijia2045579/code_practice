{
 "cells": [
  {
   "cell_type": "markdown",
   "id": "37cdd999-2fc3-487b-beab-0db2747444d5",
   "metadata": {},
   "source": [
    "Given four integer arrays nums1, nums2, nums3, and nums4 all of length n, return the number of tuples (i, j, k, l) such that:\n",
    "\n",
    "0 <= i, j, k, l < n\n",
    "nums1[i] + nums2[j] + nums3[k] + nums4[l] == 0\n",
    " \n",
    "\n",
    "Example 1:\n",
    "\n",
    "Input: nums1 = [1,2], nums2 = [-2,-1], nums3 = [-1,2], nums4 = [0,2]\n",
    "Output: 2\n",
    "Explanation:\n",
    "The two tuples are:\n",
    "1. (0, 0, 0, 1) -> nums1[0] + nums2[0] + nums3[0] + nums4[1] = 1 + (-2) + (-1) + 2 = 0\n",
    "2. (1, 1, 0, 0) -> nums1[1] + nums2[1] + nums3[0] + nums4[0] = 2 + (-1) + (-1) + 0 = 0\n",
    "Example 2:\n",
    "\n",
    "Input: nums1 = [0], nums2 = [0], nums3 = [0], nums4 = [0]\n",
    "Output: 1\n",
    " \n",
    "\n",
    "Constraints:\n",
    "\n",
    "n == nums1.length\n",
    "n == nums2.length\n",
    "n == nums3.length\n",
    "n == nums4.length\n",
    "1 <= n <= 200\n",
    "-228 <= nums1[i], nums2[i], nums3[i], nums4[i] <= 228"
   ]
  },
  {
   "cell_type": "code",
   "execution_count": 19,
   "id": "35d9bf21-0fda-45dd-88cc-e0a3f6e6a811",
   "metadata": {},
   "outputs": [],
   "source": [
    "# class Solution:\n",
    "#     def fourSumCount(self, nums1: list[int], nums2: list[int], nums3: list[int], nums4: list[int]) -> int:\n",
    "#         # The approach in the answer, it combines nums1 and nums2, so it will be n*n, then combine nums3 and nums4, it is still n*n, then it search in n*n, so it's faster, because it is using dictionary\n",
    "        \n",
    "#         # First approach, just search all of them one by one, but in dictionary -- time exceed\n",
    "#         n = len(nums1)\n",
    "#         nums1_dict = {}\n",
    "#         nums2_dict = {}\n",
    "#         nums3_dict = {}\n",
    "#         nums4_dict = {}\n",
    "        \n",
    "#         # o(4n) -> O(n)\n",
    "#         for i in range(n):\n",
    "#             # nums1\n",
    "#             if nums1[i] not in nums1_dict:\n",
    "#                 nums1_dict[nums1[i]] = [i]\n",
    "#             else:\n",
    "#                 nums1_dict[nums1[i]].append(i)\n",
    "#             # nums2\n",
    "#             if nums2[i] not in nums2_dict:\n",
    "#                 nums2_dict[nums2[i]] = [i]\n",
    "#             else:\n",
    "#                 nums2_dict[nums2[i]].append(i)\n",
    "#             # nums3\n",
    "#             if nums3[i] not in nums3_dict:\n",
    "#                 nums3_dict[nums3[i]] = [i]\n",
    "#             else:\n",
    "#                 nums3_dict[nums3[i]].append(i)\n",
    "#             # nums4\n",
    "#             if nums4[i] not in nums4_dict:\n",
    "#                 nums4_dict[nums4[i]] = [i]\n",
    "#             else:\n",
    "#                 nums4_dict[nums4[i]].append(i)\n",
    "            \n",
    "#         # print(nums1_dict, nums2_dict, nums3_dict, nums4_dict)\n",
    "        \n",
    "#         results = []\n",
    "#         # O(n*n*n*n) -- actually should smaller than this, because the dictionary should be smaller than it\n",
    "#         for key1 in nums1_dict:\n",
    "#             for key2 in nums2_dict:\n",
    "#                 for key3 in nums3_dict:\n",
    "#                     if -key1-key2-key3 in nums4_dict:\n",
    "#                         key4 = -key1-key2-key3\n",
    "#                         results.append([nums1_dict[key1], nums2_dict[key2], nums3_dict[key3], nums4_dict[key4]])\n",
    "#         r = 0\n",
    "#         for item in results:\n",
    "#             component_length = [len(x) for x in item]\n",
    "#             init = 1\n",
    "#             for c in component_length:\n",
    "#                 init *= c\n",
    "#             r += init\n",
    "#         # print(results)\n",
    "#         return r\n",
    "        \n",
    "        \n",
    "        "
   ]
  },
  {
   "cell_type": "code",
   "execution_count": 27,
   "id": "36428d3f-8203-41b1-9ee7-2dd3dec4beed",
   "metadata": {},
   "outputs": [],
   "source": [
    "class Solution:\n",
    "    def fourSumCount(self, nums1: list[int], nums2: list[int], nums3: list[int], nums4: list[int]) -> int:\n",
    "        # combine 1 and 2, then combine 3 and 4\n",
    "        values_12 = {}\n",
    "        values_34 = {}\n",
    "        for n1 in nums1:\n",
    "            for n2 in nums2:\n",
    "                s = n1+n2\n",
    "                if s not in values_12:\n",
    "                    values_12[s] = 1\n",
    "                else:\n",
    "                    values_12[s] += 1\n",
    "                    \n",
    "        for n3 in nums3:\n",
    "            for n4 in nums4:\n",
    "                s = n3+n4\n",
    "                if s not in values_34:\n",
    "                    values_34[s] = 1\n",
    "                else:\n",
    "                    values_34[s] += 1\n",
    "        \n",
    "        # print(values_12, values_34)\n",
    "        \n",
    "        # This is better than first approach, because the search just needs O(n*n), but in the first approach, the search needs O(n**4)\n",
    "        r = 0\n",
    "        for key1 in values_12:\n",
    "            if -key1 in values_34:\n",
    "                r += values_12[key1]*values_34[-key1]\n",
    "        \n",
    "        return r\n",
    "        \n",
    "        "
   ]
  },
  {
   "cell_type": "code",
   "execution_count": 28,
   "id": "fee29807-08f2-4c8c-b565-c2dfd3aad5aa",
   "metadata": {},
   "outputs": [],
   "source": [
    "nums1 = [1,2]\n",
    "nums2 = [-2,-1]\n",
    "nums3 = [-1,2]\n",
    "nums4 = [0,2]"
   ]
  },
  {
   "cell_type": "code",
   "execution_count": 29,
   "id": "c88b1feb-5ce8-4704-8bb5-8541da0ed4db",
   "metadata": {},
   "outputs": [
    {
     "name": "stdout",
     "output_type": "stream",
     "text": [
      "{-1: 1, 0: 2, 1: 1} {-1: 1, 1: 1, 2: 1, 4: 1}\n"
     ]
    },
    {
     "data": {
      "text/plain": [
       "2"
      ]
     },
     "execution_count": 29,
     "metadata": {},
     "output_type": "execute_result"
    }
   ],
   "source": [
    "Solution().fourSumCount(nums1, nums2, nums3, nums4)"
   ]
  },
  {
   "cell_type": "code",
   "execution_count": null,
   "id": "df9f2e10-2921-4e3f-a373-dfe5d1a4e0ed",
   "metadata": {},
   "outputs": [],
   "source": []
  }
 ],
 "metadata": {
  "kernelspec": {
   "display_name": "Python 3",
   "language": "python",
   "name": "python3"
  },
  "language_info": {
   "codemirror_mode": {
    "name": "ipython",
    "version": 3
   },
   "file_extension": ".py",
   "mimetype": "text/x-python",
   "name": "python",
   "nbconvert_exporter": "python",
   "pygments_lexer": "ipython3",
   "version": "3.9.12"
  }
 },
 "nbformat": 4,
 "nbformat_minor": 5
}
