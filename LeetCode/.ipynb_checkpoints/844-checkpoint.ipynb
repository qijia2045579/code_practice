{
 "cells": [
  {
   "cell_type": "markdown",
   "id": "00d7c566-b7a4-483a-a71e-73505352f79e",
   "metadata": {},
   "source": [
    "Given two strings s and t, return true if they are equal when both are typed into empty text editors. '#' means a backspace character.\n",
    "\n",
    "Note that after backspacing an empty text, the text will continue empty.\n",
    "\n",
    " \n",
    "\n",
    "Example 1:\n",
    "\n",
    "Input: s = \"ab#c\", t = \"ad#c\"\n",
    "Output: true\n",
    "Explanation: Both s and t become \"ac\".\n",
    "Example 2:\n",
    "\n",
    "Input: s = \"ab##\", t = \"c#d#\"\n",
    "Output: true\n",
    "Explanation: Both s and t become \"\".\n",
    "Example 3:\n",
    "\n",
    "Input: s = \"a#c\", t = \"b\"\n",
    "Output: false\n",
    "Explanation: s becomes \"c\" while t becomes \"b\".\n",
    " \n",
    "\n",
    "Constraints:\n",
    "\n",
    "1 <= s.length, t.length <= 200\n",
    "s and t only contain lowercase letters and '#' characters.\n",
    " \n",
    "\n",
    "Follow up: Can you solve it in O(n) time and O(1) space?"
   ]
  },
  {
   "cell_type": "code",
   "execution_count": 16,
   "id": "11e1f33d-4d93-4e22-8689-87c4add939e9",
   "metadata": {},
   "outputs": [],
   "source": [
    "class Solution:\n",
    "    def backspaceCompare(self, s: str, t: str) -> bool:\n",
    "        s_new = \"\"\n",
    "        t_new = \"\"\n",
    "        for i in range(len(s)):\n",
    "            if s[i]=='#':\n",
    "                s_new = s_new[:-1]\n",
    "            else:\n",
    "                s_new += s[i]\n",
    "        for i in range(len(t)):\n",
    "            if t[i]=='#':\n",
    "                t_new = t_new[:-1]\n",
    "            else:\n",
    "                t_new += t[i]\n",
    "                \n",
    "        return s_new==t_new\n",
    "                \n",
    "        \n",
    "                \n",
    "                "
   ]
  },
  {
   "cell_type": "code",
   "execution_count": 17,
   "id": "55a23357-fb5d-4196-8f1f-7832d6fea4f5",
   "metadata": {},
   "outputs": [],
   "source": [
    "solution = Solution()"
   ]
  },
  {
   "cell_type": "code",
   "execution_count": 18,
   "id": "e1b613ce-9c17-4c9d-9d6c-1a6b019fdedf",
   "metadata": {},
   "outputs": [
    {
     "data": {
      "text/plain": [
       "True"
      ]
     },
     "execution_count": 18,
     "metadata": {},
     "output_type": "execute_result"
    }
   ],
   "source": [
    "s = \"ab#c\"\n",
    "t = \"ad#c\"\n",
    "solution.backspaceCompare(s, t)"
   ]
  },
  {
   "cell_type": "code",
   "execution_count": null,
   "id": "69f4c1a6-135c-4ffb-895b-b332faf757c3",
   "metadata": {},
   "outputs": [],
   "source": []
  }
 ],
 "metadata": {
  "kernelspec": {
   "display_name": "Python 3",
   "language": "python",
   "name": "python3"
  },
  "language_info": {
   "codemirror_mode": {
    "name": "ipython",
    "version": 3
   },
   "file_extension": ".py",
   "mimetype": "text/x-python",
   "name": "python",
   "nbconvert_exporter": "python",
   "pygments_lexer": "ipython3",
   "version": "3.9.12"
  }
 },
 "nbformat": 4,
 "nbformat_minor": 5
}
