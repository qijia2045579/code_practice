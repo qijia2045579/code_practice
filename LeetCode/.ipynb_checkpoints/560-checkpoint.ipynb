{
 "cells": [
  {
   "cell_type": "markdown",
   "id": "55f859b1-bc6c-4a9f-bf48-af9619c60c8c",
   "metadata": {},
   "source": [
    "560. Subarray Sum Equals K\n",
    "Medium\n",
    "\n",
    "12953\n",
    "\n",
    "416\n",
    "\n",
    "Add to List\n",
    "\n",
    "Share\n",
    "Given an array of integers nums and an integer k, return the total number of subarrays whose sum equals to k.\n",
    "\n",
    " \n",
    "\n",
    "Example 1:\n",
    "\n",
    "Input: nums = [1,1,1], k = 2\n",
    "Output: 2\n",
    "Example 2:\n",
    "\n",
    "Input: nums = [1,2,3], k = 3\n",
    "Output: 2\n",
    " \n",
    "\n",
    "Constraints:\n",
    "\n",
    "1 <= nums.length <= 2 * 104\n",
    "-1000 <= nums[i] <= 1000\n",
    "-107 <= k <= 107\n",
    "Accepted\n",
    "767,622\n",
    "Submissions\n",
    "1,735,276"
   ]
  },
  {
   "cell_type": "code",
   "execution_count": 81,
   "id": "ca6ffa2e-0aff-4f3d-8453-4fd269b661c3",
   "metadata": {},
   "outputs": [],
   "source": [
    "class Solution:\n",
    "    def subarraySum(self, nums, k) -> int:\n",
    "        # Start to consider the other way:\n",
    "        # First: to get the summation to position i\n",
    "        count = 0\n",
    "        sum_to_i = []\n",
    "        summation = 0\n",
    "        for i in range(len(nums)):\n",
    "            summation += nums[i]\n",
    "            sum_to_i.append(summation)\n",
    "        # print(sum_to_i)\n",
    "        # Second: the normal logic: I want to check if any value of sum_to_i[i]+k occurs later in sum_to_i[j] (here j>i). However, we did not save how many sum_to_i[j] occurs yet. So we need to count from bigger value, or change to calculate sum_to_i[i]-k if existing before\n",
    "        subsum_dict = {0:1}\n",
    "        for s in sum_to_i:\n",
    "            if s-k in subsum_dict:\n",
    "                print(subsum_dict[s-k])\n",
    "                count += subsum_dict[s-k]\n",
    "            if s not in subsum_dict:\n",
    "                subsum_dict[s] = 1\n",
    "            else:\n",
    "                subsum_dict[s] += 1\n",
    "            \n",
    "        return count\n",
    "        \n",
    "        \n",
    "#         # define a slide window, [low, high], then we would check if there are different [low, high] summation can equals to k\n",
    "#         # This time we use 2 layers dictionary to save the values between [low, high]. So when calculate the summation, we can relatively save part of the time\n",
    "#         # Not sure this can pass: ----- not pass, the memory exceeds.\n",
    "#         count = 0\n",
    "#         low=0\n",
    "#         summation = {}\n",
    "#         for low in range(len(nums)):\n",
    "#             summation[low] = {}\n",
    "#             high = low\n",
    "#             summation[low][high] = 0\n",
    "#             for high in range(low,len(nums)):\n",
    "#                 summation[low][high] = summation[low][high-1] + nums[high] if high-1>=low else nums[high]\n",
    "#                 if summation[low][high]==k:\n",
    "#                     print(low, high)\n",
    "#                     count +=1\n",
    "        \n",
    "#         return count\n",
    "    \n",
    "    # def subarraySum(self, nums, k) -> int:\n",
    "    #     # define a slide window, [low, high], then we would check if there are different [low, high] summation can equals to k\n",
    "    #     # so, the worst case is O(n^2), move one side while fix other side\n",
    "    #     # This caused Time exceed, so O(n^2) is not acceptable\n",
    "    #     count = 0\n",
    "    #     for low in range(len(nums)):\n",
    "    #         for high in range(low, len(nums)):\n",
    "    #             sum_value = sum(nums[low:(high+1)])\n",
    "    #             if sum_value==k:\n",
    "    #                 count += 1\n",
    "    #                 print(low, high, sum_value)\n",
    "    #     return count\n",
    "        \n",
    "            "
   ]
  },
  {
   "cell_type": "code",
   "execution_count": 83,
   "id": "119741ce-f5d9-4144-9ca5-802c9d0180cf",
   "metadata": {},
   "outputs": [
    {
     "name": "stdout",
     "output_type": "stream",
     "text": [
      "1\n",
      "1\n",
      "1\n",
      "3\n"
     ]
    },
    {
     "data": {
      "text/plain": [
       "6"
      ]
     },
     "execution_count": 83,
     "metadata": {},
     "output_type": "execute_result"
    }
   ],
   "source": [
    "s = Solution()\n",
    "s.subarraySum(nums = [-1,2,-1,0,1], k = 1)\n",
    "# s.subarraySum(nums = [1,2,3], k = 3)\n"
   ]
  },
  {
   "cell_type": "code",
   "execution_count": null,
   "id": "a6cd7788-4e7a-467b-b5f6-90963a137444",
   "metadata": {},
   "outputs": [],
   "source": []
  }
 ],
 "metadata": {
  "kernelspec": {
   "display_name": "Python 3",
   "language": "python",
   "name": "python3"
  },
  "language_info": {
   "codemirror_mode": {
    "name": "ipython",
    "version": 3
   },
   "file_extension": ".py",
   "mimetype": "text/x-python",
   "name": "python",
   "nbconvert_exporter": "python",
   "pygments_lexer": "ipython3",
   "version": "3.9.12"
  }
 },
 "nbformat": 4,
 "nbformat_minor": 5
}
