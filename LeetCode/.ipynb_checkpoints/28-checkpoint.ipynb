{
 "cells": [
  {
   "cell_type": "markdown",
   "id": "20149129-aecc-4523-87c5-aef4c7e1ca4d",
   "metadata": {},
   "source": [
    "Implement strStr().\n",
    "\n",
    "Given two strings needle and haystack, return the index of the first occurrence of needle in haystack, or -1 if needle is not part of haystack.\n",
    "\n",
    "Clarification:\n",
    "\n",
    "What should we return when needle is an empty string? This is a great question to ask during an interview.\n",
    "\n",
    "For the purpose of this problem, we will return 0 when needle is an empty string. This is consistent to C's strstr() and Java's indexOf().\n",
    "\n",
    " \n",
    "\n",
    "Example 1:\n",
    "\n",
    "Input: haystack = \"hello\", needle = \"ll\"\n",
    "Output: 2\n",
    "Example 2:\n",
    "\n",
    "Input: haystack = \"aaaaa\", needle = \"bba\"\n",
    "Output: -1"
   ]
  },
  {
   "cell_type": "code",
   "execution_count": 96,
   "id": "8eade27e-066c-42b0-ae48-1e8c5049ea45",
   "metadata": {},
   "outputs": [],
   "source": [
    "class Solution:\n",
    "    # Now use a normal, straight forward solution\n",
    "    def strStr(self, haystack: str, needle: str) -> int:\n",
    "        if len(needle)==0:\n",
    "            return 0\n",
    "        if len(haystack)==0:\n",
    "            return -1\n",
    "        i = 0 # pointer in haystack\n",
    "        j = 0 # pointer in needle\n",
    "        s = i\n",
    "        try:\n",
    "            while True:\n",
    "                if haystack[i]==needle[j]:\n",
    "                    i += 1\n",
    "                    j += 1\n",
    "                    if j==len(needle):\n",
    "                        return s\n",
    "                else:\n",
    "                    s += 1\n",
    "                    i = s\n",
    "                    j = 0\n",
    "                    if s+len(needle)>len(haystack):\n",
    "                        return -1\n",
    "        except:\n",
    "            return -1\n",
    "                \n",
    "        \n",
    "        \n",
    "        \n",
    "        "
   ]
  },
  {
   "cell_type": "code",
   "execution_count": 80,
   "id": "15c6e87b-9196-4840-bd63-114ac84c661a",
   "metadata": {},
   "outputs": [],
   "source": [
    "class Solution:\n",
    "    # This is the KMP algorithm\n",
    "    \n",
    "    def prefix_table(self, needle):\n",
    "        l = len(needle)\n",
    "        p_tbl = [0]*l\n",
    "        j = 0 # j is the left pointer, i will be the right pointer, for each i, we move j to find the max common prefix.\n",
    "        for i in range(1,l):\n",
    "            while j>0 and needle[j]!=needle[i]:\n",
    "                j = p_tbl[j-1]\n",
    "            if needle[j]==needle[i]:\n",
    "                p_tbl[i] = j+1\n",
    "                j = j+1\n",
    "                continue\n",
    "            \n",
    "        # print(p_tbl)\n",
    "        return p_tbl\n",
    "                \n",
    "            \n",
    "            \n",
    "    \n",
    "    def strStr(self, haystack: str, needle: str) -> int:\n",
    "        if len(needle)==0:\n",
    "            return 0\n",
    "        result = -1\n",
    "        p_table = self.prefix_table(needle)\n",
    "        j = 0\n",
    "        i = 0\n",
    "        while i<len(haystack):\n",
    "            if haystack[i]==needle[j]:\n",
    "                # print(haystack[i], needle[j])\n",
    "                j += 1\n",
    "                i += 1\n",
    "            else:\n",
    "                if j!=0:\n",
    "                    j = p_table[j-1] if j>0 else p_table[0]\n",
    "                else:\n",
    "                    i += 1\n",
    "            if j==len(needle):\n",
    "                result = i-len(needle)\n",
    "                # print('break')\n",
    "                break\n",
    "                \n",
    "        return result\n",
    "        \n",
    "        \n",
    "        "
   ]
  },
  {
   "cell_type": "code",
   "execution_count": 92,
   "id": "3c6f2eaf-94de-4ef6-b5b9-b374a5669791",
   "metadata": {},
   "outputs": [
    {
     "data": {
      "text/plain": [
       "3"
      ]
     },
     "execution_count": 92,
     "metadata": {},
     "output_type": "execute_result"
    }
   ],
   "source": [
    "Solution().strStr('aabaabaaf','aabaaf')"
   ]
  },
  {
   "cell_type": "code",
   "execution_count": 93,
   "id": "83ee506b-9601-4c3f-a4ae-29daf47c71a0",
   "metadata": {},
   "outputs": [
    {
     "data": {
      "text/plain": [
       "2"
      ]
     },
     "execution_count": 93,
     "metadata": {},
     "output_type": "execute_result"
    }
   ],
   "source": [
    "Solution().strStr('hello','ll')"
   ]
  },
  {
   "cell_type": "code",
   "execution_count": 94,
   "id": "94b00aed-9564-43ce-9a8a-abe6db69c9c2",
   "metadata": {},
   "outputs": [
    {
     "data": {
      "text/plain": [
       "-1"
      ]
     },
     "execution_count": 94,
     "metadata": {},
     "output_type": "execute_result"
    }
   ],
   "source": [
    "Solution().strStr('aaaaa','bba')"
   ]
  },
  {
   "cell_type": "code",
   "execution_count": 95,
   "id": "86f71e0e-768e-44c0-9f1f-cf70ad5cfc39",
   "metadata": {},
   "outputs": [
    {
     "data": {
      "text/plain": [
       "4"
      ]
     },
     "execution_count": 95,
     "metadata": {},
     "output_type": "execute_result"
    }
   ],
   "source": [
    "Solution().strStr(\"aabaaabaaac\",\"aabaaac\")"
   ]
  },
  {
   "cell_type": "code",
   "execution_count": null,
   "id": "8f9fbd95-24af-4821-a5a3-2f5af35ca367",
   "metadata": {},
   "outputs": [],
   "source": []
  }
 ],
 "metadata": {
  "kernelspec": {
   "display_name": "Python 3",
   "language": "python",
   "name": "python3"
  },
  "language_info": {
   "codemirror_mode": {
    "name": "ipython",
    "version": 3
   },
   "file_extension": ".py",
   "mimetype": "text/x-python",
   "name": "python",
   "nbconvert_exporter": "python",
   "pygments_lexer": "ipython3",
   "version": "3.9.12"
  }
 },
 "nbformat": 4,
 "nbformat_minor": 5
}
