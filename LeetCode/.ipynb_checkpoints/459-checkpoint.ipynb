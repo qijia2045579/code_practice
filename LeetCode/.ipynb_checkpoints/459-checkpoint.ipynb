{
 "cells": [
  {
   "cell_type": "markdown",
   "id": "b5397795-0cb8-457a-8e5c-e33412a30db7",
   "metadata": {},
   "source": [
    "Given a string s, check if it can be constructed by taking a substring of it and appending multiple copies of the substring together.\n",
    "\n",
    " \n",
    "\n",
    "Example 1:\n",
    "\n",
    "Input: s = \"abab\"\n",
    "Output: true\n",
    "Explanation: It is the substring \"ab\" twice.\n",
    "Example 2:\n",
    "\n",
    "Input: s = \"aba\"\n",
    "Output: false\n",
    "Example 3:\n",
    "\n",
    "Input: s = \"abcabcabcabc\"\n",
    "Output: true\n",
    "Explanation: It is the substring \"abc\" four times or the substring \"abcabc\" twice.\n",
    " \n",
    "\n",
    "Constraints:\n",
    "\n",
    "1 <= s.length <= 104\n",
    "s consists of lowercase English letters."
   ]
  },
  {
   "cell_type": "code",
   "execution_count": 3,
   "id": "900e7422-bca9-4fc6-92fb-cbf09f697947",
   "metadata": {},
   "outputs": [],
   "source": [
    "class Solution:\n",
    "    def repeatedSubstringPattern(self, s: str) -> bool:\n",
    "        # The first solution is to decide if s+s includes s between first and last substr\n",
    "        s2 = s+s\n",
    "        return s2[1:-1].find(s)!=-1"
   ]
  },
  {
   "cell_type": "code",
   "execution_count": 11,
   "id": "ae1d6e8b-d935-44ee-98c2-910e264a53b3",
   "metadata": {},
   "outputs": [],
   "source": [
    "class Solution:\n",
    "    def prefix_table(self, s):\n",
    "        p = [0]*len(s)\n",
    "        j = 0\n",
    "        i = 1\n",
    "        while i<len(s):\n",
    "            while j>0 and s[j]!=s[i]:\n",
    "                j = p[j-1]\n",
    "            if s[j]==s[i]:\n",
    "                p[i]=j+1\n",
    "                i += 1\n",
    "                j += 1\n",
    "                continue\n",
    "            p[i] = j\n",
    "            i += 1\n",
    "        return p\n",
    "\n",
    "    def repeatedSubstringPattern(self, s: str) -> bool:\n",
    "        # The second solution is to use KMP algorithm\n",
    "        print(self.prefix_table(s))"
   ]
  },
  {
   "cell_type": "code",
   "execution_count": 12,
   "id": "9304499f-39ab-4420-aeb3-829eeb422a67",
   "metadata": {},
   "outputs": [
    {
     "name": "stdout",
     "output_type": "stream",
     "text": [
      "[0, 0, 1, 2]\n"
     ]
    }
   ],
   "source": [
    "Solution().repeatedSubstringPattern('abab')"
   ]
  },
  {
   "cell_type": "code",
   "execution_count": 13,
   "id": "2dc4c33d-ab84-4698-8e8a-51e626e419ba",
   "metadata": {},
   "outputs": [
    {
     "name": "stdout",
     "output_type": "stream",
     "text": [
      "[0, 0, 1]\n"
     ]
    }
   ],
   "source": [
    "Solution().repeatedSubstringPattern('aba')"
   ]
  },
  {
   "cell_type": "code",
   "execution_count": 14,
   "id": "24731932-da31-4fc2-ae56-1ba6e80d06e3",
   "metadata": {},
   "outputs": [
    {
     "name": "stdout",
     "output_type": "stream",
     "text": [
      "[0, 0, 0, 1, 2, 3, 4, 5, 6, 7, 8, 9]\n"
     ]
    }
   ],
   "source": [
    "Solution().repeatedSubstringPattern('abcabcabcabc')"
   ]
  },
  {
   "cell_type": "code",
   "execution_count": null,
   "id": "7261322b-df2e-4a41-aadf-8d0ba8a3c09d",
   "metadata": {},
   "outputs": [],
   "source": []
  }
 ],
 "metadata": {
  "kernelspec": {
   "display_name": "Python 3",
   "language": "python",
   "name": "python3"
  },
  "language_info": {
   "codemirror_mode": {
    "name": "ipython",
    "version": 3
   },
   "file_extension": ".py",
   "mimetype": "text/x-python",
   "name": "python",
   "nbconvert_exporter": "python",
   "pygments_lexer": "ipython3",
   "version": "3.9.12"
  }
 },
 "nbformat": 4,
 "nbformat_minor": 5
}
