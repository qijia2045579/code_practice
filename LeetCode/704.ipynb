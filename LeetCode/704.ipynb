{
 "cells": [
  {
   "cell_type": "markdown",
   "id": "466af9b5-0822-4149-9e38-2ec4614a776d",
   "metadata": {},
   "source": [
    "Given an array of integers nums which is sorted in ascending order, and an integer target, write a function to search target in nums. If target exists, then return its index. Otherwise, return -1.\n",
    "\n",
    "You must write an algorithm with O(log n) runtime complexity.\n",
    "\n",
    " \n",
    "\n",
    "Example 1:\n",
    "\n",
    "Input: nums = [-1,0,3,5,9,12], target = 9\n",
    "Output: 4\n",
    "Explanation: 9 exists in nums and its index is 4\n",
    "Example 2:\n",
    "\n",
    "Input: nums = [-1,0,3,5,9,12], target = 2\n",
    "Output: -1\n",
    "Explanation: 2 does not exist in nums so return -1\n",
    " \n",
    "\n",
    "Constraints:\n",
    "\n",
    "1 <= nums.length <= 104\n",
    "-104 < nums[i], target < 104\n",
    "All the integers in nums are unique.\n",
    "nums is sorted in ascending order."
   ]
  },
  {
   "cell_type": "code",
   "execution_count": 18,
   "id": "476c2e17-927f-406a-8d79-aaa5771ff22f",
   "metadata": {},
   "outputs": [],
   "source": [
    "class Solution:\n",
    "    def search(self, nums, target: int) -> int:\n",
    "        def bi_search(nums, target, left):\n",
    "            n = len(nums)\n",
    "            if n<=1:\n",
    "                if nums[0]==target:\n",
    "                    return left\n",
    "                else:\n",
    "                    return None\n",
    "            pivot = n//2\n",
    "            if nums[pivot]>target:\n",
    "                return bi_search(nums[:pivot],target,left)\n",
    "            else:\n",
    "                return bi_search(nums[pivot:],target,left+pivot)\n",
    "        r = bi_search(nums, target, 0)\n",
    "        return -1 if r is None else r\n",
    "        \n",
    "        \n",
    "        \n",
    "    # # Below search approach did not count int the > and <, actually, since the array is ordered, so we just need to compare the mid value with the target\n",
    "    # # It passed, but only faster than 5%\n",
    "    # def search(self, nums, target: int) -> int:\n",
    "    #     def search_part(n, t, l):\n",
    "    #         if len(n)<=1:\n",
    "    #             if n[0]==t:\n",
    "    #                 return l\n",
    "    #             else:\n",
    "    #                 return None\n",
    "    #         pivot = int(len(n)/2)\n",
    "    #         if n[pivot]==t:\n",
    "    #             return l+pivot\n",
    "    #         else:\n",
    "    #             l_search = search_part(n[:pivot], t, l)\n",
    "    #             r_search = search_part(n[pivot:],t,l+pivot)\n",
    "    #             if l_search is not None:\n",
    "    #                 return l_search\n",
    "    #             elif r_search is not None:\n",
    "    #                 return r_search\n",
    "    #             else:\n",
    "    #                 return None\n",
    "    #     r = search_part(nums,target,0)\n",
    "    #     return -1 if r is None else r"
   ]
  },
  {
   "cell_type": "code",
   "execution_count": 19,
   "id": "3f20ca54-3200-4c70-b780-085763b8ea01",
   "metadata": {},
   "outputs": [
    {
     "data": {
      "text/plain": [
       "4"
      ]
     },
     "execution_count": 19,
     "metadata": {},
     "output_type": "execute_result"
    }
   ],
   "source": [
    "s = Solution()\n",
    "s.search(nums = [-1,0,3,5,9,12], target = 9)"
   ]
  },
  {
   "cell_type": "code",
   "execution_count": 20,
   "id": "3bf16986-d843-4202-a602-5c31442c7df6",
   "metadata": {},
   "outputs": [
    {
     "data": {
      "text/plain": [
       "-1"
      ]
     },
     "execution_count": 20,
     "metadata": {},
     "output_type": "execute_result"
    }
   ],
   "source": [
    "nums = [-1,0,3,5,9,12]\n",
    "target = 2\n",
    "s.search(nums,target)"
   ]
  },
  {
   "cell_type": "code",
   "execution_count": null,
   "id": "7fde2073-6f7f-4514-8e0c-926c5a26616c",
   "metadata": {},
   "outputs": [],
   "source": []
  }
 ],
 "metadata": {
  "kernelspec": {
   "display_name": "Python 3",
   "language": "python",
   "name": "python3"
  },
  "language_info": {
   "codemirror_mode": {
    "name": "ipython",
    "version": 3
   },
   "file_extension": ".py",
   "mimetype": "text/x-python",
   "name": "python",
   "nbconvert_exporter": "python",
   "pygments_lexer": "ipython3",
   "version": "3.9.12"
  }
 },
 "nbformat": 4,
 "nbformat_minor": 5
}
