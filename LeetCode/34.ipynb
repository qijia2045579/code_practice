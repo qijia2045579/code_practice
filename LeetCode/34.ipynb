{
 "cells": [
  {
   "cell_type": "markdown",
   "id": "d3c9fa14-7abf-4713-8c71-d68da081fd96",
   "metadata": {},
   "source": [
    "Given an array of integers nums sorted in non-decreasing order, find the starting and ending position of a given target value.\n",
    "\n",
    "If target is not found in the array, return [-1, -1].\n",
    "\n",
    "You must write an algorithm with O(log n) runtime complexity.\n",
    "\n",
    " \n",
    "\n",
    "Example 1:\n",
    "\n",
    "Input: nums = [5,7,7,8,8,10], target = 8\n",
    "Output: [3,4]\n",
    "Example 2:\n",
    "\n",
    "Input: nums = [5,7,7,8,8,10], target = 6\n",
    "Output: [-1,-1]\n",
    "Example 3:\n",
    "\n",
    "Input: nums = [], target = 0\n",
    "Output: [-1,-1]\n",
    " \n",
    "\n",
    "Constraints:\n",
    "\n",
    "0 <= nums.length <= 105\n",
    "-109 <= nums[i] <= 109\n",
    "nums is a non-decreasing array.\n",
    "-109 <= target <= 109"
   ]
  },
  {
   "cell_type": "code",
   "execution_count": 42,
   "id": "74bf72bc-33e6-4520-8ec7-a451134f46bb",
   "metadata": {},
   "outputs": [],
   "source": [
    "class Solution:\n",
    "    def searchRange(self, nums, target: int):\n",
    "        result = [-1,-1]\n",
    "        def bi_search(nums, target, left):\n",
    "            if len(nums)<=1:\n",
    "                try:\n",
    "                    if nums[0]==target:\n",
    "                        result[0]=left\n",
    "                        result[1]=left\n",
    "                except:\n",
    "                    pass\n",
    "                return None\n",
    "            pivot = len(nums)//2\n",
    "            if nums[pivot]>target:\n",
    "                bi_search(nums[:pivot],target, left)\n",
    "            elif nums[pivot]<target:\n",
    "                bi_search(nums[pivot:],target, left+pivot)\n",
    "            else:\n",
    "                result[0]=pivot\n",
    "                result[1]=pivot\n",
    "                l = pivot\n",
    "                r = pivot\n",
    "                while l>=0:\n",
    "                    if nums[l]==target:\n",
    "                        result[0] = left+l\n",
    "                    else:\n",
    "                        break\n",
    "                    l -= 1\n",
    "                while r<len(nums):\n",
    "                    if nums[r]==target:\n",
    "                        result[1] = left+r\n",
    "                    else:\n",
    "                        break\n",
    "                    r += 1\n",
    "                return None\n",
    "        bi_search(nums, target, 0)\n",
    "        return result\n",
    "                \n",
    "                \n",
    "                             "
   ]
  },
  {
   "cell_type": "code",
   "execution_count": 43,
   "id": "27982fe0-76e1-40b9-b003-a800b41fd3a5",
   "metadata": {},
   "outputs": [],
   "source": [
    "s=Solution()"
   ]
  },
  {
   "cell_type": "code",
   "execution_count": 44,
   "id": "6428e7a7-0e51-4788-bd5b-665befa4c705",
   "metadata": {},
   "outputs": [
    {
     "data": {
      "text/plain": [
       "[3, 4]"
      ]
     },
     "execution_count": 44,
     "metadata": {},
     "output_type": "execute_result"
    }
   ],
   "source": [
    "nums = [5,7,7,8,8,10]\n",
    "target = 8\n",
    "s.searchRange(nums,target)"
   ]
  },
  {
   "cell_type": "code",
   "execution_count": 45,
   "id": "aa4366d3-9392-499f-a90e-6e2d9bcc9306",
   "metadata": {},
   "outputs": [
    {
     "data": {
      "text/plain": [
       "[-1, -1]"
      ]
     },
     "execution_count": 45,
     "metadata": {},
     "output_type": "execute_result"
    }
   ],
   "source": [
    "nums = [5,7,7,8,8,10]\n",
    "target = 6\n",
    "s.searchRange(nums,target)"
   ]
  },
  {
   "cell_type": "code",
   "execution_count": 46,
   "id": "478defe2-475c-4ee0-b127-3520c740e506",
   "metadata": {},
   "outputs": [
    {
     "data": {
      "text/plain": [
       "[-1, -1]"
      ]
     },
     "execution_count": 46,
     "metadata": {},
     "output_type": "execute_result"
    }
   ],
   "source": [
    "nums = []\n",
    "target = 0\n",
    "s.searchRange(nums,target)"
   ]
  },
  {
   "cell_type": "code",
   "execution_count": 47,
   "id": "c01288f1-9080-4860-bb13-fb62cfd56cb6",
   "metadata": {},
   "outputs": [
    {
     "data": {
      "text/plain": [
       "[0, 0]"
      ]
     },
     "execution_count": 47,
     "metadata": {},
     "output_type": "execute_result"
    }
   ],
   "source": [
    "nums = [1]\n",
    "target = 1\n",
    "s.searchRange(nums,target)"
   ]
  },
  {
   "cell_type": "code",
   "execution_count": 48,
   "id": "3b1cb274-3ab0-4027-8592-8fcfac1e4b1c",
   "metadata": {},
   "outputs": [
    {
     "data": {
      "text/plain": [
       "[2, 2]"
      ]
     },
     "execution_count": 48,
     "metadata": {},
     "output_type": "execute_result"
    }
   ],
   "source": [
    "nums = [1,2,3]\n",
    "target = 3\n",
    "s.searchRange(nums,target)"
   ]
  },
  {
   "cell_type": "code",
   "execution_count": null,
   "id": "1294eb46-e4d3-4fbc-9872-8df1b286215b",
   "metadata": {},
   "outputs": [],
   "source": []
  }
 ],
 "metadata": {
  "kernelspec": {
   "display_name": "Python 3",
   "language": "python",
   "name": "python3"
  },
  "language_info": {
   "codemirror_mode": {
    "name": "ipython",
    "version": 3
   },
   "file_extension": ".py",
   "mimetype": "text/x-python",
   "name": "python",
   "nbconvert_exporter": "python",
   "pygments_lexer": "ipython3",
   "version": "3.9.12"
  }
 },
 "nbformat": 4,
 "nbformat_minor": 5
}
