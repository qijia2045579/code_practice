{
 "cells": [
  {
   "cell_type": "markdown",
   "id": "c39e55fd-61c7-403d-ac7a-7e1d50a78c10",
   "metadata": {},
   "source": [
    "Given a string array words, return an array of all characters that show up in all strings within the words (including duplicates). You may return the answer in any order.\n",
    "\n",
    " \n",
    "\n",
    "Example 1:\n",
    "\n",
    "Input: words = [\"bella\",\"label\",\"roller\"]\n",
    "Output: [\"e\",\"l\",\"l\"]\n",
    "Example 2:\n",
    "\n",
    "Input: words = [\"cool\",\"lock\",\"cook\"]\n",
    "Output: [\"c\",\"o\"]\n",
    " \n",
    "\n",
    "Constraints:\n",
    "\n",
    "1 <= words.length <= 100\n",
    "1 <= words[i].length <= 100\n",
    "words[i] consists of lowercase English letters.\n",
    "Accepted\n",
    "147,635\n",
    "Submissions\n",
    "215,743"
   ]
  },
  {
   "cell_type": "code",
   "execution_count": 7,
   "id": "b798a317-f194-4ef5-af3f-a6d22c5ed272",
   "metadata": {},
   "outputs": [],
   "source": [
    "class Solution:\n",
    "    def commonChars(self, words: list[str]) -> list[str]:\n",
    "        main_s = None\n",
    "        for word in words:\n",
    "            if main_s is None:\n",
    "                main_s = {}\n",
    "                for c in word:\n",
    "                    if c not in main_s:\n",
    "                        main_s[c] = 1\n",
    "                    else:\n",
    "                        main_s[c] += 1\n",
    "            else:\n",
    "                s = {}\n",
    "                for c in word:\n",
    "                    if c not in s:\n",
    "                        s[c] = 1\n",
    "                    else:\n",
    "                        s[c] += 1\n",
    "                \n",
    "                for key in main_s:\n",
    "                    if key in s:\n",
    "                        main_s[key] = min(s[key], main_s[key])\n",
    "                    else:\n",
    "                        main_s[key] = 0\n",
    "            if len(main_s)==0:\n",
    "                return []\n",
    "        r = []\n",
    "        for k in main_s:\n",
    "            for i in range(main_s[k]):\n",
    "                r.append(k)\n",
    "        return r\n",
    "                        "
   ]
  },
  {
   "cell_type": "code",
   "execution_count": 8,
   "id": "0ad91467-3fcc-4870-bc2d-4b19aec31eee",
   "metadata": {},
   "outputs": [],
   "source": [
    "words = [\"bella\",\"label\",\"roller\"]"
   ]
  },
  {
   "cell_type": "code",
   "execution_count": 9,
   "id": "4f362b1d-2376-4d18-ba85-42b309bcaaaa",
   "metadata": {},
   "outputs": [
    {
     "data": {
      "text/plain": [
       "['e', 'l', 'l']"
      ]
     },
     "execution_count": 9,
     "metadata": {},
     "output_type": "execute_result"
    }
   ],
   "source": [
    "Solution().commonChars(words)"
   ]
  },
  {
   "cell_type": "code",
   "execution_count": null,
   "id": "504c85c0-0ee2-47b7-a645-0f6ba9b3e1ff",
   "metadata": {},
   "outputs": [],
   "source": []
  }
 ],
 "metadata": {
  "kernelspec": {
   "display_name": "Python 3",
   "language": "python",
   "name": "python3"
  },
  "language_info": {
   "codemirror_mode": {
    "name": "ipython",
    "version": 3
   },
   "file_extension": ".py",
   "mimetype": "text/x-python",
   "name": "python",
   "nbconvert_exporter": "python",
   "pygments_lexer": "ipython3",
   "version": "3.9.12"
  }
 },
 "nbformat": 4,
 "nbformat_minor": 5
}
