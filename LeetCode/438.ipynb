{
 "cells": [
  {
   "cell_type": "markdown",
   "id": "c1ec7d7d-ef93-457c-b7c7-927ba27ad17a",
   "metadata": {},
   "source": [
    "Given two strings s and p, return an array of all the start indices of p's anagrams in s. You may return the answer in any order.\n",
    "\n",
    "An Anagram is a word or phrase formed by rearranging the letters of a different word or phrase, typically using all the original letters exactly once.\n",
    "\n",
    " \n",
    "\n",
    "Example 1:\n",
    "\n",
    "Input: s = \"cbaebabacd\", p = \"abc\"\n",
    "Output: [0,6]\n",
    "Explanation:\n",
    "The substring with start index = 0 is \"cba\", which is an anagram of \"abc\".\n",
    "The substring with start index = 6 is \"bac\", which is an anagram of \"abc\".\n",
    "Example 2:\n",
    "\n",
    "Input: s = \"abab\", p = \"ab\"\n",
    "Output: [0,1,2]\n",
    "Explanation:\n",
    "The substring with start index = 0 is \"ab\", which is an anagram of \"ab\".\n",
    "The substring with start index = 1 is \"ba\", which is an anagram of \"ab\".\n",
    "The substring with start index = 2 is \"ab\", which is an anagram of \"ab\".\n",
    " \n",
    "\n",
    "Constraints:\n",
    "\n",
    "1 <= s.length, p.length <= 3 * 104\n",
    "s and p consist of lowercase English letters.\n",
    "Accepted\n",
    "542,767\n",
    "Submissions\n",
    "1,120,471"
   ]
  },
  {
   "cell_type": "code",
   "execution_count": 10,
   "id": "a26a2a96-73a9-4323-b392-3aba47b78005",
   "metadata": {},
   "outputs": [],
   "source": [
    "class Solution:\n",
    "    def findAnagrams(self, s: str, p: str) -> list[int]:\n",
    "        if len(s)<len(p):\n",
    "            return []\n",
    "        \n",
    "        r = []\n",
    "        \n",
    "        p_alpha = [0]*26\n",
    "        for c in p:\n",
    "            p_alpha[ord(c)-ord('a')] += 1\n",
    "        # print(p_alpha)\n",
    "        \n",
    "        subs_alpha = [0]*26\n",
    "        subs = s[:len(p)]\n",
    "        for c in subs:\n",
    "            subs_alpha[ord(c)-ord('a')] += 1\n",
    "        # print(subs_alpha)\n",
    "        \n",
    "        if subs_alpha==p_alpha:\n",
    "            r.append(0)\n",
    "        \n",
    "        for i in range(len(p), len(s)):\n",
    "            c_new = s[i]\n",
    "            c_old = s[i-len(p)]\n",
    "            subs_alpha[ord(c_new)-ord('a')] += 1\n",
    "            subs_alpha[ord(c_old)-ord('a')] -= 1\n",
    "            if subs_alpha==p_alpha:\n",
    "                r.append(i-len(p)+1)\n",
    "        \n",
    "        return r\n",
    "        \n",
    "            \n",
    "            "
   ]
  },
  {
   "cell_type": "code",
   "execution_count": 11,
   "id": "8e6b5282-eb72-440f-b066-30ce202beed5",
   "metadata": {},
   "outputs": [],
   "source": [
    "s = \"cbaebabacd\"\n",
    "p = \"abc\" "
   ]
  },
  {
   "cell_type": "code",
   "execution_count": 13,
   "id": "12a7ee47-a3fb-4c24-bb30-94e62a73e348",
   "metadata": {},
   "outputs": [],
   "source": [
    "s = \"abab\"\n",
    "p = \"ab\""
   ]
  },
  {
   "cell_type": "code",
   "execution_count": 14,
   "id": "4e0acef8-3553-44fa-b6f7-9a381e3300ec",
   "metadata": {},
   "outputs": [
    {
     "data": {
      "text/plain": [
       "[0, 1, 2]"
      ]
     },
     "execution_count": 14,
     "metadata": {},
     "output_type": "execute_result"
    }
   ],
   "source": [
    "Solution().findAnagrams(s,p)"
   ]
  },
  {
   "cell_type": "code",
   "execution_count": null,
   "id": "57d74ab1-5440-46a0-b029-1eaabcdd02e3",
   "metadata": {},
   "outputs": [],
   "source": []
  }
 ],
 "metadata": {
  "kernelspec": {
   "display_name": "Python 3",
   "language": "python",
   "name": "python3"
  },
  "language_info": {
   "codemirror_mode": {
    "name": "ipython",
    "version": 3
   },
   "file_extension": ".py",
   "mimetype": "text/x-python",
   "name": "python",
   "nbconvert_exporter": "python",
   "pygments_lexer": "ipython3",
   "version": "3.9.12"
  }
 },
 "nbformat": 4,
 "nbformat_minor": 5
}
