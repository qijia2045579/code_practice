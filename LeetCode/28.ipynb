{
 "cells": [
  {
   "cell_type": "markdown",
   "id": "20149129-aecc-4523-87c5-aef4c7e1ca4d",
   "metadata": {},
   "source": [
    "Implement strStr().\n",
    "\n",
    "Given two strings needle and haystack, return the index of the first occurrence of needle in haystack, or -1 if needle is not part of haystack.\n",
    "\n",
    "Clarification:\n",
    "\n",
    "What should we return when needle is an empty string? This is a great question to ask during an interview.\n",
    "\n",
    "For the purpose of this problem, we will return 0 when needle is an empty string. This is consistent to C's strstr() and Java's indexOf().\n",
    "\n",
    " \n",
    "\n",
    "Example 1:\n",
    "\n",
    "Input: haystack = \"hello\", needle = \"ll\"\n",
    "Output: 2\n",
    "Example 2:\n",
    "\n",
    "Input: haystack = \"aaaaa\", needle = \"bba\"\n",
    "Output: -1"
   ]
  },
  {
   "cell_type": "code",
   "execution_count": null,
   "id": "15c6e87b-9196-4840-bd63-114ac84c661a",
   "metadata": {},
   "outputs": [],
   "source": [
    "class Solution:\n",
    "    def prefix_table(self, needle):\n",
    "        l = len(needle)\n",
    "        p_tbl = [0]*l\n",
    "        j = 0 # j is the left pointer, i will be the right pointer, for each i, we move j to find the max common prefix.\n",
    "        for i in range(1,l):\n",
    "            p_tbl[i] = 0\n",
    "            while needle[j]==needle[i-j]:\n",
    "                p_tbl[i] += 1\n",
    "                j += 1\n",
    "                if j>\n",
    "            \n",
    "            \n",
    "    \n",
    "    def strStr(self, haystack: str, needle: str) -> int:\n",
    "        if len(needle)==0:\n",
    "            return 0\n",
    "        p_table = self.prefix_table(needle)\n",
    "        \n",
    "        \n",
    "        \n",
    "        "
   ]
  }
 ],
 "metadata": {
  "kernelspec": {
   "display_name": "Python 3",
   "language": "python",
   "name": "python3"
  },
  "language_info": {
   "codemirror_mode": {
    "name": "ipython",
    "version": 3
   },
   "file_extension": ".py",
   "mimetype": "text/x-python",
   "name": "python",
   "nbconvert_exporter": "python",
   "pygments_lexer": "ipython3",
   "version": "3.9.12"
  }
 },
 "nbformat": 4,
 "nbformat_minor": 5
}
