{
 "cells": [
  {
   "cell_type": "markdown",
   "id": "11df546f-0944-4b10-a238-f6fa6ec39c03",
   "metadata": {},
   "source": [
    "Given an integer array nums, return all the triplets [nums[i], nums[j], nums[k]] such that i != j, i != k, and j != k, and nums[i] + nums[j] + nums[k] == 0.\n",
    "\n",
    "Notice that the solution set must not contain duplicate triplets.\n",
    "\n",
    " \n",
    "\n",
    "Example 1:\n",
    "\n",
    "Input: nums = [-1,0,1,2,-1,-4]\n",
    "Output: [[-1,-1,2],[-1,0,1]]\n",
    "Example 2:\n",
    "\n",
    "Input: nums = []\n",
    "Output: []\n",
    "Example 3:\n",
    "\n",
    "Input: nums = [0]\n",
    "Output: []\n",
    " \n",
    "\n",
    "Constraints:\n",
    "\n",
    "0 <= nums.length <= 3000\n",
    "-105 <= nums[i] <= 105"
   ]
  },
  {
   "cell_type": "code",
   "execution_count": 58,
   "id": "77d56165-28b0-45d2-bd93-b5a49bbdde58",
   "metadata": {},
   "outputs": [],
   "source": [
    "class Solution:\n",
    "    def threeSum(self, nums: list[int]) -> list[list[int]]:\n",
    "        # When you can sort the arrary, you don't have to think the map first, think the pointer first\n",
    "        if len(nums)<3:\n",
    "            return []\n",
    "        good_nums = sorted(nums)\n",
    "        # print(good_nums)\n",
    "        results = []\n",
    "        for i in range(len(nums)):\n",
    "            target = -good_nums[i]\n",
    "            l = i+1\n",
    "            r = len(nums)-1\n",
    "            while l<r:\n",
    "                try:\n",
    "                    if good_nums[l]+good_nums[r]>target:\n",
    "                        r = r-1\n",
    "                    elif good_nums[l]+good_nums[r]<target:\n",
    "                        l = l+1\n",
    "                    else:\n",
    "                        if [good_nums[i],good_nums[l],good_nums[r]] not in results:\n",
    "                            results.append([good_nums[i],good_nums[l],good_nums[r]])\n",
    "                        while good_nums[l+1]==good_nums[l]:\n",
    "                            l = l+1\n",
    "                        while good_nums[r-1]==good_nums[r]:\n",
    "                            r = r-1\n",
    "                        l = l+1\n",
    "                        r = r-1\n",
    "                except:\n",
    "                    break\n",
    "        return results\n",
    "        # Here we need to remove the duplicated results\n",
    "        # This will cause too much cost, need to consider the duplicates above, not here\n",
    "        # real_result = []\n",
    "        # for r in results:\n",
    "        #     if r not in real_result:\n",
    "        #         real_result.append(r)\n",
    "        # return real_result\n",
    "                \n",
    "        "
   ]
  },
  {
   "cell_type": "code",
   "execution_count": 59,
   "id": "bfd2d88f-4274-436d-8e2e-49d83d8035dc",
   "metadata": {},
   "outputs": [],
   "source": [
    "nums = [-1,0,1,2,-1,-4]"
   ]
  },
  {
   "cell_type": "code",
   "execution_count": 60,
   "id": "cf6f3249-cd13-4960-b173-35018967773b",
   "metadata": {},
   "outputs": [
    {
     "data": {
      "text/plain": [
       "[[-1, -1, 2], [-1, 0, 1]]"
      ]
     },
     "execution_count": 60,
     "metadata": {},
     "output_type": "execute_result"
    }
   ],
   "source": [
    "Solution().threeSum(nums)"
   ]
  },
  {
   "cell_type": "code",
   "execution_count": null,
   "id": "9d234321-678b-4b6b-a2da-20f72ce71bb0",
   "metadata": {},
   "outputs": [],
   "source": []
  }
 ],
 "metadata": {
  "kernelspec": {
   "display_name": "Python 3",
   "language": "python",
   "name": "python3"
  },
  "language_info": {
   "codemirror_mode": {
    "name": "ipython",
    "version": 3
   },
   "file_extension": ".py",
   "mimetype": "text/x-python",
   "name": "python",
   "nbconvert_exporter": "python",
   "pygments_lexer": "ipython3",
   "version": "3.9.12"
  }
 },
 "nbformat": 4,
 "nbformat_minor": 5
}
