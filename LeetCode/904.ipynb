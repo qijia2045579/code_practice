{
 "cells": [
  {
   "cell_type": "markdown",
   "id": "229d44b0-b955-40b8-9611-6d91982608c4",
   "metadata": {},
   "source": [
    "You are visiting a farm that has a single row of fruit trees arranged from left to right. The trees are represented by an integer array fruits where fruits[i] is the type of fruit the ith tree produces.\n",
    "\n",
    "You want to collect as much fruit as possible. However, the owner has some strict rules that you must follow:\n",
    "\n",
    "You only have two baskets, and each basket can only hold a single type of fruit. There is no limit on the amount of fruit each basket can hold.\n",
    "Starting from any tree of your choice, you must pick exactly one fruit from every tree (including the start tree) while moving to the right. The picked fruits must fit in one of your baskets.\n",
    "Once you reach a tree with fruit that cannot fit in your baskets, you must stop.\n",
    "Given the integer array fruits, return the maximum number of fruits you can pick.\n",
    "\n",
    " \n",
    "\n",
    "Example 1:\n",
    "\n",
    "Input: fruits = [1,2,1]\n",
    "Output: 3\n",
    "Explanation: We can pick from all 3 trees.\n",
    "Example 2:\n",
    "\n",
    "Input: fruits = [0,1,2,2]\n",
    "Output: 3\n",
    "Explanation: We can pick from trees [1,2,2].\n",
    "If we had started at the first tree, we would only pick from trees [0,1].\n",
    "Example 3:\n",
    "\n",
    "Input: fruits = [1,2,3,2,2]\n",
    "Output: 4\n",
    "Explanation: We can pick from trees [2,3,2,2].\n",
    "If we had started at the first tree, we would only pick from trees [1,2].\n",
    " \n",
    "\n",
    "Constraints:\n",
    "\n",
    "1 <= fruits.length <= 105\n",
    "0 <= fruits[i] < fruits.length"
   ]
  },
  {
   "cell_type": "code",
   "execution_count": 291,
   "id": "30a13f96-44ba-4cf8-99ba-9bc37df23cce",
   "metadata": {},
   "outputs": [],
   "source": [
    "class Solution:\n",
    "    def totalFruit(self, fruits: list[int]) -> int:        \n",
    "        # This question, in other words, we need to find the longest subarray that only includes 2 kinds of number.\n",
    "        basket=[]\n",
    "        results = []\n",
    "        r_l = 0\n",
    "        r_r = 0\n",
    "        last_change_point = -1\n",
    "        for i in range(len(fruits)):\n",
    "            f = fruits[i]\n",
    "            if f not in basket:\n",
    "                basket.append(f)\n",
    "            if f==basket[0]:\n",
    "                r_l += 1\n",
    "            if len(basket)>1 and f==basket[1]:\n",
    "                r_r += 1\n",
    "            # print('basket is: '+str(basket))\n",
    "            # print('r_l and r_r are: '+str(r_l)+' '+str(r_r))\n",
    "            if len(basket)>2: # when we found there is a new element come, we need to count the summation of both previous two buckets to results\n",
    "                results.append(r_l+r_r)\n",
    "                # r_l = r_r # here we need to count the right bucket how many has been lasted, not r_l = r_r, if it is [1, 2, 2], then it can be r_l = r_r, but if it is [1,2,1,2], then r_l = 1, not 2.\n",
    "                if fruits[i-1]==basket[1]:\n",
    "                    for j in range(1,i+1,1):\n",
    "                        if fruits[i-j]!=basket[1]:\n",
    "                            break\n",
    "                    r_l = j-1\n",
    "                    r_r = 1\n",
    "                    basket = basket[-2:]\n",
    "                elif fruits[i-1]==basket[0]:\n",
    "                    for j in range(1,i+1,1):\n",
    "                        if fruits[i-j]!=basket[0]:\n",
    "                            break\n",
    "                    r_l = j-1\n",
    "                    r_r = 1\n",
    "                    basket = [basket[0], basket[2]]\n",
    "                else:\n",
    "                    pass\n",
    "                \n",
    "                # print('in change basket is: '+str(basket))\n",
    "                # print('r_l and r_r are: '+str(r_l)+' '+str(r_r))\n",
    "            # print(basket)\n",
    "        results.append(r_l+r_r)\n",
    "        return max(results)\n",
    "                    \n",
    "                    \n",
    "        "
   ]
  },
  {
   "cell_type": "code",
   "execution_count": 292,
   "id": "712b7790-634c-4a42-95bb-ed06ae11667b",
   "metadata": {},
   "outputs": [],
   "source": [
    "s = Solution()"
   ]
  },
  {
   "cell_type": "code",
   "execution_count": 293,
   "id": "8fe605cf-fe1d-4d85-8ee6-fe910a1fcf47",
   "metadata": {},
   "outputs": [
    {
     "data": {
      "text/plain": [
       "3"
      ]
     },
     "execution_count": 293,
     "metadata": {},
     "output_type": "execute_result"
    }
   ],
   "source": [
    "fruits = [1,2,1]\n",
    "s.totalFruit(fruits)"
   ]
  },
  {
   "cell_type": "code",
   "execution_count": 294,
   "id": "e30d300d-4e9d-4a67-88c0-57c98f786e21",
   "metadata": {},
   "outputs": [
    {
     "data": {
      "text/plain": [
       "3"
      ]
     },
     "execution_count": 294,
     "metadata": {},
     "output_type": "execute_result"
    }
   ],
   "source": [
    "fruits = [0,1,2,2]\n",
    "s.totalFruit(fruits)"
   ]
  },
  {
   "cell_type": "code",
   "execution_count": 295,
   "id": "63e25f01-b366-4cf8-90fc-d090fa7649e1",
   "metadata": {},
   "outputs": [
    {
     "data": {
      "text/plain": [
       "4"
      ]
     },
     "execution_count": 295,
     "metadata": {},
     "output_type": "execute_result"
    }
   ],
   "source": [
    "fruits = [1,2,3,2,2]\n",
    "s.totalFruit(fruits)"
   ]
  },
  {
   "cell_type": "code",
   "execution_count": 296,
   "id": "05a51b6b-c62b-423d-ab6e-647c29477227",
   "metadata": {},
   "outputs": [
    {
     "data": {
      "text/plain": [
       "3"
      ]
     },
     "execution_count": 296,
     "metadata": {},
     "output_type": "execute_result"
    }
   ],
   "source": [
    "fruits = [0,1,1,4,3]\n",
    "s.totalFruit(fruits)"
   ]
  },
  {
   "cell_type": "code",
   "execution_count": 297,
   "id": "70aa0112-a463-4441-899a-810228f145d7",
   "metadata": {},
   "outputs": [
    {
     "data": {
      "text/plain": [
       "5"
      ]
     },
     "execution_count": 297,
     "metadata": {},
     "output_type": "execute_result"
    }
   ],
   "source": [
    "fruits = [3,3,3,1,2,1,1,2,3,3,4]\n",
    "s.totalFruit(fruits)"
   ]
  },
  {
   "cell_type": "code",
   "execution_count": 298,
   "id": "42636b80-4062-45a9-8ee8-57b15481fd82",
   "metadata": {},
   "outputs": [
    {
     "data": {
      "text/plain": [
       "5"
      ]
     },
     "execution_count": 298,
     "metadata": {},
     "output_type": "execute_result"
    }
   ],
   "source": [
    "fruits = [1,0,1,4,1,4,1,2,3]\n",
    "s.totalFruit(fruits)"
   ]
  },
  {
   "cell_type": "code",
   "execution_count": null,
   "id": "e09ff875-c543-445c-a04b-745a39e3dd35",
   "metadata": {},
   "outputs": [],
   "source": []
  },
  {
   "cell_type": "code",
   "execution_count": null,
   "id": "afc9c0e0-2f1d-4d98-89ff-6bc58ae4897a",
   "metadata": {},
   "outputs": [],
   "source": []
  }
 ],
 "metadata": {
  "kernelspec": {
   "display_name": "Python 3",
   "language": "python",
   "name": "python3"
  },
  "language_info": {
   "codemirror_mode": {
    "name": "ipython",
    "version": 3
   },
   "file_extension": ".py",
   "mimetype": "text/x-python",
   "name": "python",
   "nbconvert_exporter": "python",
   "pygments_lexer": "ipython3",
   "version": "3.9.12"
  }
 },
 "nbformat": 4,
 "nbformat_minor": 5
}
