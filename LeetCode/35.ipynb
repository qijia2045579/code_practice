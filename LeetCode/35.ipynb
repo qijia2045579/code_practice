{
 "cells": [
  {
   "cell_type": "markdown",
   "id": "aee2ace9-b420-4510-b1c6-8064ad80d6d3",
   "metadata": {},
   "source": [
    "Given a sorted array of distinct integers and a target value, return the index if the target is found. If not, return the index where it would be if it were inserted in order.\n",
    "\n",
    "You must write an algorithm with O(log n) runtime complexity.\n",
    "\n",
    " \n",
    "\n",
    "Example 1:\n",
    "\n",
    "Input: nums = [1,3,5,6], target = 5\n",
    "Output: 2\n",
    "Example 2:\n",
    "\n",
    "Input: nums = [1,3,5,6], target = 2\n",
    "Output: 1\n",
    "Example 3:\n",
    "\n",
    "Input: nums = [1,3,5,6], target = 7\n",
    "Output: 4\n",
    " \n",
    "\n",
    "Constraints:\n",
    "\n",
    "1 <= nums.length <= 104\n",
    "-104 <= nums[i] <= 104\n",
    "nums contains distinct values sorted in ascending order.\n",
    "-104 <= target <= 104"
   ]
  },
  {
   "cell_type": "code",
   "execution_count": 28,
   "id": "9e02ad2d-8a8e-45dc-bf3f-7648c8e92cf0",
   "metadata": {},
   "outputs": [],
   "source": [
    "class Solution:\n",
    "    def searchInsert(self, nums, target: int) -> int:\n",
    "        def bi_search(nums, target, left):\n",
    "            if len(nums)==1:\n",
    "                if nums[0]==target:\n",
    "                    return left\n",
    "                elif nums[0]>target:\n",
    "                    return left\n",
    "                else:\n",
    "                    return left+1\n",
    "            pivot = len(nums)//2\n",
    "            if nums[pivot]>target:\n",
    "                return bi_search(nums[:pivot], target, left)\n",
    "            else:\n",
    "                return bi_search(nums[pivot:], target, left+pivot)\n",
    "        return bi_search(nums,target,0)\n",
    "                    "
   ]
  },
  {
   "cell_type": "code",
   "execution_count": 29,
   "id": "abb6671e-bb0a-41cb-9c9a-46ac6553ea73",
   "metadata": {},
   "outputs": [],
   "source": [
    "s=Solution()"
   ]
  },
  {
   "cell_type": "code",
   "execution_count": 30,
   "id": "230e5bef-b1f8-4d31-ad85-b9bac7bad7d7",
   "metadata": {},
   "outputs": [
    {
     "data": {
      "text/plain": [
       "2"
      ]
     },
     "execution_count": 30,
     "metadata": {},
     "output_type": "execute_result"
    }
   ],
   "source": [
    "nums = [1,3,5,6]\n",
    "target = 5\n",
    "s.searchInsert(nums, target)"
   ]
  },
  {
   "cell_type": "code",
   "execution_count": 31,
   "id": "8950c658-bbb4-438d-bd58-5e69737653ac",
   "metadata": {},
   "outputs": [
    {
     "data": {
      "text/plain": [
       "1"
      ]
     },
     "execution_count": 31,
     "metadata": {},
     "output_type": "execute_result"
    }
   ],
   "source": [
    "nums = [1,3,5,6]\n",
    "target = 2\n",
    "s.searchInsert(nums, target)"
   ]
  },
  {
   "cell_type": "code",
   "execution_count": 32,
   "id": "f5f416f8-cf81-49aa-89c7-6d6e8b32ea84",
   "metadata": {},
   "outputs": [
    {
     "data": {
      "text/plain": [
       "4"
      ]
     },
     "execution_count": 32,
     "metadata": {},
     "output_type": "execute_result"
    }
   ],
   "source": [
    "nums = [1,3,5,6]\n",
    "target = 7\n",
    "s.searchInsert(nums, target)"
   ]
  },
  {
   "cell_type": "code",
   "execution_count": 33,
   "id": "a0c5bb15-6088-44be-9cd7-dbe35ce53434",
   "metadata": {},
   "outputs": [
    {
     "data": {
      "text/plain": [
       "0"
      ]
     },
     "execution_count": 33,
     "metadata": {},
     "output_type": "execute_result"
    }
   ],
   "source": [
    "nums = [1,3,5,6]\n",
    "target = 0\n",
    "s.searchInsert(nums, target)"
   ]
  },
  {
   "cell_type": "code",
   "execution_count": null,
   "id": "baad0f8c-8293-4440-93f9-4fec4d2db282",
   "metadata": {},
   "outputs": [],
   "source": []
  }
 ],
 "metadata": {
  "kernelspec": {
   "display_name": "Python 3",
   "language": "python",
   "name": "python3"
  },
  "language_info": {
   "codemirror_mode": {
    "name": "ipython",
    "version": 3
   },
   "file_extension": ".py",
   "mimetype": "text/x-python",
   "name": "python",
   "nbconvert_exporter": "python",
   "pygments_lexer": "ipython3",
   "version": "3.9.12"
  }
 },
 "nbformat": 4,
 "nbformat_minor": 5
}
