{
 "cells": [
  {
   "cell_type": "markdown",
   "id": "6c150d7c-c032-4485-8210-ac6064b78e8e",
   "metadata": {},
   "source": [
    "Design your implementation of the linked list. You can choose to use a singly or doubly linked list.\n",
    "A node in a singly linked list should have two attributes: val and next. val is the value of the current node, and next is a pointer/reference to the next node.\n",
    "If you want to use the doubly linked list, you will need one more attribute prev to indicate the previous node in the linked list. Assume all nodes in the linked list are 0-indexed.\n",
    "\n",
    "Implement the MyLinkedList class:\n",
    "\n",
    "MyLinkedList() Initializes the MyLinkedList object.\n",
    "int get(int index) Get the value of the indexth node in the linked list. If the index is invalid, return -1.\n",
    "void addAtHead(int val) Add a node of value val before the first element of the linked list. After the insertion, the new node will be the first node of the linked list.\n",
    "void addAtTail(int val) Append a node of value val as the last element of the linked list.\n",
    "void addAtIndex(int index, int val) Add a node of value val before the indexth node in the linked list. If index equals the length of the linked list, the node will be appended to the end of the linked list. If index is greater than the length, the node will not be inserted.\n",
    "void deleteAtIndex(int index) Delete the indexth node in the linked list, if the index is valid.\n",
    " \n",
    "\n",
    "Example 1:\n",
    "\n",
    "Input\n",
    "[\"MyLinkedList\", \"addAtHead\", \"addAtTail\", \"addAtIndex\", \"get\", \"deleteAtIndex\", \"get\"]\n",
    "[[], [1], [3], [1, 2], [1], [1], [1]]\n",
    "Output\n",
    "[null, null, null, null, 2, null, 3]\n",
    "\n",
    "Explanation\n",
    "\n",
    "MyLinkedList myLinkedList = new MyLinkedList();\n",
    "\n",
    "myLinkedList.addAtHead(1);\n",
    "\n",
    "myLinkedList.addAtTail(3);\n",
    "\n",
    "myLinkedList.addAtIndex(1, 2);    // linked list becomes 1->2->3\n",
    "\n",
    "myLinkedList.get(1);              // return 2\n",
    "\n",
    "myLinkedList.deleteAtIndex(1);    // now the linked list is 1->3\n",
    "\n",
    "myLinkedList.get(1);              // return 3\n",
    " \n",
    "\n",
    "Constraints:\n",
    "\n",
    "0 <= index, val <= 1000\n",
    "Please do not use the built-in LinkedList library.\n",
    "At most 2000 calls will be made to get, addAtHead, addAtTail, addAtIndex and deleteAtIndex."
   ]
  },
  {
   "cell_type": "code",
   "execution_count": 104,
   "id": "81634f53-0f7a-4d59-8983-e5110d257286",
   "metadata": {},
   "outputs": [],
   "source": [
    "# Define own ListNode first, This is the one-direction version\n",
    "class ListNode:\n",
    "    \n",
    "    def __init__(self, val):\n",
    "        self.val = val\n",
    "        self.next = None\n",
    "\n",
    "# Based on self-defined ListNode, design the MyLinkedList\n",
    "class MyLinkedList:\n",
    "\n",
    "    def __init__(self):\n",
    "        self.head = ListNode('h') # define a dummy head, which can be any value, just is used for handle others\n",
    "        self.count = 0\n",
    "\n",
    "    def get(self, index: int) -> int:\n",
    "        h = self.head\n",
    "        try:\n",
    "            for i in range(index+1):\n",
    "                h = h.next\n",
    "            return h.val\n",
    "        except:\n",
    "            return -1\n",
    "\n",
    "    def addAtHead(self, val: int) -> None:\n",
    "        self.addAtIndex(0, val)\n",
    "        return None\n",
    "\n",
    "    def addAtTail(self, val: int) -> None:\n",
    "        self.addAtIndex(self.count, val)\n",
    "        return None\n",
    "\n",
    "    def addAtIndex(self, index: int, val: int) -> None:\n",
    "        h = self.head\n",
    "        new_node = ListNode(val)\n",
    "        try:\n",
    "            for i in range(index):\n",
    "                h = h.next\n",
    "            h_next = h.next\n",
    "            h.next = new_node\n",
    "            new_node.next = h_next\n",
    "            self.count += 1\n",
    "        except:\n",
    "            pass\n",
    "            # raise ValueError(\"index not correct\")\n",
    "        return None\n",
    "        \n",
    "    def deleteAtIndex(self, index: int) -> None:\n",
    "        h = self.head\n",
    "        try:\n",
    "            for i in range(index):\n",
    "                h = h.next\n",
    "            h.next = h.next.next\n",
    "            self.count -= 1\n",
    "        except:\n",
    "            pass\n",
    "            # raise ValueError(\"index not correct\")\n",
    "        return None\n",
    "        \n",
    "\n",
    "\n",
    "# Your MyLinkedList object will be instantiated and called as such:\n",
    "# obj = MyLinkedList()\n",
    "# param_1 = obj.get(index)\n",
    "# obj.addAtHead(val)\n",
    "# obj.addAtTail(val)\n",
    "# obj.addAtIndex(index,val)\n",
    "# obj.deleteAtIndex(index)"
   ]
  },
  {
   "cell_type": "code",
   "execution_count": 324,
   "id": "8ae58001-5ab0-4393-b994-8b0257646a22",
   "metadata": {},
   "outputs": [],
   "source": [
    "# Define own ListNode first, This is the bi-direction version\n",
    "class ListNode:\n",
    "    \n",
    "    def __init__(self, val):\n",
    "        self.val = val\n",
    "        self.next = None\n",
    "        self.prev = None\n",
    "\n",
    "# Based on self-defined ListNode, design the MyLinkedList\n",
    "# The benefits of bi-direction link list is that you can search from left or right\n",
    "\n",
    "class MyLinkedList:\n",
    "\n",
    "    def __init__(self):\n",
    "        self.head = ListNode('h') # define a dummy head, which can be any value, just is used for handle others\n",
    "        self.head.next = self.head\n",
    "        self.head.prev = self.head\n",
    "        self.count = 0\n",
    "\n",
    "    def get_head(self, index: int) -> ListNode:\n",
    "        if index>self.count:\n",
    "            return None\n",
    "        h = self.head\n",
    "        i = 0\n",
    "        if index<=self.count//2:\n",
    "            while i<index:\n",
    "                h = h.next\n",
    "                i += 1\n",
    "            return h\n",
    "        else:\n",
    "            while i<self.count-index+1:\n",
    "                h = h.prev\n",
    "                i += 1\n",
    "            return h\n",
    "    \n",
    "    def get(self, index: int) -> int:\n",
    "        if index>self.count-1:\n",
    "            return -1\n",
    "        else:\n",
    "            return self.get_head(index+1).val\n",
    "\n",
    "    def addAtHead(self, val: int) -> None:\n",
    "        self.addAtIndex(0, val)\n",
    "        return None\n",
    "\n",
    "    def addAtTail(self, val: int) -> None:\n",
    "        self.addAtIndex(self.count, val)\n",
    "        return None\n",
    "\n",
    "    def addAtIndex(self, index: int, val: int) -> None:\n",
    "        if index>self.count:\n",
    "            return None\n",
    "        new_node = ListNode(val)\n",
    "        try:\n",
    "            h = self.get_head(index)\n",
    "            new_node.next = h.next\n",
    "            h.next = new_node\n",
    "            new_node.prev = h\n",
    "            new_node.next.prev = new_node\n",
    "            self.count += 1\n",
    "        except:\n",
    "            pass\n",
    "        return None\n",
    "        \n",
    "    def deleteAtIndex(self, index: int) -> None:\n",
    "        if index>self.count-1:\n",
    "            return None\n",
    "        try:\n",
    "            h = self.get_head(index)\n",
    "            h.next = h.next.next\n",
    "            h.next.prev = h\n",
    "            self.count -= 1\n",
    "        except:\n",
    "            pass\n",
    "        return None\n",
    "        \n",
    "\n",
    "\n",
    "# Your MyLinkedList object will be instantiated and called as such:\n",
    "# obj = MyLinkedList()\n",
    "# param_1 = obj.get(index)\n",
    "# obj.addAtHead(val)\n",
    "# obj.addAtTail(val)\n",
    "# obj.addAtIndex(index,val)\n",
    "# obj.deleteAtIndex(index)"
   ]
  },
  {
   "cell_type": "code",
   "execution_count": 303,
   "id": "ffb36ad3-2579-4462-b42b-c2c8ab503ae4",
   "metadata": {},
   "outputs": [],
   "source": [
    "obj = MyLinkedList()\n",
    "\n",
    "obj.addAtHead(1)\n",
    "\n",
    "# myLinkedList.addAtTail(3);\n",
    "\n",
    "# myLinkedList.addAtIndex(1, 2); // linked list becomes 1->2->3\n",
    "\n",
    "# myLinkedList.get(1); // return 2\n",
    "\n",
    "# myLinkedList.deleteAtIndex(1); // now the linked list is 1->3\n",
    "\n",
    "# myLinkedList.get(1); // return 3"
   ]
  },
  {
   "cell_type": "code",
   "execution_count": 304,
   "id": "582c01e9-bf6e-409d-a623-e9c4d86bd582",
   "metadata": {},
   "outputs": [],
   "source": [
    "obj.addAtTail(3)"
   ]
  },
  {
   "cell_type": "code",
   "execution_count": 305,
   "id": "dba2d312-9b05-408e-85f5-855b335d2da5",
   "metadata": {},
   "outputs": [],
   "source": [
    "obj.addAtIndex(1, 2)"
   ]
  },
  {
   "cell_type": "code",
   "execution_count": 306,
   "id": "df9fb52e-f286-4fbe-9a6b-e4ec9ea87f99",
   "metadata": {},
   "outputs": [
    {
     "data": {
      "text/plain": [
       "3"
      ]
     },
     "execution_count": 306,
     "metadata": {},
     "output_type": "execute_result"
    }
   ],
   "source": [
    "obj.get(2)"
   ]
  },
  {
   "cell_type": "code",
   "execution_count": 307,
   "id": "fe1ca705-2b9b-429c-885e-70ea97761e8a",
   "metadata": {},
   "outputs": [],
   "source": [
    "obj.deleteAtIndex(1)"
   ]
  },
  {
   "cell_type": "code",
   "execution_count": 310,
   "id": "b6afda32-b03f-4c06-be47-d928feb69416",
   "metadata": {},
   "outputs": [
    {
     "data": {
      "text/plain": [
       "-1"
      ]
     },
     "execution_count": 310,
     "metadata": {},
     "output_type": "execute_result"
    }
   ],
   "source": [
    "obj.get(2)"
   ]
  },
  {
   "cell_type": "code",
   "execution_count": null,
   "id": "aca580d2-ebb1-4c64-8866-ca07edf689eb",
   "metadata": {},
   "outputs": [],
   "source": [
    "[\"MyLinkedList\",\"addAtHead\",\"deleteAtIndex\",\"addAtHead\",\"addAtHead\",\"addAtHead\",\"addAtHead\",\"addAtHead\",\"addAtTail\",\"get\",\"deleteAtIndex\",\"deleteAtIndex\"]\n",
    "[[],[2],[1],[2],[7],[3],[2],[5],[5],[5],[6],[4]]"
   ]
  },
  {
   "cell_type": "code",
   "execution_count": 231,
   "id": "4adacca3-0a44-4b87-983b-ce7c9ccedee5",
   "metadata": {},
   "outputs": [],
   "source": [
    "obj = MyLinkedList()\n",
    "obj.addAtHead(2)\n",
    "obj.deleteAtIndex(1)\n",
    "obj.addAtHead(2)\n",
    "obj.addAtHead(7)\n",
    "obj.addAtHead(3)\n",
    "obj.addAtHead(2)\n",
    "obj.addAtHead(5)\n",
    "obj.addAtTail(5)\n",
    "obj.get(5)\n",
    "obj.deleteAtIndex(6)\n",
    "obj.deleteAtIndex(4)\n",
    "\n",
    "\n",
    "# obj.addAtTail(val)\n",
    "\n",
    "# obj.deleteAtIndex(index)"
   ]
  },
  {
   "cell_type": "code",
   "execution_count": null,
   "id": "9e575493-342e-4083-aefe-55a4e92a1853",
   "metadata": {},
   "outputs": [],
   "source": [
    "[\"MyLinkedList\",\"addAtHead\",\"get\",\"addAtHead\",\"addAtHead\",\"deleteAtIndex\",\"addAtHead\",\"get\",\"get\",\"get\",\"addAtHead\",\"deleteAtIndex\"]\n",
    "[[],[4],[1],[1],[5],[3],[7],[3],[3],[3],[1],[4]]"
   ]
  },
  {
   "cell_type": "code",
   "execution_count": 311,
   "id": "dbef44a7-f0ca-4b22-aa23-81ce21a39aa6",
   "metadata": {},
   "outputs": [],
   "source": [
    "obj = MyLinkedList()\n",
    "obj.addAtHead(4)"
   ]
  },
  {
   "cell_type": "code",
   "execution_count": 312,
   "id": "c13254c4-5c85-4ccb-b75c-e222c1f887b2",
   "metadata": {},
   "outputs": [
    {
     "data": {
      "text/plain": [
       "-1"
      ]
     },
     "execution_count": 312,
     "metadata": {},
     "output_type": "execute_result"
    }
   ],
   "source": [
    "obj.get(1)"
   ]
  },
  {
   "cell_type": "code",
   "execution_count": 313,
   "id": "63368451-06b4-44ad-9b98-dd232b1bd61e",
   "metadata": {},
   "outputs": [],
   "source": [
    "obj.addAtHead(1)"
   ]
  },
  {
   "cell_type": "code",
   "execution_count": 323,
   "id": "81a876af-2447-4fb6-a9eb-353102419999",
   "metadata": {},
   "outputs": [
    {
     "data": {
      "text/plain": [
       "-1"
      ]
     },
     "execution_count": 323,
     "metadata": {},
     "output_type": "execute_result"
    }
   ],
   "source": [
    "obj.get(2)"
   ]
  },
  {
   "cell_type": "code",
   "execution_count": 316,
   "id": "c5b1cde9-b536-4df4-aa73-39304cf67e90",
   "metadata": {},
   "outputs": [],
   "source": [
    "obj.addAtHead(5)"
   ]
  },
  {
   "cell_type": "code",
   "execution_count": 321,
   "id": "f4829329-e6f4-4827-bf0a-4fd2a405526b",
   "metadata": {},
   "outputs": [],
   "source": [
    "obj.deleteAtIndex(3)"
   ]
  },
  {
   "cell_type": "code",
   "execution_count": null,
   "id": "28df7fdc-8f8d-4521-98db-24344b699858",
   "metadata": {},
   "outputs": [],
   "source": [
    "obj.addAtTail(8)\n",
    "obj.addAtHead(6)\n",
    "obj.addAtHead(0)\n",
    "obj.get(5)\n",
    "obj.addAtHead(0)\n",
    "obj.get(2)\n",
    "obj.get(5)\n",
    "obj.addAtTail(4)"
   ]
  },
  {
   "cell_type": "code",
   "execution_count": 253,
   "id": "7593eb63-854a-4078-a28e-64a57a3e308a",
   "metadata": {},
   "outputs": [
    {
     "name": "stdout",
     "output_type": "stream",
     "text": [
      "0\n"
     ]
    },
    {
     "data": {
      "text/plain": [
       "8"
      ]
     },
     "execution_count": 253,
     "metadata": {},
     "output_type": "execute_result"
    }
   ],
   "source": [
    "obj.get(1)"
   ]
  },
  {
   "cell_type": "code",
   "execution_count": 289,
   "id": "9e38c423-70ca-46c1-9b35-bbfa70180ef0",
   "metadata": {},
   "outputs": [
    {
     "data": {
      "text/plain": [
       "0"
      ]
     },
     "execution_count": 289,
     "metadata": {},
     "output_type": "execute_result"
    }
   ],
   "source": [
    "1//2"
   ]
  },
  {
   "cell_type": "code",
   "execution_count": null,
   "id": "f12820c5-1959-4093-abfc-425a21e33fa0",
   "metadata": {},
   "outputs": [],
   "source": []
  }
 ],
 "metadata": {
  "kernelspec": {
   "display_name": "Python 3",
   "language": "python",
   "name": "python3"
  },
  "language_info": {
   "codemirror_mode": {
    "name": "ipython",
    "version": 3
   },
   "file_extension": ".py",
   "mimetype": "text/x-python",
   "name": "python",
   "nbconvert_exporter": "python",
   "pygments_lexer": "ipython3",
   "version": "3.9.12"
  }
 },
 "nbformat": 4,
 "nbformat_minor": 5
}
