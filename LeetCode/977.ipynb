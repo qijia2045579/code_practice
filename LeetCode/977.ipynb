{
 "cells": [
  {
   "cell_type": "markdown",
   "id": "8df19058-06f8-4cb6-9c7f-e53fbf4293e1",
   "metadata": {},
   "source": [
    "Given an integer array nums sorted in non-decreasing order, return an array of the squares of each number sorted in non-decreasing order.\n",
    "\n",
    " \n",
    "\n",
    "Example 1:\n",
    "\n",
    "Input: nums = [-4,-1,0,3,10]\n",
    "Output: [0,1,9,16,100]\n",
    "Explanation: After squaring, the array becomes [16,1,0,9,100].\n",
    "After sorting, it becomes [0,1,9,16,100].\n",
    "Example 2:\n",
    "\n",
    "Input: nums = [-7,-3,2,3,11]\n",
    "Output: [4,9,9,49,121]\n",
    " \n",
    "\n",
    "Constraints:\n",
    "\n",
    "1 <= nums.length <= 104\n",
    "-104 <= nums[i] <= 104\n",
    "nums is sorted in non-decreasing order.\n",
    " \n",
    "\n",
    "Follow up: Squaring each element and sorting the new array is very trivial, could you find an O(n) solution using a different approach?"
   ]
  },
  {
   "cell_type": "code",
   "execution_count": 20,
   "id": "fa99e249-83e3-4930-84fc-a9a18bbecde3",
   "metadata": {},
   "outputs": [],
   "source": [
    "class Solution:\n",
    "    def sortedSquares(self, nums: list[int]) -> list[int]:\n",
    "        p = 0 # positive_pointer = 0\n",
    "        n = -1 # negtive_pointer = 0\n",
    "        r = []\n",
    "        # O(n)\n",
    "        for i in range(len(nums)):\n",
    "            if nums[i]<0:\n",
    "                p += 1\n",
    "                n += 1\n",
    "        # O(n)\n",
    "        while n>=0 or p<len(nums):\n",
    "            a = nums[p]**2 if p<len(nums) else nums[n]**2+1\n",
    "            b = nums[n]**2\n",
    "            if a>b:\n",
    "                r.append(b)\n",
    "                n -= 1\n",
    "            else:\n",
    "                r.append(a)\n",
    "                p += 1\n",
    "        return r\n",
    "            \n",
    "        \n",
    "        \n",
    "#        r = []\n",
    "#        for num in nums:\n",
    "#            r.append(num*num)\n",
    "#        return sorted(r)"
   ]
  },
  {
   "cell_type": "code",
   "execution_count": 21,
   "id": "0c9f909c-6417-4277-ac55-9580ea3a7c32",
   "metadata": {},
   "outputs": [],
   "source": [
    "s = Solution()"
   ]
  },
  {
   "cell_type": "code",
   "execution_count": 22,
   "id": "547e33f7-b01c-4b3d-88a7-b998232da122",
   "metadata": {},
   "outputs": [
    {
     "data": {
      "text/plain": [
       "[0, 1, 9, 16, 100]"
      ]
     },
     "execution_count": 22,
     "metadata": {},
     "output_type": "execute_result"
    }
   ],
   "source": [
    "nums = [-4,-1,0,3,10]\n",
    "s.sortedSquares(nums)"
   ]
  },
  {
   "cell_type": "code",
   "execution_count": 23,
   "id": "3898a453-a095-4110-96d0-bedc4460d328",
   "metadata": {},
   "outputs": [
    {
     "data": {
      "text/plain": [
       "[4, 9, 9, 49, 121]"
      ]
     },
     "execution_count": 23,
     "metadata": {},
     "output_type": "execute_result"
    }
   ],
   "source": [
    "nums = [-7,-3,2,3,11]\n",
    "s.sortedSquares(nums)"
   ]
  },
  {
   "cell_type": "code",
   "execution_count": 24,
   "id": "a55dc63e-2420-4538-bc42-e22d388eaad0",
   "metadata": {},
   "outputs": [
    {
     "data": {
      "text/plain": [
       "[9, 49]"
      ]
     },
     "execution_count": 24,
     "metadata": {},
     "output_type": "execute_result"
    }
   ],
   "source": [
    "nums = [-7,-3]\n",
    "s.sortedSquares(nums)"
   ]
  },
  {
   "cell_type": "code",
   "execution_count": 25,
   "id": "b142ea45-b6c2-4cad-9bb6-1c0e8e0e27e0",
   "metadata": {},
   "outputs": [
    {
     "data": {
      "text/plain": [
       "[4, 9, 121]"
      ]
     },
     "execution_count": 25,
     "metadata": {},
     "output_type": "execute_result"
    }
   ],
   "source": [
    "nums = [2,3,11]\n",
    "s.sortedSquares(nums)"
   ]
  },
  {
   "cell_type": "code",
   "execution_count": null,
   "id": "8233aec7-1144-4507-915a-be4f1319115c",
   "metadata": {},
   "outputs": [],
   "source": []
  }
 ],
 "metadata": {
  "kernelspec": {
   "display_name": "Python 3",
   "language": "python",
   "name": "python3"
  },
  "language_info": {
   "codemirror_mode": {
    "name": "ipython",
    "version": 3
   },
   "file_extension": ".py",
   "mimetype": "text/x-python",
   "name": "python",
   "nbconvert_exporter": "python",
   "pygments_lexer": "ipython3",
   "version": "3.9.12"
  }
 },
 "nbformat": 4,
 "nbformat_minor": 5
}
