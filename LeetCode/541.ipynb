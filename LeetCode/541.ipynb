{
 "cells": [
  {
   "cell_type": "markdown",
   "id": "13e7ce19-1fe8-44c8-bedd-f364ce619612",
   "metadata": {},
   "source": [
    "Given a string s and an integer k, reverse the first k characters for every 2k characters counting from the start of the string.\n",
    "\n",
    "If there are fewer than k characters left, reverse all of them. If there are less than 2k but greater than or equal to k characters, then reverse the first k characters and leave the other as original.\n",
    "\n",
    " \n",
    "\n",
    "Example 1:\n",
    "\n",
    "Input: s = \"abcdefg\", k = 2\n",
    "Output: \"bacdfeg\"\n",
    "Example 2:\n",
    "\n",
    "Input: s = \"abcd\", k = 2\n",
    "Output: \"bacd\"\n",
    " \n",
    "\n",
    "Constraints:\n",
    "\n",
    "1 <= s.length <= 104\n",
    "s consists of only lowercase English letters.\n",
    "1 <= k <= 104"
   ]
  },
  {
   "cell_type": "code",
   "execution_count": 51,
   "id": "2e172298-a5c9-45a1-9a92-1b409d3678c7",
   "metadata": {},
   "outputs": [],
   "source": [
    "class Solution:\n",
    "    def reverseStr(self, s: str, k: int) -> str:\n",
    "        # Now we want to decrease the loop time, make the step as 2k\n",
    "        s_new = \"\"\n",
    "        for i in range(0,len(s),2*k):\n",
    "            a = s[i:i+k]\n",
    "            b = s[i+k:i+2*k]\n",
    "            s_new += a[::-1]+b\n",
    "        return s_new\n",
    "            \n",
    "            "
   ]
  },
  {
   "cell_type": "code",
   "execution_count": 32,
   "id": "8079c468-a035-4d6f-9f05-4ac8b3b8cc15",
   "metadata": {},
   "outputs": [],
   "source": [
    "class Solution:\n",
    "    def reverseStr(self, s: str, k: int) -> str:\n",
    "        # Using a temp value to save the partial reversed string\n",
    "        i = 0\n",
    "        reverse = False\n",
    "        tmp = \"\"\n",
    "        new_s = \"\"\n",
    "        # This is a loop for len(s) times\n",
    "        while i<len(s):\n",
    "            if i%k == 0:\n",
    "                if reverse:\n",
    "                    new_s += tmp[::-1]\n",
    "                    tmp = \"\"\n",
    "                reverse = ~reverse\n",
    "            if reverse:\n",
    "                tmp += s[i]\n",
    "            else:\n",
    "                new_s += s[i]\n",
    "            i += 1\n",
    "        new_s += tmp[::-1]\n",
    "        return new_s\n",
    "                \n",
    "                \n",
    "            "
   ]
  },
  {
   "cell_type": "code",
   "execution_count": 53,
   "id": "3f5526b3-3226-4b6e-9a4c-eb211874c953",
   "metadata": {},
   "outputs": [],
   "source": [
    "s = \"abcdefg\"\n",
    "k = 2"
   ]
  },
  {
   "cell_type": "code",
   "execution_count": 54,
   "id": "595c7d32-6d26-42b4-a6cc-179173d26901",
   "metadata": {},
   "outputs": [
    {
     "data": {
      "text/plain": [
       "'bacdfeg'"
      ]
     },
     "execution_count": 54,
     "metadata": {},
     "output_type": "execute_result"
    }
   ],
   "source": [
    "Solution().reverseStr(s,k)"
   ]
  },
  {
   "cell_type": "code",
   "execution_count": null,
   "id": "88a94596-e2f4-4298-ac95-ae7ed45edc4a",
   "metadata": {},
   "outputs": [],
   "source": []
  }
 ],
 "metadata": {
  "kernelspec": {
   "display_name": "Python 3",
   "language": "python",
   "name": "python3"
  },
  "language_info": {
   "codemirror_mode": {
    "name": "ipython",
    "version": 3
   },
   "file_extension": ".py",
   "mimetype": "text/x-python",
   "name": "python",
   "nbconvert_exporter": "python",
   "pygments_lexer": "ipython3",
   "version": "3.9.12"
  }
 },
 "nbformat": 4,
 "nbformat_minor": 5
}
