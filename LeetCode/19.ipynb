{
 "cells": [
  {
   "cell_type": "markdown",
   "id": "85e0f303-950f-463b-8937-308b5e6c5025",
   "metadata": {},
   "source": [
    "Given the head of a linked list, remove the nth node from the end of the list and return its head.\n",
    "\n",
    " \n",
    "\n",
    "Example 1:\n",
    "\n",
    "\n",
    "Input: head = [1,2,3,4,5], n = 2\n",
    "Output: [1,2,3,5]\n",
    "Example 2:\n",
    "\n",
    "Input: head = [1], n = 1\n",
    "Output: []\n",
    "Example 3:\n",
    "\n",
    "Input: head = [1,2], n = 1\n",
    "Output: [1]\n",
    " \n",
    "\n",
    "Constraints:\n",
    "\n",
    "The number of nodes in the list is sz.\n",
    "1 <= sz <= 30\n",
    "0 <= Node.val <= 100\n",
    "1 <= n <= sz\n",
    " \n",
    "\n",
    "Follow up: Could you do this in one pass?"
   ]
  },
  {
   "cell_type": "code",
   "execution_count": 4,
   "id": "e3b2269b-84df-4dbc-89e0-7da63ad3891f",
   "metadata": {},
   "outputs": [],
   "source": [
    "# Definition for singly-linked list.\n",
    "class ListNode:\n",
    "    def __init__(self, val=0, next=None):\n",
    "        self.val = val\n",
    "        self.next = next\n",
    "        \n",
    "class Solution:\n",
    "    def removeNthFromEnd(self, head, n: int):\n",
    "        dummy = ListNode('d')\n",
    "        dummy.next = head\n",
    "        fast = dummy\n",
    "        slow = dummy\n",
    "        # Here it needs to be (n+1) for getting the correct position, so in read coding, just ensure have a debug.\n",
    "        for i in range(n+1):\n",
    "            fast = fast.next\n",
    "        while fast is not None:\n",
    "            fast = fast.next\n",
    "            slow = slow.next\n",
    "        try:\n",
    "            slow.next = slow.next.next\n",
    "        except:\n",
    "            pass\n",
    "        \n",
    "        return dummy.next\n",
    "            \n",
    "            "
   ]
  },
  {
   "cell_type": "code",
   "execution_count": null,
   "id": "d6f33c3d-b9ef-4bf6-b418-b74b7b1b039e",
   "metadata": {},
   "outputs": [],
   "source": []
  }
 ],
 "metadata": {
  "kernelspec": {
   "display_name": "Python 3",
   "language": "python",
   "name": "python3"
  },
  "language_info": {
   "codemirror_mode": {
    "name": "ipython",
    "version": 3
   },
   "file_extension": ".py",
   "mimetype": "text/x-python",
   "name": "python",
   "nbconvert_exporter": "python",
   "pygments_lexer": "ipython3",
   "version": "3.9.12"
  }
 },
 "nbformat": 4,
 "nbformat_minor": 5
}
