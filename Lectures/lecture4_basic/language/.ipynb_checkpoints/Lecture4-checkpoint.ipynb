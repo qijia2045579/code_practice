{
 "cells": [
  {
   "cell_type": "markdown",
   "id": "e0f6b0af-140d-47b5-aacb-e33194471369",
   "metadata": {},
   "source": [
    "# File Read and Write\n",
    "\n",
    "https://data-flair.training/blogs/python-file/"
   ]
  },
  {
   "cell_type": "code",
   "execution_count": 15,
   "id": "1cd83b4f-a010-4024-8ffd-0c9ae6b2ac99",
   "metadata": {},
   "outputs": [
    {
     "name": "stdout",
     "output_type": "stream",
     "text": [
      "etc  Lecture4.ipynb\n"
     ]
    }
   ],
   "source": [
    "!ls"
   ]
  },
  {
   "cell_type": "code",
   "execution_count": 16,
   "id": "726f8726-a8b5-41f0-a198-901bec459a7e",
   "metadata": {},
   "outputs": [
    {
     "name": "stdout",
     "output_type": "stream",
     "text": [
      "/home/pubsvr1/Lectures/lecture4_basic/language\n"
     ]
    }
   ],
   "source": [
    "!pwd"
   ]
  },
  {
   "cell_type": "markdown",
   "id": "6b0534d8-23b4-4318-8bb2-9eb8b0310180",
   "metadata": {},
   "source": [
    "## Write a file"
   ]
  },
  {
   "cell_type": "code",
   "execution_count": 26,
   "id": "48b45a2a-d717-4bd2-a122-e901a7ea6ea0",
   "metadata": {},
   "outputs": [],
   "source": [
    "afile = open('testfile.mp3', 'w')\n",
    "\n",
    "afile.write('1,2,3\\n4,5,6')\n",
    "\n",
    "afile.close()"
   ]
  },
  {
   "cell_type": "markdown",
   "id": "9fdf3d4f-2f9a-49cc-91a0-d937827a7343",
   "metadata": {},
   "source": [
    "## Read a file"
   ]
  },
  {
   "cell_type": "code",
   "execution_count": 27,
   "id": "b369f93a-6f85-47ff-973f-5599cdbd343b",
   "metadata": {},
   "outputs": [
    {
     "name": "stdout",
     "output_type": "stream",
     "text": [
      "1,2,3\n",
      "4,5,6\n"
     ]
    }
   ],
   "source": [
    "bfile = open('testfile.mp3', 'r')\n",
    "\n",
    "content = bfile.read()\n",
    "\n",
    "print(content)"
   ]
  },
  {
   "cell_type": "markdown",
   "id": "9c3aa320-1c45-47f2-8208-4cc9b17a7cd6",
   "metadata": {},
   "source": [
    "# \"Time\" Package in python"
   ]
  },
  {
   "cell_type": "code",
   "execution_count": 30,
   "id": "e3375e68-55ed-4658-ad9f-8728976e2914",
   "metadata": {},
   "outputs": [],
   "source": [
    "import time as tm"
   ]
  },
  {
   "cell_type": "code",
   "execution_count": 34,
   "id": "41bbd448-a2c3-473b-a6c9-1f65b698516d",
   "metadata": {},
   "outputs": [],
   "source": [
    "import http.server"
   ]
  },
  {
   "cell_type": "code",
   "execution_count": 31,
   "id": "ae78c9af-22e9-437d-99c1-4378c4bb4bc2",
   "metadata": {},
   "outputs": [
    {
     "name": "stdout",
     "output_type": "stream",
     "text": [
      "Hi, I am\n",
      "Qi Jia\n"
     ]
    }
   ],
   "source": [
    "print(\"Hi, I am\")\n",
    "tm.sleep(5)\n",
    "print(\"Qi Jia\")"
   ]
  },
  {
   "cell_type": "markdown",
   "id": "5a1cb5db-c812-46f4-b4cb-512a0efdff3c",
   "metadata": {},
   "source": [
    "# Build a simple website for you"
   ]
  },
  {
   "cell_type": "markdown",
   "id": "3a3ee43e-97c7-4ac1-be23-14f27989efcf",
   "metadata": {},
   "source": [
    "## 1. Open Terminal\n",
    "\n",
    "bash\n",
    "\n",
    "source activate pubjupyter\n",
    "\n",
    "\n"
   ]
  },
  {
   "cell_type": "markdown",
   "id": "f711cce1-ac67-44ec-bcb4-b633b62a6fbd",
   "metadata": {
    "tags": []
   },
   "source": [
    "## 2. Get into your folder\n",
    "\n",
    "cd Workspace\n",
    "\n",
    "cd QiJia/\n"
   ]
  },
  {
   "cell_type": "markdown",
   "id": "01802903-fa50-49e2-a88c-a6d99cc959a4",
   "metadata": {},
   "source": [
    "## 3. Create a simple web file server\n",
    "\n",
    "python3 -m http.server 8003\n"
   ]
  },
  {
   "cell_type": "markdown",
   "id": "756c3814-4119-46ce-a9b1-04e2049bc62c",
   "metadata": {
    "tags": []
   },
   "source": [
    "## 4. Now you have your own web file server, you can check what is under your sever's content"
   ]
  },
  {
   "cell_type": "markdown",
   "id": "cf6665d1-a288-46c6-aeab-20c7e30611c2",
   "metadata": {
    "tags": []
   },
   "source": [
    "# But... How should I upload files?"
   ]
  },
  {
   "cell_type": "markdown",
   "id": "fc284923-eebd-4a03-891d-b945b76ca0ad",
   "metadata": {},
   "source": [
    "## Let's create a program, read the upload file, and then remove the bad words"
   ]
  },
  {
   "cell_type": "code",
   "execution_count": 35,
   "id": "3e74faa4-f726-40b5-97cb-33842edd655c",
   "metadata": {},
   "outputs": [
    {
     "name": "stdout",
     "output_type": "stream",
     "text": [
      "/home/pubsvr1/Lectures/lecture4_basic/language\n"
     ]
    }
   ],
   "source": [
    "!pwd"
   ]
  },
  {
   "cell_type": "code",
   "execution_count": 36,
   "id": "c9fb90c5-3315-4f40-ae55-700d40181432",
   "metadata": {},
   "outputs": [],
   "source": [
    "path = '/home/pubsvr1/Workspace/QiJia/qi_upload.txt'"
   ]
  },
  {
   "cell_type": "code",
   "execution_count": 40,
   "id": "d37a683e-6710-4ba2-be92-403d8640c10e",
   "metadata": {},
   "outputs": [
    {
     "ename": "KeyboardInterrupt",
     "evalue": "",
     "output_type": "error",
     "traceback": [
      "\u001b[0;31m---------------------------------------------------------------------------\u001b[0m",
      "\u001b[0;31mKeyboardInterrupt\u001b[0m                         Traceback (most recent call last)",
      "Input \u001b[0;32mIn [40]\u001b[0m, in \u001b[0;36m<cell line: 2>\u001b[0;34m()\u001b[0m\n\u001b[1;32m      1\u001b[0m \u001b[38;5;28;01mwhile\u001b[39;00m \u001b[38;5;28;01mTrue\u001b[39;00m:\n\u001b[0;32m----> 2\u001b[0m     \u001b[43mtime\u001b[49m\u001b[38;5;241;43m.\u001b[39;49m\u001b[43msleep\u001b[49m\u001b[43m(\u001b[49m\u001b[38;5;241;43m1\u001b[39;49m\u001b[43m)\u001b[49m\n\u001b[1;32m      3\u001b[0m     openf \u001b[38;5;241m=\u001b[39m \u001b[38;5;28mopen\u001b[39m(path, \u001b[38;5;124m'\u001b[39m\u001b[38;5;124mr\u001b[39m\u001b[38;5;124m'\u001b[39m)\n\u001b[1;32m      4\u001b[0m     content \u001b[38;5;241m=\u001b[39m \u001b[38;5;28mstr\u001b[39m(openf\u001b[38;5;241m.\u001b[39mread())\n",
      "\u001b[0;31mKeyboardInterrupt\u001b[0m: "
     ]
    }
   ],
   "source": [
    "while True:\n",
    "    time.sleep(1)\n",
    "    openf = open(path, 'r')\n",
    "    content = str(openf.read())\n",
    "    pos = content.lower().find('操')\n",
    "    if pos!=-1:\n",
    "        content = content[:pos]+content[pos+4:]\n",
    "    openf.close()\n",
    "    \n",
    "    \n",
    "    writef = open(path, 'w')\n",
    "    writef.write(content)\n",
    "    \n",
    "\n",
    "    writef.close()"
   ]
  },
  {
   "cell_type": "code",
   "execution_count": null,
   "id": "217d7009-7494-4034-97bb-34bcfa7ab0f6",
   "metadata": {},
   "outputs": [],
   "source": []
  }
 ],
 "metadata": {
  "kernelspec": {
   "display_name": "Python 3 (ipykernel)",
   "language": "python",
   "name": "python3"
  },
  "language_info": {
   "codemirror_mode": {
    "name": "ipython",
    "version": 3
   },
   "file_extension": ".py",
   "mimetype": "text/x-python",
   "name": "python",
   "nbconvert_exporter": "python",
   "pygments_lexer": "ipython3",
   "version": "3.9.13"
  }
 },
 "nbformat": 4,
 "nbformat_minor": 5
}
