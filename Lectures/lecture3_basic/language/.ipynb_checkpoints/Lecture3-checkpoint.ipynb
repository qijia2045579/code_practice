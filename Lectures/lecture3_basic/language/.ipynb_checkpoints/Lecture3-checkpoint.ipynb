{
 "cells": [
  {
   "cell_type": "markdown",
   "id": "a7a67c99-9901-447f-bb14-b1a96e472816",
   "metadata": {},
   "source": [
    "# Dictionary\n",
    "\n",
    "The hashtable in Python\n",
    "\n",
    "----------"
   ]
  },
  {
   "cell_type": "markdown",
   "id": "4cc5d07f-58dc-4333-a5dc-a56b9d31eb9a",
   "metadata": {},
   "source": [
    "Assume you have an array, a list in python. It is an alphabet, which is having 52 characters.\n",
    "\n",
    "Now I want to give the index of the character to create a word"
   ]
  },
  {
   "cell_type": "code",
   "execution_count": 3,
   "id": "ad7403bf-2e7f-4aea-a8c4-4d53bed5402b",
   "metadata": {},
   "outputs": [],
   "source": [
    "alphabet = ['a','b','c','d','e','f','g','h','i','j','k','l','m','n','o','p','q','r','s','t','u','v','w','x','y','z','A','B','C','D','E','F','G','H','I','J','K','L','M','N','O','P','Q','R','S','T','U','V','W','X','Y','Z']"
   ]
  },
  {
   "cell_type": "markdown",
   "id": "e8dc154f-53d4-43be-b4fe-da554a44c365",
   "metadata": {},
   "source": [
    "word: \"Hello\", \"World\""
   ]
  },
  {
   "cell_type": "code",
   "execution_count": 6,
   "id": "e82dae02-651a-44cd-9054-dac8b7e998dd",
   "metadata": {},
   "outputs": [
    {
     "data": {
      "text/plain": [
       "'Hello'"
      ]
     },
     "execution_count": 6,
     "metadata": {},
     "output_type": "execute_result"
    }
   ],
   "source": [
    "alphabet[33]+alphabet[4]+alphabet[11]+alphabet[11]+alphabet[14]"
   ]
  },
  {
   "cell_type": "code",
   "execution_count": 7,
   "id": "2ae6a351-fac4-4fce-93a9-d1341d3daa66",
   "metadata": {},
   "outputs": [
    {
     "data": {
      "text/plain": [
       "'World'"
      ]
     },
     "execution_count": 7,
     "metadata": {},
     "output_type": "execute_result"
    }
   ],
   "source": [
    "alphabet[48]+alphabet[14]+alphabet[17]+alphabet[11]+alphabet[3]"
   ]
  },
  {
   "cell_type": "markdown",
   "id": "8aab32e1-976a-4048-82b1-2c305e95d582",
   "metadata": {},
   "source": [
    "-----"
   ]
  },
  {
   "cell_type": "markdown",
   "id": "723d6f5f-2bc0-4fbb-9802-6cd86a23f905",
   "metadata": {},
   "source": [
    "Now, we want something reverse, give a world, we want to find what is the index of each character\n",
    "\n",
    "\"Hello\" -> [33, 4, 11, 11, 14]\n",
    "\n",
    "\"World\" -> [48, 14, 17, 11, 3]"
   ]
  },
  {
   "cell_type": "markdown",
   "id": "1e9e60e8-06c5-4457-88e8-ca0e2ddf7930",
   "metadata": {},
   "source": [
    "word: \"nihao\"\n",
    "\n",
    "You can count with your fingers, but is there a simpler way to do that?\n",
    "\n",
    "**Yes**\n",
    "\n",
    "Dictionary in Python  (Hashmap in general)"
   ]
  },
  {
   "cell_type": "code",
   "execution_count": 19,
   "id": "5380ea69-5661-420d-8225-36e0c4a651b6",
   "metadata": {},
   "outputs": [],
   "source": [
    "d = {'a':1, 'b':2} # { Key:Value }"
   ]
  },
  {
   "cell_type": "code",
   "execution_count": 10,
   "id": "0ee1643b-e0a8-4ede-878e-7836c2e9024e",
   "metadata": {},
   "outputs": [
    {
     "data": {
      "text/plain": [
       "{'a': 1, 'b': 2}"
      ]
     },
     "execution_count": 10,
     "metadata": {},
     "output_type": "execute_result"
    }
   ],
   "source": [
    "d"
   ]
  },
  {
   "cell_type": "code",
   "execution_count": 11,
   "id": "76e79e53-6230-478e-8164-8cc44ac96984",
   "metadata": {},
   "outputs": [
    {
     "ename": "KeyError",
     "evalue": "0",
     "output_type": "error",
     "traceback": [
      "\u001b[0;31m---------------------------------------------------------------------------\u001b[0m",
      "\u001b[0;31mKeyError\u001b[0m                                  Traceback (most recent call last)",
      "Input \u001b[0;32mIn [11]\u001b[0m, in \u001b[0;36m<cell line: 1>\u001b[0;34m()\u001b[0m\n\u001b[0;32m----> 1\u001b[0m \u001b[43md\u001b[49m\u001b[43m[\u001b[49m\u001b[38;5;241;43m0\u001b[39;49m\u001b[43m]\u001b[49m\n",
      "\u001b[0;31mKeyError\u001b[0m: 0"
     ]
    }
   ],
   "source": [
    "d[0]"
   ]
  },
  {
   "cell_type": "code",
   "execution_count": 12,
   "id": "f19e8295-4809-4489-902d-c19538b38abf",
   "metadata": {},
   "outputs": [
    {
     "data": {
      "text/plain": [
       "1"
      ]
     },
     "execution_count": 12,
     "metadata": {},
     "output_type": "execute_result"
    }
   ],
   "source": [
    "d['a']"
   ]
  },
  {
   "cell_type": "code",
   "execution_count": 13,
   "id": "93b64c73-2c83-4a9a-afea-d0e5363f8f36",
   "metadata": {},
   "outputs": [],
   "source": [
    "num_to_alph = {'a':0,'b':1,'c':2,'d':3,'e':4,'f':5,'g':6,'h':7,'i':8,'j':9,'k':10,'l':11,'m':12,'n':13,'o':14,'p':15,'q':16,'r':17,'s':18,'t':19,'u':20,'v':21,'w':22,'x':23,'y':24,'z':25,'A':26,'B':27,'C':28,'D':29,'E':30,'F':31,'G':32,'H':33,'I':34,'J':35,'K':36,'L':37,'M':38,'N':39,'O':40,'P':41,'Q':42,'R':43,'S':44,'T':45,'U':46,'V':47,'W':48,'X':49,'Y':50,'Z':51}"
   ]
  },
  {
   "cell_type": "code",
   "execution_count": 14,
   "id": "e08f9f25-c464-4180-a4e3-fe8c944143e5",
   "metadata": {},
   "outputs": [
    {
     "data": {
      "text/plain": [
       "[13, 8, 7, 0, 14]"
      ]
     },
     "execution_count": 14,
     "metadata": {},
     "output_type": "execute_result"
    }
   ],
   "source": [
    "[num_to_alph['n'], num_to_alph['i'], num_to_alph['h'], num_to_alph['a'], num_to_alph['o']]"
   ]
  },
  {
   "cell_type": "markdown",
   "id": "eb64391d-b8da-4190-8a2f-1fedaeb8bba6",
   "metadata": {},
   "source": [
    "-----"
   ]
  },
  {
   "cell_type": "markdown",
   "id": "c8624510-6dc5-4740-97c0-0b54dcba554e",
   "metadata": {},
   "source": [
    "So, how dictionary is achieved?\n",
    "\n",
    "But before that, how list is achived in Python?"
   ]
  },
  {
   "cell_type": "code",
   "execution_count": 28,
   "id": "2b47cfdb-9c98-4d8c-ae7a-1e70985b2ab1",
   "metadata": {},
   "outputs": [],
   "source": [
    "temp_list = [1,2,3]"
   ]
  },
  {
   "cell_type": "code",
   "execution_count": 29,
   "id": "2b248257-5b26-4ff3-bee0-910e4b0f5223",
   "metadata": {},
   "outputs": [
    {
     "data": {
      "text/plain": [
       "(139774590826800, 139774590826832, 139774590826864)"
      ]
     },
     "execution_count": 29,
     "metadata": {},
     "output_type": "execute_result"
    }
   ],
   "source": [
    "id(temp_list[0]), id(temp_list[1]), id(temp_list[2])"
   ]
  },
  {
   "cell_type": "code",
   "execution_count": 30,
   "id": "b170445d-0447-4432-ab1e-2e48534b54db",
   "metadata": {},
   "outputs": [
    {
     "data": {
      "text/plain": [
       "(32, 32)"
      ]
     },
     "execution_count": 30,
     "metadata": {},
     "output_type": "execute_result"
    }
   ],
   "source": [
    "id(temp_list[1])-id(temp_list[0]), id(temp_list[2])-id(temp_list[1])"
   ]
  },
  {
   "cell_type": "markdown",
   "id": "15649de0-618c-4275-9676-180bb15f419b",
   "metadata": {},
   "source": [
    "----"
   ]
  },
  {
   "cell_type": "code",
   "execution_count": 22,
   "id": "ae151c0c-873f-4965-b5df-19ea1cecfd97",
   "metadata": {},
   "outputs": [
    {
     "data": {
      "text/plain": [
       "139774589855792"
      ]
     },
     "execution_count": 22,
     "metadata": {},
     "output_type": "execute_result"
    }
   ],
   "source": [
    "id(alphabet[0])"
   ]
  },
  {
   "cell_type": "code",
   "execution_count": 24,
   "id": "d512a4fe-32b3-4636-8fee-11652f07fc79",
   "metadata": {},
   "outputs": [
    {
     "data": {
      "text/plain": [
       "139774590091504"
      ]
     },
     "execution_count": 24,
     "metadata": {},
     "output_type": "execute_result"
    }
   ],
   "source": [
    "id(alphabet[1])"
   ]
  },
  {
   "cell_type": "code",
   "execution_count": 25,
   "id": "64e5aa6e-9ae5-4584-9f7b-602c09101a38",
   "metadata": {},
   "outputs": [
    {
     "data": {
      "text/plain": [
       "235712"
      ]
     },
     "execution_count": 25,
     "metadata": {},
     "output_type": "execute_result"
    }
   ],
   "source": [
    "id(alphabet[1])-id(alphabet[0])"
   ]
  },
  {
   "cell_type": "code",
   "execution_count": 26,
   "id": "a5d5b46c-99b6-4e3b-9077-908e6d5ab247",
   "metadata": {},
   "outputs": [
    {
     "data": {
      "text/plain": [
       "139774590496432"
      ]
     },
     "execution_count": 26,
     "metadata": {},
     "output_type": "execute_result"
    }
   ],
   "source": [
    "id(alphabet[2])"
   ]
  },
  {
   "cell_type": "code",
   "execution_count": 27,
   "id": "731a27bf-2b45-4b00-a6cb-42d16a8ee127",
   "metadata": {},
   "outputs": [
    {
     "data": {
      "text/plain": [
       "404928"
      ]
     },
     "execution_count": 27,
     "metadata": {},
     "output_type": "execute_result"
    }
   ],
   "source": [
    "id(alphabet[2])-id(alphabet[1])"
   ]
  },
  {
   "cell_type": "markdown",
   "id": "85925d31-cd31-4cbf-8b55-be0ec8a43b0b",
   "metadata": {},
   "source": [
    "### So, **Hashtable**\n",
    "\n",
    "Hash function:\n",
    "\n",
    "A hash function is any function that can be used to map data of arbitrary size to fixed-size values. The values returned by a hash function are called hash values, hash codes, digests, or simply hashes. The values are usually used to index a fixed-size table called a hash table. Use of a hash function to index a hash table is called hashing or scatter storage addressing.\n",
    "\n",
    "\n",
    "Some examples in real life:\n",
    "\n",
    "Passwords\n",
    "\n",
    "YYDS, AWSL\n",
    "\n"
   ]
  },
  {
   "cell_type": "code",
   "execution_count": 6,
   "id": "245a6107-8c04-40c4-8393-6f6801cff0c2",
   "metadata": {},
   "outputs": [],
   "source": [
    "# Simple usage\n",
    "\n",
    "\n",
    "# How to check if these two paragrahs are same?\n",
    "\n",
    "paragraph1 = \"\"\"\n",
    "About 1,510,000 results (0.60 seconds) \n",
    "Why do we use hash symbol in Python?\n",
    "The hash() function returns the hash value of the object (if it has one). Hash values are integers. They are used to quickly compare dictionary keys during a dictionary lookup. Numeric values that compare equal have the same hash value (even if they are of different types, as is the case for 1 and 1.0).Aug 19, 2022\n",
    "\n",
    "Python hash() function - w3resourcehttps://www.w3resource.com › python › built-in-function\n",
    "Search for: Why do we use hash symbol in Python?\n",
    "About featured snippets\n",
    "•\n",
    "Feedback\n",
    "\n",
    "Python: Are `hash` values for built-in numeric types, strings ...https://stackoverflow.com › questions › python-are-has...\n",
    "Nov 17, 2011 — In the case of integers, the hash is the value itself. According to the documentation: object.hash(self). Called by built-in function hash() and for operations ...\n",
    "5 answers\n",
    " \n",
    "·\n",
    " \n",
    "Top answer: \n",
    "The hash values for strings and integers are absolutely not standardized. They could change ...\n",
    "Why does hash() method return short Hash value with int in ...\n",
    "Nov 7, 2018\n",
    "Why do Python's hash() values differ in length? - Stack Overflow\n",
    "Jan 18, 2015\n",
    "When is a python object's hash computed and why is the hash of\n",
    "Oct 4, 2011\n",
    "What's the logic behind Python's hash function order?\n",
    "May 29, 2015\n",
    "More results from stackoverflow.com\n",
    "People also ask\n",
    "How are integers hashed in Python?\n",
    "Is hash an integer value?\n",
    "What is the hash of an integer?\n",
    "What is the default hash in Python?\n",
    "Feedback\n",
    "\n",
    "Why is hash(-1) == hash(-2) in Python? | Omair Majidhttps://omairmajid.com › posts › 2021-07-16-why-is-ha...\n",
    "Jul 16, 2021 — The hash() function in CPython can return an error, so it defines a return code of -1 to mean “there was an error”.\n",
    "\n",
    "Python Hashes and Equality - Hynek Schlawackhttps://hynek.me › articles › hashes-and-equality\n",
    "Nov 20, 2017 — An object hash is an integer number representing the value of the object and can be obtained using the hash() function if the object is ...\n",
    "\n",
    "How to Create Hash Value in Python - AppDividendhttps://appdividend.com › Python\n",
    "May 24, 2019 — Python hash() method returns hash value of the object if it has one. Hash values are just integers and used to compare the dictionary keys.\n",
    "\n",
    "Python hash() Function - Finxterhttps://blog.finxter.com › python-hash-function\n",
    "This is impossible because hash values must be static for the same object. That's why Python throws an error if you try to calculate the hash value of a mutable ...\n",
    "\n",
    "Understanding Hashing and Equality in Python with __hash ...https://levelup.gitconnected.com › understanding-hashi...\n",
    "Oct 15, 2022 — It has a key-to-value relationship where the data is grouped into buckets based on the hash value of each key. The idea behind this process is ...\n",
    "\n",
    "ridiculous fish on Twitter: \"In #Python every 32 bit integer ...https://twitter.com › ridiculous_fish › status\n",
    "Sep 15, 2022 — In #Python every 32 bit integer appears to hash to itself, with the exception of -1, whose hash is -2.\n",
    "\n",
    "What happens when you mess with hashing in Pythonhttps://asmeurer.com › blog › posts › what-happens-wh...\n",
    "Jan 25, 2016 — In Python, there are two objects that correspond to hash tables, dict and set . A dict is a special kind of hash table called an associative ...\n",
    "\n",
    "hash — Python Reference (The Right Way) 0.1 documentationhttp://python-reference.readthedocs.io › docs › functions\n",
    "Hash values are integers. They are used to quickly compare dictionary keys during a dictionary lookup. Numeric values that compare equal have the same hash ...\n",
    "Related searches\n",
    "\"\"\"\n",
    "\n",
    "\n",
    "\n",
    "paragraph2 = \"\"\"\n",
    "About 1,510,000 results (0.60 seconds) \n",
    "Why do we use hash symbol in Python?\n",
    "The hash() function returns the hash value of the object (if it has one). Hash values are integers. They are used to quickly compare dictionary keys during a dictionary lookup. Numeric values that compare equal have the same hash value (even if they are of different types, as is the case for 1 and 1.0).Aug 19, 2022\n",
    "\n",
    "Python hash() function - w3resourcehttps://www.w3resource.com › python › built-in-function\n",
    "Search for: Why do we use hash symbol in Python?\n",
    "About featured snippets\n",
    "•\n",
    "Feedback\n",
    "\n",
    "Python: Are `hash` values for built-in numeric types, strings ...https://stackoverflow.com › questions › python-are-has...\n",
    "Nov 17, 2011 — In the case of integers, the hash is the value itself. According to the documentation: object.hash(self). Called by built-in function hash() and for operations ...\n",
    "5 answers\n",
    " \n",
    "·\n",
    " \n",
    "Top answer: \n",
    "The hash values for strings and integers are absolutely not standardized. They could change ...\n",
    "Why does hash() method return short Hash value with int in ...\n",
    "Nov 7, 2018\n",
    "Why do Python's hash() values differ in length? - Stack Overflow\n",
    "Jan 18, 2015\n",
    "When is a python object's hash computed and why is the hash of\n",
    "Oct 4, 2011\n",
    "What's the logic behind Python's hash function order?\n",
    "May 29, 2015\n",
    "More results from stackoverflow.com\n",
    "People also ask\n",
    "How are integers hashed in Python?\n",
    "Is hash an integer value?\n",
    "What is the hash of an integer?\n",
    "What is the default hash in Python?\n",
    "Feedback\n",
    "\n",
    "Why is hash(-1) == hash(-2) in Python? | Omair Majidhttps://omairmajid.com › posts › 2021-07-16-why-is-ha...\n",
    "Jul 16, 2021 — The hash() function in CPython can return an error, so it defines a return code of -1 to mean “there was an error”.\n",
    "\n",
    "Python Hashes and Equality - Hynek Schlawackhttps://hynek.me › articles › hashes-and-equality\n",
    "Nov 20, 2017 — An object hash is an integer number representing the value of the object and can be obtained using the hash() function if the object is ...\n",
    "\n",
    "How to Create Hash Value in Python - AppDividendhttps://appdividend.com › Python\n",
    "May 24, 2019 — Python hash() method returns hash value of the object if it has one. Hash values are just integers and used to compare the dictionary keys.\n",
    "\n",
    "Python hash() Function - Finxterhttps://blog.finxter.com › python-hash-function\n",
    "This is impossible because hash values must be static for the same object. That's why Python throws an error if you try to calculate the hash value of a mutable ...\n",
    "\n",
    "Understanding Hashing and Equality in Python with __hash ...https://levelup.gitconnected.com › understanding-hashi...\n",
    "Oct 15, 2022 — It has a key-to-value relationship where the data is grouped into buckets based on the hash value of each key. The idea behind this process is ...\n",
    "\n",
    "ridiculous fish on Twitter: \"In #Python every 32 bit integer ...https://twitter.com › ridiculous_fish › status\n",
    "Sep 15, 2022 — In #Python every 32 bit integer appears to hash to itself, with the exception of -1, whose hash is -2.\n",
    "\n",
    "What happens when you mess with hashing in Pythonhttps://asmeurer.com › blog › posts › what-happens-wh...\n",
    "Jan 25, 2016 — In Python, there are two objects that correspond to hash tables, dict and set . A dict is a special kind of hash table called an associative ...\n",
    "\n",
    "hash — Python Reference (The Right Way) 0.1 documentationhttp://python-reference.readthedocs.io › docs › functions\n",
    "Hash values are integers. They are used to quickly compare dictionary keys during a dictionary lookup. Numeric values that compare equal have the same hash ...\n",
    "Related searches\n",
    "\"\"\"\n",
    "\n",
    "\n",
    "\n",
    "\n",
    "paragraph3 = \"\"\"\n",
    "About 1,510,000 results (0.60 seconds) \n",
    "Why do we use hash symbol in Python?\n",
    "The hash() function returns the hash value of the object (if it has one). Hash values are integers. They are used to quickly compare dictionary keys during a dictionary lookup. Numeric values that compare equal have the same hash value (even if they are of different types, as is the case for 1 and 1.0).Aug 19, 2022\n",
    "\n",
    "Python hash() function - w3resourcehttps://www.w3resource.com › python › built-in-function\n",
    "Search for: Why do we use hash symbol in Python?\n",
    "About featured snippets\n",
    "•\n",
    "Feeddack\n",
    "\n",
    "Python: Are `hash` values for built-in numeric types, strings ...https://stackoverflow.com › questions › python-are-has...\n",
    "Nov 17, 2011 — In the case of integers, the hash is the value itself. According to the documentation: object.hash(self). Called by built-in function hash() and for operations ...\n",
    "5 answers\n",
    " \n",
    "·\n",
    " \n",
    "Top answer: \n",
    "The hash values for strings and integers are absolutely not standardized. They could change ...\n",
    "Why does hash() method return short Hash value with int in ...\n",
    "Nov 7, 2018\n",
    "Why do Python's hash() values differ in length? - Stack Overflow\n",
    "Jan 18, 2015\n",
    "When is a python object's hash computed and why is the hash of\n",
    "Oct 4, 2011\n",
    "What's the logic behind Python's hash function order?\n",
    "May 29, 2015\n",
    "More results from stackoverflow.com\n",
    "People also ask\n",
    "How are integers hashed in Python?\n",
    "Is hash an integer value?\n",
    "What is the hash of an integer?\n",
    "What is the default hash in Python?\n",
    "Feedback\n",
    "\n",
    "Why is hash(-1) == hash(-2) in Python? | Omair Majidhttps://omairmajid.com › posts › 2021-07-16-why-is-ha...\n",
    "Jul 16, 2021 — The hash() function in CPython can return an error, so it defines a return code of -1 to mean “there was an error”.\n",
    "\n",
    "Python Hashes and Equality - Hynek Schlawackhttps://hynek.me › articles › hashes-and-equality\n",
    "Nov 20, 2017 — An object hash is an integer number representing the value of the object and can be obtained using the hash() function if the object is ...\n",
    "\n",
    "How to Create Hash Value in Python - AppDividendhttps://appdividend.com › Python\n",
    "May 24, 2019 — Python hash() method returns hash value of the object if it has one. Hash values are just integers and used to compare the dictionary keys.\n",
    "\n",
    "Python hash() Function - Finxterhttps://blog.finxter.com › python-hash-function\n",
    "This is impossible because hash values must be static for the same object. That's why Python throws an error if you try to calculate the hash value of a mutable ...\n",
    "\n",
    "Understanding Hashing and Equality in Python with __hash ...https://levelup.gitconnected.com › understanding-hashi...\n",
    "Oct 15, 2022 — It has a key-to-value relationship where the data is grouped into buckets based on the hash value of each key. The idea behind this process is ...\n",
    "\n",
    "ridiculous fish on Twitter: \"In #Python every 32 bit integer ...https://twitter.com › ridiculous_fish › status\n",
    "Sep 15, 2022 — In #Python every 32 bit integer appears to hash to itself, with the exception of -1, whose hash is -2.\n",
    "\n",
    "What happens when you mess with hashing in Pythonhttps://asmeurer.com › blog › posts › what-happens-wh...\n",
    "Jan 25, 2016 — In Python, there are two objects that correspond to hash tables, dict and set . A dict is a special kind of hash table called an associative ...\n",
    "\n",
    "hash — Python Reference (The Right Way) 0.1 documentationhttp://python-reference.readthedocs.io › docs › functions\n",
    "Hash values are integers. They are used to quickly compare dictionary keys during a dictionary lookup. Numeric values that compare equal have the same hash ...\n",
    "Related searches\n",
    "\"\"\""
   ]
  },
  {
   "cell_type": "code",
   "execution_count": null,
   "id": "19a0b6a0-124d-4161-bb88-eb3ee56fd7a7",
   "metadata": {},
   "outputs": [],
   "source": []
  },
  {
   "cell_type": "code",
   "execution_count": 13,
   "id": "d8f257d8-d0b2-48a0-8e8f-36b25987c1b8",
   "metadata": {},
   "outputs": [],
   "source": [
    "# A simple hash function you can build by your own\n",
    "\n",
    "\n",
    "# No matter what value you give as an integer, you always get a value between [0, 10000]\n",
    "def simple_hash(any_integer:int) -> int:\n",
    "    return any_integer%10000\n",
    "\n",
    "\n"
   ]
  },
  {
   "cell_type": "code",
   "execution_count": 14,
   "id": "271a7c46-09d5-4ac9-9178-d373a82c7719",
   "metadata": {},
   "outputs": [
    {
     "data": {
      "text/plain": [
       "3574"
      ]
     },
     "execution_count": 14,
     "metadata": {},
     "output_type": "execute_result"
    }
   ],
   "source": [
    "simple_hash(872349871263574)"
   ]
  },
  {
   "cell_type": "code",
   "execution_count": 15,
   "id": "869329e6-603f-4a7b-936b-0ff6706478af",
   "metadata": {},
   "outputs": [
    {
     "data": {
      "text/plain": [
       "598"
      ]
     },
     "execution_count": 15,
     "metadata": {},
     "output_type": "execute_result"
    }
   ],
   "source": [
    "simple_hash(1238570198745098172340598)"
   ]
  },
  {
   "cell_type": "markdown",
   "id": "da84716e-4cc7-4103-b701-0b6df8568f4e",
   "metadata": {},
   "source": [
    "---- \n",
    "\n",
    "BUT, besides comparison what is used for? Back to the list. List can only use from index, but with dictionary, you can find a thing by \"key\". \n",
    "\n",
    "If we know the hash value of the \"Key\", then we can quickly find the content of that \"Key\". That is **dictionary!!!**\n",
    "\n",
    "![](../etc/hash-table.png)\n",
    "\n",
    "\n",
    "\n",
    "\n",
    "Because the calculation of hash value is very quick( definitely quicker than search ). So, the time consumed to find a value in dictionary is O(1)"
   ]
  },
  {
   "cell_type": "code",
   "execution_count": null,
   "id": "6f57d9c9-7474-4c79-b7de-36e51b13f2b2",
   "metadata": {},
   "outputs": [],
   "source": []
  }
 ],
 "metadata": {
  "kernelspec": {
   "display_name": "Python 3 (ipykernel)",
   "language": "python",
   "name": "python3"
  },
  "language_info": {
   "codemirror_mode": {
    "name": "ipython",
    "version": 3
   },
   "file_extension": ".py",
   "mimetype": "text/x-python",
   "name": "python",
   "nbconvert_exporter": "python",
   "pygments_lexer": "ipython3",
   "version": "3.9.13"
  }
 },
 "nbformat": 4,
 "nbformat_minor": 5
}
