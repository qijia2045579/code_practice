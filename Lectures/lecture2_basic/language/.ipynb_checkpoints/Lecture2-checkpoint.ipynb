{
 "cells": [
  {
   "cell_type": "markdown",
   "id": "f13cab7c-75a0-42ea-8406-72e11a0b32fe",
   "metadata": {
    "tags": []
   },
   "source": [
    "# Data Types"
   ]
  },
  {
   "cell_type": "markdown",
   "id": "7d9edc47-d8ae-42d2-b6dd-dab1fca098c6",
   "metadata": {},
   "source": [
    "https://data-flair.training/blogs/python-number-types-conversion/"
   ]
  },
  {
   "cell_type": "markdown",
   "id": "064bf4fe-6306-4b76-96ab-79442894c310",
   "metadata": {},
   "source": [
    "**Text Type:\tstr**\n",
    "\n",
    "**Numeric Types:\tint, float, complex**\n",
    "\n",
    "Sequence Types:\tlist, tuple, range\n",
    "\n",
    "Mapping Type:\tdict\n",
    "\n",
    "**Set Types:\tset, frozenset**\n",
    "\n",
    "**Boolean Type:\tbool**\n",
    "\n",
    "Binary Types:\tbytes, bytearray, memoryview\n",
    "\n",
    "**None Type:\tNoneType**"
   ]
  },
  {
   "cell_type": "markdown",
   "id": "d59c6f1b-3995-4679-b67f-2ef3e2ccca6f",
   "metadata": {},
   "source": [
    "# Numeric Types:\n",
    "\n",
    "![nums](../etc/python_math.png)"
   ]
  },
  {
   "cell_type": "markdown",
   "id": "5ffe5811-99a3-4093-9c4b-6ee9d5409508",
   "metadata": {},
   "source": [
    "## Python int\n",
    "Python can hold signed integers\n",
    "\n",
    "It can hold a value of any length, the only limitation being the amount of memory available\n"
   ]
  },
  {
   "cell_type": "code",
   "execution_count": null,
   "id": "7cc95e93-6966-4fb7-b0f2-34eb30dfaa9e",
   "metadata": {},
   "outputs": [],
   "source": [
    "a=9999999999999999999999999999999999999\n",
    "print(a)\n",
    "type(a)"
   ]
  },
  {
   "cell_type": "markdown",
   "id": "e1f345b4-677d-4d37-ada2-203e2f0bbb7d",
   "metadata": {},
   "source": [
    "## Python Exponential numbers\n",
    "\n",
    "You can write an exponential number using the letter ‘e’ between the mantissa and the exponent."
   ]
  },
  {
   "cell_type": "code",
   "execution_count": null,
   "id": "759773c0-17e9-4679-b22f-b5a990031f22",
   "metadata": {},
   "outputs": [],
   "source": [
    "print(2e5)"
   ]
  },
  {
   "cell_type": "code",
   "execution_count": null,
   "id": "e17c02c6-b8ca-4abc-8a4c-51dd5002152f",
   "metadata": {},
   "outputs": [],
   "source": [
    "print(2**5)"
   ]
  },
  {
   "cell_type": "markdown",
   "id": "f94cbebe-71d0-4806-ab27-57a44b7d772e",
   "metadata": {},
   "source": [
    "## Python float\n",
    "\n",
    "A float value is only accurate upto 15 decimal places. After that, it rounds the number off."
   ]
  },
  {
   "cell_type": "code",
   "execution_count": null,
   "id": "363d8f82-5657-4990-b1bb-bbe45a2a70e3",
   "metadata": {},
   "outputs": [],
   "source": [
    "a=1.11111111111111111191234"
   ]
  },
  {
   "cell_type": "code",
   "execution_count": null,
   "id": "b0262e52-4312-4abf-b63d-9bae53de55c5",
   "metadata": {},
   "outputs": [],
   "source": [
    "a"
   ]
  },
  {
   "cell_type": "markdown",
   "id": "39c2227e-731e-4e49-accc-0bb5e410c9d3",
   "metadata": {},
   "source": [
    "Note that division results in floats."
   ]
  },
  {
   "cell_type": "code",
   "execution_count": null,
   "id": "98cee6ac-a072-4625-bbbe-5d90c946eacd",
   "metadata": {},
   "outputs": [],
   "source": [
    "2/2"
   ]
  },
  {
   "cell_type": "markdown",
   "id": "cd34e6f1-a25f-4e2d-b81d-ccea948a5a24",
   "metadata": {},
   "source": [
    "## Python Complex Numbers\n",
    "\n",
    "A complex number is a Python number type made of real and imaginary parts. It is represented as **a+bj**."
   ]
  },
  {
   "cell_type": "code",
   "execution_count": null,
   "id": "3797dd08-3034-43e9-8344-ad051bf0f597",
   "metadata": {},
   "outputs": [],
   "source": [
    "a=2+3j"
   ]
  },
  {
   "cell_type": "code",
   "execution_count": null,
   "id": "5a710c55-04dd-42ff-9c28-71f4cdd1457a",
   "metadata": {},
   "outputs": [],
   "source": [
    "a"
   ]
  },
  {
   "cell_type": "markdown",
   "id": "e29feefe-0631-42c4-8972-cb2718ab4ea0",
   "metadata": {},
   "source": [
    "## Writing numbers in binary, octal, and hexadecimal in Python"
   ]
  },
  {
   "cell_type": "markdown",
   "id": "d406e94d-b97e-46ed-ad82-15e822cd9c37",
   "metadata": {},
   "source": [
    "**Binary**: 0b/0B\n",
    "\n",
    "**Octal**: 0o/0O\n",
    "\n",
    "**Hexadecimal**: 0x/0X\n"
   ]
  },
  {
   "cell_type": "code",
   "execution_count": null,
   "id": "e793ccd8-1666-4e84-b74c-c81685c89221",
   "metadata": {},
   "outputs": [],
   "source": [
    "a = 10\n",
    "b = 0b10\n",
    "c = 0o10\n",
    "d = 0x10\n",
    "print(a, b, c, d)"
   ]
  },
  {
   "cell_type": "markdown",
   "id": "53c93118-739f-47ee-950f-481e651923a3",
   "metadata": {},
   "source": [
    "## functions to converse different types\n",
    "\n",
    "int()\n",
    "\n",
    "float()\n",
    "\n",
    "complex()\n",
    "\n",
    "bin()\n",
    "\n",
    "oct()\n",
    "\n",
    "hex()\n",
    "\n",
    "![conversions](../etc/Conversion-Functions-01.jpeg)"
   ]
  },
  {
   "cell_type": "markdown",
   "id": "4ffac762-55fb-442c-86fc-c6d9afd314cd",
   "metadata": {
    "tags": []
   },
   "source": [
    "# Array in Python: List"
   ]
  },
  {
   "cell_type": "markdown",
   "id": "6849dcf6-9d5a-41a3-97aa-8d558d2509b8",
   "metadata": {},
   "source": [
    "## Lists are used to store multiple items in a single variable.\n"
   ]
  },
  {
   "cell_type": "markdown",
   "id": "851b1b9d-47fc-4dab-8907-73467f724058",
   "metadata": {},
   "source": [
    "### 1. How to Create Python List?\n",
    "\n",
    "To create python list of items, you need to mention the items, separated by commas, in square brackets. This is the python syntax you need to follow. Then assign it to a variable. Remember once again, you don’t need to declare the data type, because Python is dynamically-typed."
   ]
  },
  {
   "cell_type": "code",
   "execution_count": null,
   "id": "3d701bd8-51f9-4cb4-8327-2a6747a510c8",
   "metadata": {},
   "outputs": [],
   "source": [
    "colors=['red','green','blue']\n",
    "print(colors)"
   ]
  },
  {
   "cell_type": "markdown",
   "id": "5dbf4c8a-c11a-4c53-a941-0f9a1af6d48a",
   "metadata": {},
   "source": [
    "A Python list may hold different types of values."
   ]
  },
  {
   "cell_type": "code",
   "execution_count": null,
   "id": "3b9306e1-d39d-4a05-a3ad-40b72d92e057",
   "metadata": {},
   "outputs": [],
   "source": [
    "days=['Monday','Tuesday','Wednesday',4,5,6,7.0]\n",
    "days"
   ]
  },
  {
   "cell_type": "markdown",
   "id": "270e7445-3a8c-4f11-90eb-ad318a07f617",
   "metadata": {},
   "source": [
    "A list may have python list."
   ]
  },
  {
   "cell_type": "code",
   "execution_count": null,
   "id": "da63ac9d-9a65-4f1e-96e5-55a05a541651",
   "metadata": {},
   "outputs": [],
   "source": [
    "languages=[['English'],['Gujarati'],['Hindi'],'Romanian','Spanish']\n",
    "languages"
   ]
  },
  {
   "cell_type": "markdown",
   "id": "c53d5a9a-2a27-47e8-a844-84e14d8dd219",
   "metadata": {},
   "source": [
    "### 2. How to Access Python List?\n",
    "\n",
    "To access a Python list as a whole, all you need is its name.\n",
    "\n",
    "To access a single element, use its index in square brackets after the list’s name. Indexing begins at 0.\n",
    "\n",
    "An index cannot be a float value.\n"
   ]
  },
  {
   "cell_type": "code",
   "execution_count": null,
   "id": "3a17543a-d2cc-436c-93de-8278c0a5b6aa",
   "metadata": {},
   "outputs": [],
   "source": [
    "languages[1.0]"
   ]
  },
  {
   "cell_type": "markdown",
   "id": "39a6b499-2a90-4160-941b-fe4e52b8250d",
   "metadata": {},
   "source": [
    "### 3. Slicing a Python List\n",
    "When you want only a part of a Python list, you can use the slicing operator [].\n",
    "\n"
   ]
  },
  {
   "cell_type": "code",
   "execution_count": null,
   "id": "06a359c9-2049-405c-a75c-96bc989e3005",
   "metadata": {},
   "outputs": [],
   "source": [
    "indices=['zero','one','two','three','four','five']\n",
    "indices[2:4]"
   ]
  },
  {
   "cell_type": "code",
   "execution_count": null,
   "id": "93752396-ed9c-448c-99f9-212539e79bd3",
   "metadata": {},
   "outputs": [],
   "source": [
    "indices[2:]\n",
    "indices[:4]\n",
    "indices[:]\n",
    "indices[:-1]"
   ]
  },
  {
   "cell_type": "code",
   "execution_count": null,
   "id": "dc98db4e-a9cf-4880-9bee-54502d4ec922",
   "metadata": {},
   "outputs": [],
   "source": [
    "indices[1:-2]"
   ]
  },
  {
   "cell_type": "markdown",
   "id": "08595271-3637-4eaa-87c7-bca4d3718c38",
   "metadata": {},
   "source": [
    "### 4. Reassigning a Python List (Mutable)\n",
    "a. Reassigning the whole Python list\n"
   ]
  },
  {
   "cell_type": "code",
   "execution_count": null,
   "id": "79765f38-823e-428d-8bd9-af933b7ae653",
   "metadata": {},
   "outputs": [],
   "source": [
    "colors=['red','green','blue']"
   ]
  },
  {
   "cell_type": "code",
   "execution_count": null,
   "id": "3e191029-6912-4723-b880-e356ebebc961",
   "metadata": {},
   "outputs": [],
   "source": [
    "colors=['caramel','gold','silver','occur']\n",
    "colors"
   ]
  },
  {
   "cell_type": "markdown",
   "id": "5686b83d-9baf-48eb-b659-1b57a0bec2b9",
   "metadata": {},
   "source": [
    "b. Reassigning a few elements\n"
   ]
  },
  {
   "cell_type": "code",
   "execution_count": null,
   "id": "cc6ce12c-ee43-4039-aa63-697ee38e47ec",
   "metadata": {},
   "outputs": [],
   "source": [
    "colors[2:]=['bronze','silver']\n",
    "colors"
   ]
  },
  {
   "cell_type": "code",
   "execution_count": null,
   "id": "4f420f9c-1e73-4b8c-8d40-0957e566e129",
   "metadata": {},
   "outputs": [],
   "source": [
    "colors=['caramel','gold','silver','occur']\n",
    "colors[2:3]=['bronze','silver']\n",
    "colors"
   ]
  },
  {
   "cell_type": "code",
   "execution_count": null,
   "id": "090cdb08-1378-4a10-a329-1962d69cc285",
   "metadata": {},
   "outputs": [],
   "source": [
    "colors=['caramel','gold','silver','occur']\n",
    "colors[2:4]=['bronze','silver']\n",
    "colors"
   ]
  },
  {
   "cell_type": "code",
   "execution_count": null,
   "id": "ca4e871d-f111-40db-9b2c-8bd2914b5b60",
   "metadata": {},
   "outputs": [],
   "source": [
    "colors=['caramel','gold','silver','occur']\n",
    "colors[2]=['bronze','silver']\n",
    "colors"
   ]
  },
  {
   "cell_type": "code",
   "execution_count": null,
   "id": "01b7e02b-8503-4f84-8c3a-9919b6e43e66",
   "metadata": {},
   "outputs": [],
   "source": [
    "colors=['caramel','gold','silver','occur']\n",
    "colors[2:2]=['bronze','silver']\n",
    "colors"
   ]
  },
  {
   "cell_type": "markdown",
   "id": "d74bf241-6070-4639-b96d-3a92a653ab6a",
   "metadata": {},
   "source": [
    "c. Reassigning a single element\n"
   ]
  },
  {
   "cell_type": "code",
   "execution_count": null,
   "id": "2196fb2c-2d31-41dc-8b19-f0ddf0fa443a",
   "metadata": {},
   "outputs": [],
   "source": [
    "colors=['caramel','gold','silver','occur']\n",
    "colors[3]='bronze'\n",
    "colors"
   ]
  },
  {
   "cell_type": "code",
   "execution_count": null,
   "id": "19eae439-3773-419a-95a1-451ae0ee9b5c",
   "metadata": {},
   "outputs": [],
   "source": [
    "colors=['caramel','gold','silver','occur']\n",
    "colors[4]='bronze'\n",
    "colors"
   ]
  },
  {
   "cell_type": "markdown",
   "id": "19aa1306-f1ed-4594-839e-a19b0464ea9a",
   "metadata": {},
   "source": [
    "### 3. How can we Delete a Python List?\n",
    "a. Deleting the entire Python list\n"
   ]
  },
  {
   "cell_type": "code",
   "execution_count": null,
   "id": "d158444b-4045-4138-bdd6-d7543b0313c3",
   "metadata": {},
   "outputs": [],
   "source": [
    "del colors"
   ]
  },
  {
   "cell_type": "markdown",
   "id": "6b642477-30fd-455a-b9a2-10041cb80cd1",
   "metadata": {},
   "source": [
    "b. Deleting a few elements\n"
   ]
  },
  {
   "cell_type": "code",
   "execution_count": 51,
   "id": "8c74326f-8768-4c68-8ace-661c5cd84da6",
   "metadata": {},
   "outputs": [],
   "source": [
    "colors=['caramel','gold','silver','bronze','blue']\n",
    "del colors[2:4]"
   ]
  },
  {
   "cell_type": "markdown",
   "id": "bbf2e5c5-7531-47d5-8697-51c085b7bea1",
   "metadata": {},
   "source": [
    "### 4. Other\n",
    "Multidimensional Lists in Python\n",
    "\n"
   ]
  },
  {
   "cell_type": "code",
   "execution_count": 52,
   "id": "61f12220-a503-40e2-b5d9-add53ca7db3c",
   "metadata": {},
   "outputs": [
    {
     "data": {
      "text/plain": [
       "4"
      ]
     },
     "execution_count": 52,
     "metadata": {},
     "output_type": "execute_result"
    }
   ],
   "source": [
    "a=[[[1,2],[3,4],5],[6,7]]\n",
    "a[0][1][1]"
   ]
  },
  {
   "cell_type": "markdown",
   "id": "b267a247-bfae-4209-91b9-3214d904cb36",
   "metadata": {},
   "source": [
    "Concatenation of Python List\n"
   ]
  },
  {
   "cell_type": "code",
   "execution_count": 53,
   "id": "57c1a803-a71d-45f6-890d-d4046f3f0c80",
   "metadata": {},
   "outputs": [
    {
     "data": {
      "text/plain": [
       "[3, 1, 2, 5, 4, 6]"
      ]
     },
     "execution_count": 53,
     "metadata": {},
     "output_type": "execute_result"
    }
   ],
   "source": [
    "a,b=[3,1,2],[5,4,6]\n",
    "a+b"
   ]
  },
  {
   "cell_type": "markdown",
   "id": "1de079b6-6181-4b65-b42d-366bf9b5e8ab",
   "metadata": {},
   "source": [
    "### Python List Operations\n"
   ]
  },
  {
   "cell_type": "markdown",
   "id": "68fffc03-d993-470f-9011-bd20ba3491ff",
   "metadata": {},
   "source": [
    "a. Multiplication\n"
   ]
  },
  {
   "cell_type": "code",
   "execution_count": 55,
   "id": "3fa8100b-231f-4c5b-84aa-092b9819896c",
   "metadata": {},
   "outputs": [],
   "source": [
    "a*=3"
   ]
  },
  {
   "cell_type": "code",
   "execution_count": 56,
   "id": "f4bcdbcb-b11f-4574-879a-d85889333f71",
   "metadata": {},
   "outputs": [
    {
     "data": {
      "text/plain": [
       "[3, 1, 2, 3, 1, 2, 3, 1, 2]"
      ]
     },
     "execution_count": 56,
     "metadata": {},
     "output_type": "execute_result"
    }
   ],
   "source": [
    "a"
   ]
  },
  {
   "cell_type": "markdown",
   "id": "425210ab-7786-4c2a-be74-ae7def7149d7",
   "metadata": {},
   "source": [
    "b. Membership\n"
   ]
  },
  {
   "cell_type": "code",
   "execution_count": 59,
   "id": "95ec49b1-e219-4678-9d4c-2bc3315b80fe",
   "metadata": {},
   "outputs": [
    {
     "data": {
      "text/plain": [
       "(True, False, True)"
      ]
     },
     "execution_count": 59,
     "metadata": {},
     "output_type": "execute_result"
    }
   ],
   "source": [
    "1 in a, 4 in a, 5 not in a"
   ]
  },
  {
   "cell_type": "markdown",
   "id": "a2c8e18f-8ea8-498a-b8be-5e8907206489",
   "metadata": {},
   "source": [
    "### Python List Comprehension\n"
   ]
  },
  {
   "cell_type": "code",
   "execution_count": 60,
   "id": "03b69731-7d61-41d7-887e-11dadf2f7e04",
   "metadata": {},
   "outputs": [],
   "source": [
    "even=[2*i for i in range(1,11)]"
   ]
  },
  {
   "cell_type": "markdown",
   "id": "9318a87c-982d-4675-88ef-9e9eac609edd",
   "metadata": {},
   "source": [
    "## Built-in List Functions"
   ]
  },
  {
   "cell_type": "markdown",
   "id": "4f3322f5-797e-4497-95ed-335efe8b5852",
   "metadata": {},
   "source": [
    "![](../etc/Built-in-List-Functions-in-Python-01.webp)"
   ]
  },
  {
   "cell_type": "markdown",
   "id": "e42b4031-0cab-429f-a38d-348a226ad3fc",
   "metadata": {},
   "source": [
    "## Built-in Methods\n"
   ]
  },
  {
   "cell_type": "markdown",
   "id": "0647a594-ed9e-4a00-b258-b035b259a678",
   "metadata": {},
   "source": [
    "![](../etc/Python-List-Built-in-Methods-01.webp)"
   ]
  },
  {
   "cell_type": "code",
   "execution_count": null,
   "id": "c95734b5-f7b2-4f42-86a8-b89ce4ccda1d",
   "metadata": {},
   "outputs": [],
   "source": []
  }
 ],
 "metadata": {
  "kernelspec": {
   "display_name": "Python 3 (ipykernel)",
   "language": "python",
   "name": "python3"
  },
  "language_info": {
   "codemirror_mode": {
    "name": "ipython",
    "version": 3
   },
   "file_extension": ".py",
   "mimetype": "text/x-python",
   "name": "python",
   "nbconvert_exporter": "python",
   "pygments_lexer": "ipython3",
   "version": "3.9.13"
  }
 },
 "nbformat": 4,
 "nbformat_minor": 5
}
