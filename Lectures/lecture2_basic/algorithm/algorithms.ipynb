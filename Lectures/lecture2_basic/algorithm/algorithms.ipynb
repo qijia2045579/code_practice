{
 "cells": [
  {
   "cell_type": "markdown",
   "id": "c5986ffd-4ead-4f1f-9087-8e709bc0db63",
   "metadata": {},
   "source": [
    "## First"
   ]
  },
  {
   "cell_type": "markdown",
   "id": "48bd073f-0db2-49cc-b27d-1102d1e7a74a",
   "metadata": {},
   "source": [
    "1. Representing a matrix in python list\n",
    "\n",
    "A = \n",
    "\n",
    "1,2,3\n",
    "\n",
    "4,5,6\n",
    "\n",
    "7,8,9"
   ]
  },
  {
   "cell_type": "code",
   "execution_count": null,
   "id": "dd535759-2a57-481d-82dd-2a8ed41b6573",
   "metadata": {},
   "outputs": [],
   "source": [
    "[\n",
    "    [7,4,1],\n",
    "    [8,5,2],\n",
    "    [9,6,3]\n",
    "]"
   ]
  },
  {
   "cell_type": "code",
   "execution_count": 26,
   "id": "24076964-d3f7-46a4-a36f-0f5aee35445d",
   "metadata": {},
   "outputs": [],
   "source": [
    "A = [[1,2,3],[4,5,6],[7,8,9]]"
   ]
  },
  {
   "cell_type": "code",
   "execution_count": 27,
   "id": "dee6df7b-3d5b-4b8f-906d-e3c37de81023",
   "metadata": {},
   "outputs": [
    {
     "data": {
      "text/plain": [
       "[[1, 2, 3], [4, 5, 6], [7, 8, 9]]"
      ]
     },
     "execution_count": 27,
     "metadata": {},
     "output_type": "execute_result"
    }
   ],
   "source": [
    "A"
   ]
  },
  {
   "cell_type": "markdown",
   "id": "1edbca0c-495f-4fe1-8586-57383eee55d7",
   "metadata": {},
   "source": [
    "2. calculate matrix multiplification\n",
    "\n",
    "B = A x A\n",
    "\n",
    "![](../etc/matrix_multi.png)"
   ]
  },
  {
   "cell_type": "markdown",
   "id": "210f0dd5-f834-4097-a183-74bfb7bb896e",
   "metadata": {},
   "source": [
    "3. I want to rotate the result matrix 180 degree.\n"
   ]
  },
  {
   "cell_type": "markdown",
   "id": "16d75acc-32ab-4670-8125-fab06c2344a1",
   "metadata": {},
   "source": [
    "4. I want to rotate the above matrix 90 degree with clockwise direction"
   ]
  },
  {
   "cell_type": "markdown",
   "id": "5a2f5965-6d69-4c7c-be1e-33fba131a9d8",
   "metadata": {},
   "source": [
    "## Second\n",
    "\n",
    "I have a document, which has different level of titles, I want to organize it so I can get the chapter i want quickly:\n",
    "    \n",
    "\"Section 1, Chapter 1, line 1, line 2, line 3\""
   ]
  },
  {
   "cell_type": "code",
   "execution_count": 21,
   "id": "580f30a2-a060-4a6c-a37d-c798b09da15a",
   "metadata": {},
   "outputs": [],
   "source": [
    "import random"
   ]
  },
  {
   "cell_type": "code",
   "execution_count": 24,
   "id": "aeafdf57-c2d5-4e79-987f-d79c926cc88b",
   "metadata": {},
   "outputs": [],
   "source": [
    "random.seed(521)\n",
    "sections = random.randint(1,10)\n",
    "document = \"\"\n",
    "for s in range(sections):\n",
    "    document += \"Section \"+str(s+1)+\" \"\n",
    "    chapters = random.randint(1,5)\n",
    "    for c in range(chapters):\n",
    "        document += \"Chapter \"+str(c+1)+\" \"\n",
    "        lines = random.randint(1,3)\n",
    "        for l in range(lines):\n",
    "            document += \"Line \"+str(l+1)+\" \""
   ]
  },
  {
   "cell_type": "code",
   "execution_count": 25,
   "id": "6d332d22-a178-4225-8cd3-2fb36f9961c2",
   "metadata": {},
   "outputs": [
    {
     "data": {
      "text/plain": [
       "'Section 1 Chapter 1 Line 1 Line 2 Section 2 Chapter 1 Line 1 Line 2 Chapter 2 Line 1 Line 2 Line 3 Chapter 3 Line 1 '"
      ]
     },
     "execution_count": 25,
     "metadata": {},
     "output_type": "execute_result"
    }
   ],
   "source": [
    "document"
   ]
  },
  {
   "cell_type": "code",
   "execution_count": null,
   "id": "5d78efd6-a772-4aa3-8d73-e2703c2ad6e6",
   "metadata": {},
   "outputs": [],
   "source": [
    "[\n",
    "    [Section\n",
    "            [chapter\n",
    "                [1,2]\n",
    "            ]\n",
    "    ]\n",
    "]"
   ]
  },
  {
   "cell_type": "markdown",
   "id": "646ae92b-d810-4540-a4ab-57994dcbcc5d",
   "metadata": {},
   "source": [
    "## Third\n",
    "\n",
    "给定一个 n 个元素有序的（升序）整型数组 nums 和一个目标值 target  ，写一个函数搜索 nums 中的 target，如果目标值存在返回下标，否则返回 -1。\n",
    "\n",
    "示例 1:\n",
    "\n",
    "输入: nums = [-1,0,3,5,9,12], target = 9     \n",
    "输出: 4       \n",
    "解释: 9 出现在 nums 中并且下标为 4     \n",
    "示例 2:\n",
    "\n",
    "输入: nums = [-1,0,3,5,9,12], target = 2     \n",
    "输出: -1        \n",
    "解释: 2 不存在 nums 中因此返回 -1        \n",
    "提示：\n",
    "\n",
    "你可以假设 nums 中的所有元素是不重复的。\n",
    "n 将在 [1, 10000]之间。\n",
    "nums 的每个元素都将在 [-9999, 9999]之间。"
   ]
  },
  {
   "cell_type": "code",
   "execution_count": null,
   "id": "d06a4a2c-c6f0-4623-92e0-f7ea3e9bf284",
   "metadata": {},
   "outputs": [],
   "source": []
  },
  {
   "cell_type": "markdown",
   "id": "658976d2-05af-4c0c-bdfc-03d7537a60c9",
   "metadata": {},
   "source": [
    "## Fourth\n",
    "\n",
    "\n",
    "给定一个含有 n 个正整数的数组和一个正整数 s ，找出该数组中满足其和 ≥ s 的长度最小的 连续 子数组，并返回其长度。如果不存在符合条件的子数组，返回 0。\n",
    "\n",
    "示例：\n",
    "\n",
    "输入：s = 7, nums = [2,3,1,2,4,3] 输出：2 解释：子数组 [4,3] 是该条件下的长度最小的子数组。\n",
    "\n"
   ]
  },
  {
   "cell_type": "code",
   "execution_count": null,
   "id": "7ec81f19-d61b-4d64-aae1-941d92740dc8",
   "metadata": {},
   "outputs": [],
   "source": []
  }
 ],
 "metadata": {
  "kernelspec": {
   "display_name": "Python 3 (ipykernel)",
   "language": "python",
   "name": "python3"
  },
  "language_info": {
   "codemirror_mode": {
    "name": "ipython",
    "version": 3
   },
   "file_extension": ".py",
   "mimetype": "text/x-python",
   "name": "python",
   "nbconvert_exporter": "python",
   "pygments_lexer": "ipython3",
   "version": "3.9.13"
  }
 },
 "nbformat": 4,
 "nbformat_minor": 5
}
