{
 "cells": [
  {
   "cell_type": "markdown",
   "id": "adb93e89-fdf4-41e0-952a-0bfc0f9f217e",
   "metadata": {},
   "source": [
    "## Solve some middle school questions"
   ]
  },
  {
   "cell_type": "markdown",
   "id": "29f4fed2-a250-4bd4-af78-a11f36d3e107",
   "metadata": {},
   "source": [
    "### get the area of the trapezoid\n",
    "\n",
    "Bottom = 1526.47\n",
    "top = 920.14\n",
    "height = 521.1314"
   ]
  },
  {
   "cell_type": "code",
   "execution_count": null,
   "id": "8f196513-c337-47d7-aaa0-bc171eb4e259",
   "metadata": {},
   "outputs": [],
   "source": []
  },
  {
   "cell_type": "markdown",
   "id": "c9720486-43ab-47d3-a532-2fe00e782da3",
   "metadata": {},
   "source": [
    "### Solve a quadratic equation\n",
    "\n",
    "3x*x - 18x + 4 = 0 "
   ]
  },
  {
   "cell_type": "code",
   "execution_count": null,
   "id": "1453b1a1-f2f8-4461-b79f-75aeddd07337",
   "metadata": {},
   "outputs": [],
   "source": []
  },
  {
   "cell_type": "markdown",
   "id": "f5f2ad5c-d46b-4d78-8ebe-5111dae03538",
   "metadata": {},
   "source": [
    "## Solve some high school questions\n",
    "\n",
    "calculate: 1+2+4+8+16+32+...+1024=?"
   ]
  },
  {
   "cell_type": "code",
   "execution_count": null,
   "id": "e4ba41a1-4f1f-4bb1-86a0-db9a4197e432",
   "metadata": {},
   "outputs": [],
   "source": []
  },
  {
   "cell_type": "markdown",
   "id": "03762838-8e6c-4244-a699-9c24de621092",
   "metadata": {},
   "source": [
    "calculate: 1+4+9+16+25+36+...+10000=?"
   ]
  },
  {
   "cell_type": "markdown",
   "id": "72d85951-8d69-4af4-b110-78da31ea6f18",
   "metadata": {},
   "source": [
    "## Achieve some elementary school questions\n",
    "\n",
    "chicken and rabbits are closed in one cage:\n",
    "\n",
    "there are 4 heads, and 12 feet.\n",
    "\n",
    "how many chicken? How many rabbits?"
   ]
  },
  {
   "cell_type": "code",
   "execution_count": 35,
   "id": "660d2706-ca49-4f90-bf3b-877fd7666ae1",
   "metadata": {},
   "outputs": [],
   "source": [
    "chicken=0\n",
    "rabbit=0\n",
    "\n",
    "head_max = 4\n",
    "feet_max = 12\n",
    "\n",
    "while True:\n",
    "    feet = 2*chicken+4*rabbit # 3c, 1r\n",
    "    if feet == feet_max:\n",
    "        break\n",
    "    elif chicken+rabbit==head_max: \n",
    "        chicken = 0\n",
    "        rabbit += 1\n",
    "        continue # continue means jump to next iteration\n",
    "    else:\n",
    "        chicken = chicken + 1                       # chicken += 1\n",
    "        \n",
    "        \n",
    "    \n"
   ]
  },
  {
   "cell_type": "code",
   "execution_count": 36,
   "id": "80195e0f-34c9-4566-a1dc-cbae82cc4614",
   "metadata": {},
   "outputs": [],
   "source": [
    "chicken=0\n",
    "rabbit=0\n",
    "\n",
    "head_max = 123\n",
    "feet_max = 492\n",
    "\n",
    "while True:\n",
    "    feet = 2*chicken+4*rabbit\n",
    "    if chicken+rabbit>head_max:\n",
    "        chicken = 0\n",
    "        rabbit += 1\n",
    "    elif feet == feet_max:\n",
    "        break\n",
    "    else:\n",
    "        chicken = chicken + 1                       # chicken += 1"
   ]
  },
  {
   "cell_type": "code",
   "execution_count": 37,
   "id": "6edd6f07-a333-4f26-9539-9c5f347728d5",
   "metadata": {},
   "outputs": [
    {
     "data": {
      "text/plain": [
       "(0, 123)"
      ]
     },
     "execution_count": 37,
     "metadata": {},
     "output_type": "execute_result"
    }
   ],
   "source": [
    "chicken, rabbit"
   ]
  },
  {
   "cell_type": "markdown",
   "id": "c19d5842-4b2a-4057-943b-d4f776886fdd",
   "metadata": {},
   "source": [
    "OK. Now we have 123 heads, and 492 feet. How many chicken? How many rabbits?"
   ]
  },
  {
   "cell_type": "code",
   "execution_count": 44,
   "id": "0d7dca3f-9c1d-438a-a7a0-e84dde1c815c",
   "metadata": {},
   "outputs": [],
   "source": [
    "# Prefer\n",
    "head_max = 4\n",
    "feet_max = 12\n",
    "\n",
    "rabbit = 0\n",
    "chicken = 0\n",
    "feet = 0\n",
    "while chicken<=head_max:\n",
    "    rabbit = head_max-chicken\n",
    "    feet = 2*chicken+4*rabbit\n",
    "    if feet==feet_max:\n",
    "        break\n",
    "    else:\n",
    "        chicken += 1"
   ]
  },
  {
   "cell_type": "code",
   "execution_count": 43,
   "id": "2121d4c0-741c-4bb6-b476-64a59763eb1e",
   "metadata": {},
   "outputs": [
    {
     "data": {
      "text/plain": [
       "(2, 2)"
      ]
     },
     "execution_count": 43,
     "metadata": {},
     "output_type": "execute_result"
    }
   ],
   "source": [
    "chicken, rabbit"
   ]
  },
  {
   "cell_type": "code",
   "execution_count": null,
   "id": "75426bbe-2289-473c-803b-67c4486b53f8",
   "metadata": {},
   "outputs": [],
   "source": []
  }
 ],
 "metadata": {
  "kernelspec": {
   "display_name": "Python 3 (ipykernel)",
   "language": "python",
   "name": "python3"
  },
  "language_info": {
   "codemirror_mode": {
    "name": "ipython",
    "version": 3
   },
   "file_extension": ".py",
   "mimetype": "text/x-python",
   "name": "python",
   "nbconvert_exporter": "python",
   "pygments_lexer": "ipython3",
   "version": "3.9.13"
  }
 },
 "nbformat": 4,
 "nbformat_minor": 5
}
