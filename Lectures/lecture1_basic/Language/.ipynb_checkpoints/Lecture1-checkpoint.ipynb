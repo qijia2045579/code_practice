{
 "cells": [
  {
   "cell_type": "markdown",
   "id": "e0bc9763-cf62-46a7-951a-030cc0057b95",
   "metadata": {},
   "source": [
    "# Lecture 1"
   ]
  },
  {
   "cell_type": "code",
   "execution_count": null,
   "id": "8e180d51-ae82-4513-85ee-b419e373764c",
   "metadata": {},
   "outputs": [],
   "source": []
  },
  {
   "cell_type": "markdown",
   "id": "5d4eca80-af5b-436d-9755-607eb579e10a",
   "metadata": {
    "tags": []
   },
   "source": [
    "![python](../etc/python-logo.png)\n",
    "\n",
    "## Python\n",
    "\n",
    "Python is one kind of programming language\n",
    "\n",
    "Very popular in modern programming\n",
    "\n",
    "So... We are going to walk through all the learning and practice with **python**."
   ]
  },
  {
   "cell_type": "markdown",
   "id": "be8d4a20-3805-4eb4-a623-f9957e3a9498",
   "metadata": {},
   "source": [
    "#### But if I do not know anything about CS...\n",
    "\n",
    "What is programming? -- Tell computer to do something with codes.\n",
    "\n",
    "Long history of programming story...\n",
    "\n",
    "#### It's OK, we will study and explain everything, from ground to sky~~"
   ]
  },
  {
   "cell_type": "markdown",
   "id": "8ed515cd-50ba-4a08-aef6-45c6df031538",
   "metadata": {},
   "source": [
    "## OK. Let's write a program."
   ]
  },
  {
   "cell_type": "code",
   "execution_count": 5,
   "id": "7c5ea76e-1729-4eb6-bcdb-bb4490dc0cae",
   "metadata": {},
   "outputs": [
    {
     "name": "stdout",
     "output_type": "stream",
     "text": [
      "This is my 1st program\n"
     ]
    }
   ],
   "source": [
    "print(\"This is my 1st program\")"
   ]
  },
  {
   "cell_type": "markdown",
   "id": "d48a9250-dff5-463b-9d4a-c725b3009416",
   "metadata": {},
   "source": [
    "### Let's write more"
   ]
  },
  {
   "cell_type": "code",
   "execution_count": 8,
   "id": "7fdcd942-32f8-4775-bdc7-8cd8c4223d74",
   "metadata": {},
   "outputs": [
    {
     "name": "stdout",
     "output_type": "stream",
     "text": [
      "This is my 2nd program\n",
      "This is my 3rd program\n",
      "This is my 4th program\n",
      "This is my 5th program\n"
     ]
    }
   ],
   "source": [
    "print(\"This is my 2nd program\")\n",
    "print(\"This is my 3rd program\")\n",
    "print(\"This is my 4th program\")\n",
    "print(\"This is my 5th program\")"
   ]
  },
  {
   "cell_type": "markdown",
   "id": "029f6abe-a2e0-433e-a07b-953166d44b34",
   "metadata": {},
   "source": [
    "### What if now I want to write more and more and more, for example: 10000 times?"
   ]
  },
  {
   "cell_type": "markdown",
   "id": "71b3c5f6-88c6-4990-823d-298117453ca7",
   "metadata": {},
   "source": [
    "## Variable -- flexibility"
   ]
  },
  {
   "cell_type": "code",
   "execution_count": 20,
   "id": "3cff80cb-3e66-489d-96f5-c374149496e5",
   "metadata": {},
   "outputs": [
    {
     "name": "stdout",
     "output_type": "stream",
     "text": [
      "This is my 1 program\n",
      "This is my 2 program\n",
      "This is my 3 program\n"
     ]
    }
   ],
   "source": [
    "n = 1\n",
    "print(\"This is my \"+str(n)+\" program\")\n",
    "n = 2\n",
    "print(\"This is my \"+str(n)+\" program\")\n",
    "n = 3\n",
    "print(\"This is my \"+str(n)+\" program\")"
   ]
  },
  {
   "cell_type": "markdown",
   "id": "95990d56-83a0-4aff-83ce-7b3c234e55c4",
   "metadata": {},
   "source": [
    "## Loop -- laziness"
   ]
  },
  {
   "cell_type": "code",
   "execution_count": null,
   "id": "eef7003d-9e1d-4819-a3da-572ad20cbada",
   "metadata": {},
   "outputs": [],
   "source": [
    "for n in range(0,10000):\n",
    "    print(\"This is my \"+str(n+1)+\" program\")"
   ]
  },
  {
   "cell_type": "code",
   "execution_count": 6,
   "id": "f25f9423-d18d-4025-a85b-bd70c9724c7b",
   "metadata": {},
   "outputs": [
    {
     "name": "stdout",
     "output_type": "stream",
     "text": [
      "This is my 1 program\n"
     ]
    }
   ],
   "source": [
    "n=0\n",
    "while (type(n) is int):\n",
    "    print(\"This is my \"+str(n+1)+\" program\")\n",
    "    n = str(n)"
   ]
  },
  {
   "cell_type": "markdown",
   "id": "f3cecb28-46fc-4798-b5c3-3e862869cf9f",
   "metadata": {},
   "source": [
    "## Condition -- judgement"
   ]
  },
  {
   "cell_type": "code",
   "execution_count": 30,
   "id": "3f3a1756-4e19-423b-914b-707a2eb19554",
   "metadata": {},
   "outputs": [
    {
     "name": "stdout",
     "output_type": "stream",
     "text": [
      "This is my 1st program\n",
      "This is my 2nd program\n",
      "This is my 3rd program\n",
      "This is my 4th program\n",
      "This is my 5th program\n",
      "This is my 6th program\n",
      "This is my 7th program\n",
      "This is my 8th program\n",
      "This is my 9th program\n",
      "This is my 10th program\n",
      "This is my 11th program\n",
      "This is my 12th program\n",
      "This is my 13th program\n",
      "This is my 14th program\n",
      "This is my 15th program\n",
      "This is my 16th program\n",
      "This is my 17th program\n",
      "This is my 18th program\n",
      "This is my 19th program\n",
      "This is my 20th program\n",
      "This is my 21st program\n",
      "This is my 22nd program\n",
      "This is my 23rd program\n",
      "This is my 24th program\n",
      "This is my 25th program\n",
      "This is my 26th program\n",
      "This is my 27th program\n",
      "This is my 28th program\n",
      "This is my 29th program\n",
      "This is my 30th program\n",
      "This is my 31st program\n",
      "This is my 32nd program\n",
      "This is my 33rd program\n",
      "This is my 34th program\n",
      "This is my 35th program\n",
      "This is my 36th program\n",
      "This is my 37th program\n",
      "This is my 38th program\n",
      "This is my 39th program\n",
      "This is my 40th program\n",
      "This is my 41st program\n",
      "This is my 42nd program\n",
      "This is my 43rd program\n",
      "This is my 44th program\n",
      "This is my 45th program\n",
      "This is my 46th program\n",
      "This is my 47th program\n",
      "This is my 48th program\n",
      "This is my 49th program\n",
      "This is my 50th program\n",
      "This is my 51st program\n",
      "This is my 52nd program\n",
      "This is my 53rd program\n",
      "This is my 54th program\n",
      "This is my 55th program\n",
      "This is my 56th program\n",
      "This is my 57th program\n",
      "This is my 58th program\n",
      "This is my 59th program\n",
      "This is my 60th program\n",
      "This is my 61st program\n",
      "This is my 62nd program\n",
      "This is my 63rd program\n",
      "This is my 64th program\n",
      "This is my 65th program\n",
      "This is my 66th program\n",
      "This is my 67th program\n",
      "This is my 68th program\n",
      "This is my 69th program\n",
      "This is my 70th program\n",
      "This is my 71st program\n",
      "This is my 72nd program\n",
      "This is my 73rd program\n",
      "This is my 74th program\n",
      "This is my 75th program\n",
      "This is my 76th program\n",
      "This is my 77th program\n",
      "This is my 78th program\n",
      "This is my 79th program\n",
      "This is my 80th program\n",
      "This is my 81st program\n",
      "This is my 82nd program\n",
      "This is my 83rd program\n",
      "This is my 84th program\n",
      "This is my 85th program\n",
      "This is my 86th program\n",
      "This is my 87th program\n",
      "This is my 88th program\n",
      "This is my 89th program\n",
      "This is my 90th program\n",
      "This is my 91st program\n",
      "This is my 92nd program\n",
      "This is my 93rd program\n",
      "This is my 94th program\n",
      "This is my 95th program\n",
      "This is my 96th program\n",
      "This is my 97th program\n",
      "This is my 98th program\n",
      "This is my 99th program\n",
      "This is my 100th program\n"
     ]
    }
   ],
   "source": [
    "for n in range(1,100):\n",
    "    if n == 1:\n",
    "        print(\"This is my \"+str(n)+\"st program\")\n",
    "    elif n== 2:\n",
    "        print(\"This is my \"+str(n)+\"nd program\")\n",
    "    elif n== 3:\n",
    "        print(\"This is my \"+str(n)+\"rd program\")\n",
    "    elif n>20 and (n)%10==1:\n",
    "        print(\"This is my \"+str(n)+\"st program\")\n",
    "    elif n>20 and (n)%10==2:\n",
    "        print(\"This is my \"+str(n)+\"nd program\")\n",
    "    elif n>20 and (n)%10==3:\n",
    "        print(\"This is my \"+str(n)+\"rd program\")\n",
    "    else:\n",
    "        print(\"This is my \"+str(n)+\"th program\")"
   ]
  },
  {
   "cell_type": "code",
   "execution_count": null,
   "id": "742cd2ba-7a6c-4d70-8230-63351917b80f",
   "metadata": {},
   "outputs": [],
   "source": [
    "for range "
   ]
  }
 ],
 "metadata": {
  "kernelspec": {
   "display_name": "Python 3 (ipykernel)",
   "language": "python",
   "name": "python3"
  },
  "language_info": {
   "codemirror_mode": {
    "name": "ipython",
    "version": 3
   },
   "file_extension": ".py",
   "mimetype": "text/x-python",
   "name": "python",
   "nbconvert_exporter": "python",
   "pygments_lexer": "ipython3",
   "version": "3.9.13"
  }
 },
 "nbformat": 4,
 "nbformat_minor": 5
}
