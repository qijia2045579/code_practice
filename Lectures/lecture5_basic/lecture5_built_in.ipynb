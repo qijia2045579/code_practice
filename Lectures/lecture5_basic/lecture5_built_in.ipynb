{
 "cells": [
  {
   "cell_type": "markdown",
   "id": "f22882d8-5e08-475c-8075-e8e31dc3fdc0",
   "metadata": {},
   "source": [
    "# Python Built-in\n",
    "\n",
    "## What are Python Built-In Functions?\n",
    "\n",
    "\n",
    "Full list of the built-in functions of Python:\n",
    "\n",
    "![](./etc/1.png)\n",
    "\n"
   ]
  },
  {
   "cell_type": "markdown",
   "id": "88cfb96a-7bb8-415f-8870-ff9d01a9a25c",
   "metadata": {},
   "source": [
    "### 1. abs()\n",
    "\n",
    "The abs() is one of the most popular Python built-in functions, which returns the absolute value of a number."
   ]
  },
  {
   "cell_type": "code",
   "execution_count": 1,
   "id": "a7d1e7e2-744a-4cd7-8aa0-3c43134330c7",
   "metadata": {},
   "outputs": [
    {
     "data": {
      "text/plain": [
       "7"
      ]
     },
     "execution_count": 1,
     "metadata": {},
     "output_type": "execute_result"
    }
   ],
   "source": [
    "abs(-7)"
   ]
  },
  {
   "cell_type": "markdown",
   "id": "0074002a-ba28-49e7-b6e5-2e4f26cd37f0",
   "metadata": {},
   "source": [
    "### 2. all()\n",
    "The all() function takes a container as an argument. This Built in Functions returns True if all values in a python iterable have a Boolean value of True."
   ]
  },
  {
   "cell_type": "code",
   "execution_count": 93,
   "id": "14d539d2-1761-41d7-b072-69f60d90097f",
   "metadata": {},
   "outputs": [
    {
     "data": {
      "text/plain": [
       "False"
      ]
     },
     "execution_count": 93,
     "metadata": {},
     "output_type": "execute_result"
    }
   ],
   "source": [
    "all({'*','',''})"
   ]
  },
  {
   "cell_type": "markdown",
   "id": "0f32db86-8187-471e-8725-0c444053b30e",
   "metadata": {},
   "source": [
    "### 3. any()\n",
    "Like all(), it takes one argument and returns True if, even one value in the iterable has a Boolean value of True.\n"
   ]
  },
  {
   "cell_type": "code",
   "execution_count": 3,
   "id": "2c8b6c92-e464-4784-a5bd-9d896eff61c1",
   "metadata": {},
   "outputs": [
    {
     "data": {
      "text/plain": [
       "True"
      ]
     },
     "execution_count": 3,
     "metadata": {},
     "output_type": "execute_result"
    }
   ],
   "source": [
    "any((1,0,0))"
   ]
  },
  {
   "cell_type": "markdown",
   "id": "cd8f131d-7f23-470b-a21d-76ed1f6c1fc6",
   "metadata": {},
   "source": [
    "### 4. ascii()\n",
    "It is important Python built-in functions, returns a printable representation of a python object (like a string or a Python list)."
   ]
  },
  {
   "cell_type": "code",
   "execution_count": 6,
   "id": "5b5f34bd-ee4b-4d36-a479-21f17dc1b6d2",
   "metadata": {},
   "outputs": [
    {
     "data": {
      "text/plain": [
       "\"[25, '\\\\u0219', '\\\\u4e2d']\""
      ]
     },
     "execution_count": 94,
     "metadata": {},
     "output_type": "execute_result"
    }
   ],
   "source": [
    "ascii(['s','ș','中'])"
   ]
  },
  {
   "cell_type": "markdown",
   "id": "0f8c1b57-ba67-4391-b08d-cb6f48011230",
   "metadata": {},
   "source": [
    "### 5. bin()\n",
    "\n",
    "bin() converts an integer to a binary string. We have seen this and other functions in our article on Python Numbers."
   ]
  },
  {
   "cell_type": "code",
   "execution_count": 7,
   "id": "6c889d31-ca93-4ac6-b408-9ecf7c63cd82",
   "metadata": {},
   "outputs": [
    {
     "data": {
      "text/plain": [
       "'0b111'"
      ]
     },
     "execution_count": 7,
     "metadata": {},
     "output_type": "execute_result"
    }
   ],
   "source": [
    "bin(7)"
   ]
  },
  {
   "cell_type": "markdown",
   "id": "dd91c6ed-cade-45b0-8b41-8c6ed48b4b13",
   "metadata": {},
   "source": [
    "### 6. bool()\n",
    "bool() converts a value to Boolean."
   ]
  },
  {
   "cell_type": "code",
   "execution_count": 95,
   "id": "b4bdc31b-471b-49a9-bc5b-789ce4a811f1",
   "metadata": {},
   "outputs": [
    {
     "data": {
      "text/plain": [
       "True"
      ]
     },
     "execution_count": 97,
     "metadata": {},
     "output_type": "execute_result"
    }
   ],
   "source": [
    "bool(0)"
   ]
  },
  {
   "cell_type": "markdown",
   "id": "3275e898-bc0a-4a4d-9147-8019d30a9df8",
   "metadata": {},
   "source": [
    "### 7. bytearray()\n",
    "\n",
    "bytearray() returns a python array of a given byte size."
   ]
  },
  {
   "cell_type": "code",
   "execution_count": 10,
   "id": "d36807ba-4313-47a0-82a6-7a9e902a0697",
   "metadata": {},
   "outputs": [
    {
     "data": {
      "text/plain": [
       "bytearray(b'\\x00\\x00\\x00\\x00')"
      ]
     },
     "execution_count": 10,
     "metadata": {},
     "output_type": "execute_result"
    }
   ],
   "source": [
    "bytearray(4)"
   ]
  },
  {
   "cell_type": "code",
   "execution_count": 12,
   "id": "9550c2e4-a8c9-4fe0-9cc8-544d72c190ff",
   "metadata": {},
   "outputs": [
    {
     "data": {
      "text/plain": [
       "bytearray(b'\\x01\\x02\\x03\\x04')"
      ]
     },
     "execution_count": 12,
     "metadata": {},
     "output_type": "execute_result"
    }
   ],
   "source": [
    "a = bytearray([1,2,3,4])\n",
    "a"
   ]
  },
  {
   "cell_type": "code",
   "execution_count": 13,
   "id": "57f3d772-bb1b-491b-b3f4-f80814950299",
   "metadata": {},
   "outputs": [
    {
     "data": {
      "text/plain": [
       "bytearray(b'\\x05\\x02\\x03\\x04')"
      ]
     },
     "execution_count": 13,
     "metadata": {},
     "output_type": "execute_result"
    }
   ],
   "source": [
    "a[0] = 5\n",
    "a"
   ]
  },
  {
   "cell_type": "code",
   "execution_count": 109,
   "id": "54db923d-a5a3-4e7c-9326-7fc70f944d2f",
   "metadata": {},
   "outputs": [],
   "source": [
    "name = \"jiaqi\"\n",
    "bname = bytearray(name, 'utf-8')"
   ]
  },
  {
   "cell_type": "code",
   "execution_count": 110,
   "id": "38e4b888-3d7b-45a7-a217-e95d0f19be22",
   "metadata": {},
   "outputs": [],
   "source": [
    "name = \"jeremy\""
   ]
  },
  {
   "cell_type": "code",
   "execution_count": 111,
   "id": "39506b65-e1df-4903-9b81-5bd8d79a9359",
   "metadata": {},
   "outputs": [
    {
     "data": {
      "text/plain": [
       "bytearray(b'jiaqi')"
      ]
     },
     "execution_count": 111,
     "metadata": {},
     "output_type": "execute_result"
    }
   ],
   "source": [
    "bname"
   ]
  },
  {
   "cell_type": "code",
   "execution_count": 102,
   "id": "9eabf17d-a5db-4ead-8592-ab1e58ff9555",
   "metadata": {},
   "outputs": [
    {
     "data": {
      "text/plain": [
       "bytearray(b'ziaqi')"
      ]
     },
     "execution_count": 102,
     "metadata": {},
     "output_type": "execute_result"
    }
   ],
   "source": [
    "bname[0] = ord('z')\n",
    "bname"
   ]
  },
  {
   "cell_type": "code",
   "execution_count": 117,
   "id": "c685b837-b235-49d7-84a6-d9d73b4b3740",
   "metadata": {},
   "outputs": [
    {
     "data": {
      "text/plain": [
       "'jiaqi'"
      ]
     },
     "execution_count": 117,
     "metadata": {},
     "output_type": "execute_result"
    }
   ],
   "source": [
    "bname.decode('utf-8')"
   ]
  },
  {
   "cell_type": "markdown",
   "id": "ccc43010-54ee-45e1-8f82-3d123ad12074",
   "metadata": {},
   "source": [
    "### 8. bytes()\n",
    "\n",
    "bytes() returns an immutable bytes object.\n",
    "\n",
    "Both bytes() and bytearray() deal with raw data, but bytearray() is mutable, while bytes() is immutable.\n",
    "\n"
   ]
  },
  {
   "cell_type": "code",
   "execution_count": 14,
   "id": "404cf8ec-8bd0-43d2-bc64-1fd415475a7b",
   "metadata": {},
   "outputs": [
    {
     "data": {
      "text/plain": [
       "b'\\x01\\x02\\x03\\x04\\x05'"
      ]
     },
     "execution_count": 14,
     "metadata": {},
     "output_type": "execute_result"
    }
   ],
   "source": [
    "a=bytes([1,2,3,4,5])\n",
    "a"
   ]
  },
  {
   "cell_type": "code",
   "execution_count": 15,
   "id": "9df1c879-2ae3-4468-aa79-ed545051e3db",
   "metadata": {},
   "outputs": [
    {
     "ename": "TypeError",
     "evalue": "'bytes' object does not support item assignment",
     "output_type": "error",
     "traceback": [
      "\u001b[0;31m---------------------------------------------------------------------------\u001b[0m",
      "\u001b[0;31mTypeError\u001b[0m                                 Traceback (most recent call last)",
      "Input \u001b[0;32mIn [15]\u001b[0m, in \u001b[0;36m<cell line: 1>\u001b[0;34m()\u001b[0m\n\u001b[0;32m----> 1\u001b[0m a[\u001b[38;5;241m0\u001b[39m] \u001b[38;5;241m=\u001b[39m \u001b[38;5;241m5\u001b[39m\n",
      "\u001b[0;31mTypeError\u001b[0m: 'bytes' object does not support item assignment"
     ]
    }
   ],
   "source": [
    "a[0] = 5"
   ]
  },
  {
   "cell_type": "markdown",
   "id": "77c952f3-3c75-4052-80ad-eec9080084d5",
   "metadata": {},
   "source": [
    "### 9. callable()\n",
    "\n",
    "callable() tells us if an object can be called."
   ]
  },
  {
   "cell_type": "code",
   "execution_count": 16,
   "id": "a00b6d02-8adc-45d7-9844-9b583751738a",
   "metadata": {},
   "outputs": [
    {
     "data": {
      "text/plain": [
       "False"
      ]
     },
     "execution_count": 16,
     "metadata": {},
     "output_type": "execute_result"
    }
   ],
   "source": [
    "callable([1,2,3])"
   ]
  },
  {
   "cell_type": "code",
   "execution_count": 18,
   "id": "ab98a1c2-d29d-4bbc-b642-1bb634139b40",
   "metadata": {},
   "outputs": [
    {
     "data": {
      "text/plain": [
       "True"
      ]
     },
     "execution_count": 18,
     "metadata": {},
     "output_type": "execute_result"
    }
   ],
   "source": [
    "callable(list)"
   ]
  },
  {
   "cell_type": "markdown",
   "id": "34b37113-1ad8-4378-8452-8db44f40c781",
   "metadata": {},
   "source": [
    "### 10. chr()\n",
    "\n",
    "chr() Built In function returns the character in python for an ASCII value.\n"
   ]
  },
  {
   "cell_type": "code",
   "execution_count": 20,
   "id": "4ade4313-6bd8-4d76-a3f6-cb3651cde890",
   "metadata": {},
   "outputs": [
    {
     "data": {
      "text/plain": [
       "('A', 'a')"
      ]
     },
     "execution_count": 20,
     "metadata": {},
     "output_type": "execute_result"
    }
   ],
   "source": [
    "chr(65), chr(97)"
   ]
  },
  {
   "cell_type": "markdown",
   "id": "c0154cf1-7415-47df-a2bb-c5726a4f6a6c",
   "metadata": {},
   "source": [
    "### 11. classmethod()\n",
    "\n",
    "classmethod() returns a class method for a given method."
   ]
  },
  {
   "cell_type": "code",
   "execution_count": 119,
   "id": "9f2addf9-f9ef-4efc-85f6-f87bdeaedb2d",
   "metadata": {},
   "outputs": [],
   "source": [
    "class Person:\n",
    "    age = 25\n",
    "\n",
    "    def printAge(self):\n",
    "        print('The age is:', self.age)\n"
   ]
  },
  {
   "cell_type": "code",
   "execution_count": 122,
   "id": "152c756c-7223-4139-988d-f20142f2e864",
   "metadata": {},
   "outputs": [],
   "source": [
    "one_person = Person"
   ]
  },
  {
   "cell_type": "code",
   "execution_count": 123,
   "id": "b247fca2-d8c5-4fbf-b0fd-e42dbe18f33b",
   "metadata": {},
   "outputs": [
    {
     "ename": "TypeError",
     "evalue": "printAge() missing 1 required positional argument: 'self'",
     "output_type": "error",
     "traceback": [
      "\u001b[0;31m---------------------------------------------------------------------------\u001b[0m",
      "\u001b[0;31mTypeError\u001b[0m                                 Traceback (most recent call last)",
      "Input \u001b[0;32mIn [123]\u001b[0m, in \u001b[0;36m<cell line: 1>\u001b[0;34m()\u001b[0m\n\u001b[0;32m----> 1\u001b[0m \u001b[43mone_person\u001b[49m\u001b[38;5;241;43m.\u001b[39;49m\u001b[43mprintAge\u001b[49m\u001b[43m(\u001b[49m\u001b[43m)\u001b[49m\n",
      "\u001b[0;31mTypeError\u001b[0m: printAge() missing 1 required positional argument: 'self'"
     ]
    }
   ],
   "source": [
    "one_person.printAge()"
   ]
  },
  {
   "cell_type": "code",
   "execution_count": 133,
   "id": "bbf8bba0-3562-4287-9bd9-4b5169f0f223",
   "metadata": {},
   "outputs": [
    {
     "name": "stdout",
     "output_type": "stream",
     "text": [
      "The age is: 25\n"
     ]
    },
    {
     "data": {
      "text/plain": [
       "<function __main__.Person.printAge(self)>"
      ]
     },
     "execution_count": 133,
     "metadata": {},
     "output_type": "execute_result"
    }
   ],
   "source": [
    "class Person:\n",
    "    age = 25\n",
    "\n",
    "    def printAge(self):\n",
    "        print('The age is:', self.age)\n",
    "\n",
    "# create printAge class method\n",
    "Person.printclassAge = classmethod(Person.printAge)\n",
    "\n",
    "Person.printclassAge()\n",
    "Person.printAge"
   ]
  },
  {
   "cell_type": "markdown",
   "id": "585b0dd4-8b28-4ccb-9013-5c427cab7f15",
   "metadata": {},
   "source": [
    "### 12. compile()\n",
    "compile() returns a Python code object. We use Python in built function to convert a string code into object code.\n"
   ]
  },
  {
   "cell_type": "code",
   "execution_count": 137,
   "id": "b06534c8-67fa-491a-abbc-030f74f571b6",
   "metadata": {},
   "outputs": [],
   "source": [
    "a_compiled_script = compile('a=123\\nb=7\\nprint(a+b)','','exec')"
   ]
  },
  {
   "cell_type": "code",
   "execution_count": 140,
   "id": "f7356553-2055-43f5-88e3-291c55cc345f",
   "metadata": {},
   "outputs": [],
   "source": [
    "import marshal"
   ]
  },
  {
   "cell_type": "code",
   "execution_count": 146,
   "id": "86677b71-78ef-4179-ac1f-70d9c155995e",
   "metadata": {},
   "outputs": [],
   "source": [
    "c_compiled_script = marshal.load(open('./uniqueid', 'rb'))"
   ]
  },
  {
   "cell_type": "code",
   "execution_count": 147,
   "id": "518d0089-aab5-4778-b45e-153b649ddf40",
   "metadata": {},
   "outputs": [],
   "source": [
    "name = \"jiaqi\""
   ]
  },
  {
   "cell_type": "code",
   "execution_count": 148,
   "id": "0c902a5c-5393-4ba2-b83c-1371597c8a7a",
   "metadata": {},
   "outputs": [
    {
     "name": "stdout",
     "output_type": "stream",
     "text": [
      "5290273121967335239\n"
     ]
    }
   ],
   "source": [
    "exec(c_compiled_script)"
   ]
  },
  {
   "cell_type": "markdown",
   "id": "79e4bb48-46b7-495a-b0ba-bdb68485e383",
   "metadata": {},
   "source": [
    "### 13. complex()\n",
    "\n",
    "complex() function creates a complex number."
   ]
  },
  {
   "cell_type": "code",
   "execution_count": 82,
   "id": "7526130b-1059-4c1f-afeb-69bb8b598279",
   "metadata": {},
   "outputs": [
    {
     "data": {
      "text/plain": [
       "(3.5+0j)"
      ]
     },
     "execution_count": 82,
     "metadata": {},
     "output_type": "execute_result"
    }
   ],
   "source": [
    "complex(3.5)"
   ]
  },
  {
   "cell_type": "markdown",
   "id": "79a7978e-7196-4955-96a3-6742e9d16ada",
   "metadata": {},
   "source": [
    "### 14. delattr()\n",
    "\n",
    "delattr() takes two arguments- a class (or object), and an attribute in it. It deletes the attribute."
   ]
  },
  {
   "cell_type": "code",
   "execution_count": 85,
   "id": "e407ffa5-75ca-4eae-a873-dec3ccba45f0",
   "metadata": {},
   "outputs": [
    {
     "name": "stdout",
     "output_type": "stream",
     "text": [
      "Before deleting domain attribute from geeks object:\n",
      "geeksforgeeks.org\n"
     ]
    },
    {
     "ename": "AttributeError",
     "evalue": "domain",
     "output_type": "error",
     "traceback": [
      "\u001b[0;31m---------------------------------------------------------------------------\u001b[0m",
      "\u001b[0;31mAttributeError\u001b[0m                            Traceback (most recent call last)",
      "Input \u001b[0;32mIn [85]\u001b[0m, in \u001b[0;36m<cell line: 5>\u001b[0;34m()\u001b[0m\n\u001b[1;32m      7\u001b[0m \u001b[38;5;28mprint\u001b[39m(\u001b[38;5;124m\"\u001b[39m\u001b[38;5;124mBefore deleting domain attribute from geeks object:\u001b[39m\u001b[38;5;124m\"\u001b[39m)\n\u001b[1;32m      8\u001b[0m \u001b[38;5;28mprint\u001b[39m(geeks\u001b[38;5;241m.\u001b[39mdomain)\n\u001b[0;32m----> 9\u001b[0m \u001b[38;5;28;43mdelattr\u001b[39;49m\u001b[43m(\u001b[49m\u001b[43mgeeks\u001b[49m\u001b[43m,\u001b[49m\u001b[43m \u001b[49m\u001b[38;5;124;43m\"\u001b[39;49m\u001b[38;5;124;43mdomain\u001b[39;49m\u001b[38;5;124;43m\"\u001b[39;49m\u001b[43m)\u001b[49m\n\u001b[1;32m     10\u001b[0m \u001b[38;5;28mprint\u001b[39m(\u001b[38;5;124m\"\u001b[39m\u001b[38;5;124mAfter deleting domain attribute from geeks object:\u001b[39m\u001b[38;5;124m\"\u001b[39m)\n\u001b[1;32m     11\u001b[0m \u001b[38;5;66;03m# this will raise AttributeError if we try to access 'domain' attribute\u001b[39;00m\n",
      "\u001b[0;31mAttributeError\u001b[0m: domain"
     ]
    }
   ],
   "source": [
    "class Geek:\n",
    "    domain = \"geeksforgeeks.org\"\n",
    "    shangxian = 10\n",
    "\n",
    "# This would be useful if you want the user just use something certan times.\n",
    "if __name__ == '__main__':\n",
    "    geeks = Geek()\n",
    "    print(\"Before deleting domain attribute from geeks object:\")\n",
    "    print(geeks.domain)\n",
    "    delattr(geeks, \"domain\")\n",
    "    print(\"After deleting domain attribute from geeks object:\")\n",
    "    # this will raise AttributeError if we try to access 'domain' attribute\n",
    "    print(geeks.domain)"
   ]
  },
  {
   "cell_type": "markdown",
   "id": "cdcae44c-843c-4a73-95c3-4f89fc4f9c48",
   "metadata": {},
   "source": [
    "### 15. dict()\n",
    "\n",
    "dict(), as we have seen it, creates a python dictionary.\n"
   ]
  },
  {
   "cell_type": "code",
   "execution_count": 86,
   "id": "61e723cd-c4ea-49a3-9d5e-ee96f197cf72",
   "metadata": {},
   "outputs": [
    {
     "data": {
      "text/plain": [
       "{1: 2, 3: 4}"
      ]
     },
     "execution_count": 86,
     "metadata": {},
     "output_type": "execute_result"
    }
   ],
   "source": [
    "dict([(1,2),(3,4)])"
   ]
  },
  {
   "cell_type": "markdown",
   "id": "d571fe9e-14a1-400c-88bc-5ae94b75faf2",
   "metadata": {},
   "source": [
    "### 16. dir()\n",
    "\n",
    "dir() returns an object’s attributes."
   ]
  },
  {
   "cell_type": "code",
   "execution_count": 149,
   "id": "420ee568-d623-4d6f-bf44-5c93bd9d7acf",
   "metadata": {},
   "outputs": [],
   "source": [
    "a = 10"
   ]
  },
  {
   "cell_type": "code",
   "execution_count": 164,
   "id": "b47bd079-143f-4717-ba82-b698684cd986",
   "metadata": {},
   "outputs": [],
   "source": [
    "import numpy as np\n",
    "\n",
    "\n",
    "a = np.array([1,2])"
   ]
  },
  {
   "cell_type": "code",
   "execution_count": 165,
   "id": "12b494c3-aa1d-4f11-b912-02dc90372f3b",
   "metadata": {},
   "outputs": [
    {
     "data": {
      "text/plain": [
       "array([1, 2])"
      ]
     },
     "execution_count": 165,
     "metadata": {},
     "output_type": "execute_result"
    }
   ],
   "source": [
    "a"
   ]
  },
  {
   "cell_type": "code",
   "execution_count": 150,
   "id": "cf83dcf7-1164-47cc-bcc5-202677d30488",
   "metadata": {},
   "outputs": [
    {
     "data": {
      "text/plain": [
       "['__abs__',\n",
       " '__add__',\n",
       " '__and__',\n",
       " '__bool__',\n",
       " '__ceil__',\n",
       " '__class__',\n",
       " '__delattr__',\n",
       " '__dir__',\n",
       " '__divmod__',\n",
       " '__doc__',\n",
       " '__eq__',\n",
       " '__float__',\n",
       " '__floor__',\n",
       " '__floordiv__',\n",
       " '__format__',\n",
       " '__ge__',\n",
       " '__getattribute__',\n",
       " '__getnewargs__',\n",
       " '__gt__',\n",
       " '__hash__',\n",
       " '__index__',\n",
       " '__init__',\n",
       " '__init_subclass__',\n",
       " '__int__',\n",
       " '__invert__',\n",
       " '__le__',\n",
       " '__lshift__',\n",
       " '__lt__',\n",
       " '__mod__',\n",
       " '__mul__',\n",
       " '__ne__',\n",
       " '__neg__',\n",
       " '__new__',\n",
       " '__or__',\n",
       " '__pos__',\n",
       " '__pow__',\n",
       " '__radd__',\n",
       " '__rand__',\n",
       " '__rdivmod__',\n",
       " '__reduce__',\n",
       " '__reduce_ex__',\n",
       " '__repr__',\n",
       " '__rfloordiv__',\n",
       " '__rlshift__',\n",
       " '__rmod__',\n",
       " '__rmul__',\n",
       " '__ror__',\n",
       " '__round__',\n",
       " '__rpow__',\n",
       " '__rrshift__',\n",
       " '__rshift__',\n",
       " '__rsub__',\n",
       " '__rtruediv__',\n",
       " '__rxor__',\n",
       " '__setattr__',\n",
       " '__sizeof__',\n",
       " '__str__',\n",
       " '__sub__',\n",
       " '__subclasshook__',\n",
       " '__truediv__',\n",
       " '__trunc__',\n",
       " '__xor__',\n",
       " 'as_integer_ratio',\n",
       " 'bit_length',\n",
       " 'conjugate',\n",
       " 'denominator',\n",
       " 'from_bytes',\n",
       " 'imag',\n",
       " 'numerator',\n",
       " 'real',\n",
       " 'to_bytes']"
      ]
     },
     "execution_count": 150,
     "metadata": {},
     "output_type": "execute_result"
    }
   ],
   "source": [
    "dir(a)"
   ]
  },
  {
   "cell_type": "code",
   "execution_count": 87,
   "id": "c0cfeaa8-b008-4364-99a0-0794816e10aa",
   "metadata": {},
   "outputs": [
    {
     "data": {
      "text/plain": [
       "['__class__',\n",
       " '__delattr__',\n",
       " '__dict__',\n",
       " '__dir__',\n",
       " '__doc__',\n",
       " '__eq__',\n",
       " '__format__',\n",
       " '__ge__',\n",
       " '__getattribute__',\n",
       " '__gt__',\n",
       " '__hash__',\n",
       " '__init__',\n",
       " '__init_subclass__',\n",
       " '__le__',\n",
       " '__lt__',\n",
       " '__module__',\n",
       " '__ne__',\n",
       " '__new__',\n",
       " '__reduce__',\n",
       " '__reduce_ex__',\n",
       " '__repr__',\n",
       " '__setattr__',\n",
       " '__sizeof__',\n",
       " '__str__',\n",
       " '__subclasshook__',\n",
       " '__weakref__',\n",
       " 'shape',\n",
       " 'size']"
      ]
     },
     "execution_count": 87,
     "metadata": {},
     "output_type": "execute_result"
    }
   ],
   "source": [
    "class fruit:\n",
    "    size=7\n",
    "    shape='round'\n",
    "orange=fruit()\n",
    "dir(orange)"
   ]
  },
  {
   "cell_type": "markdown",
   "id": "b6f70da1-3498-489a-859b-185f43795681",
   "metadata": {},
   "source": [
    "### 17. divmod()\n",
    "\n",
    "divmod() in Python built-in functions, takes two parameters, and returns a tuple of their quotient and remainder.\n",
    "\n",
    "In other words, it returns the floor division and the modulus of the two numbers."
   ]
  },
  {
   "cell_type": "code",
   "execution_count": 88,
   "id": "5efb3fa4-3be6-4add-9225-c8d2697555cd",
   "metadata": {},
   "outputs": [
    {
     "data": {
      "text/plain": [
       "(0, 3)"
      ]
     },
     "execution_count": 88,
     "metadata": {},
     "output_type": "execute_result"
    }
   ],
   "source": [
    "divmod(3,7)"
   ]
  },
  {
   "cell_type": "code",
   "execution_count": null,
   "id": "a6d69af3-5337-43c7-aa60-04e5119514aa",
   "metadata": {},
   "outputs": [
    {
     "data": {
      "text/plain": [
       "(2, 1)"
      ]
     },
     "execution_count": 89,
     "metadata": {},
     "output_type": "execute_result"
    }
   ],
   "source": [
    "divmod(7,3)"
   ]
  },
  {
   "cell_type": "markdown",
   "id": "f2277cbc-8cd3-44b1-b521-4a346df64425",
   "metadata": {},
   "source": [
    "### 18. enumerate()\n",
    "\n",
    "This Python Built In function returns an enumerate object. In other words, it adds a counter to the iterable."
   ]
  },
  {
   "cell_type": "code",
   "execution_count": 1,
   "id": "fd0ad541-ebe3-4cb9-b4c2-adcb747a7ec0",
   "metadata": {},
   "outputs": [
    {
     "name": "stdout",
     "output_type": "stream",
     "text": [
      "(0, 'a')\n",
      "(1, 'b')\n",
      "(2, 'c')\n"
     ]
    }
   ],
   "source": [
    "for i in enumerate(['a','b','c']):\n",
    "    print(i)"
   ]
  },
  {
   "cell_type": "markdown",
   "id": "b7542860-01f8-44b6-9e9f-beb8759084ab",
   "metadata": {},
   "source": [
    "### 19. eval()\n",
    "\n",
    "This Function takes a string as an argument, which is parsed as an expression.exec()\n"
   ]
  },
  {
   "cell_type": "code",
   "execution_count": 2,
   "id": "c7d89b87-fce6-4031-abd8-8ad1e7a2905b",
   "metadata": {},
   "outputs": [
    {
     "data": {
      "text/plain": [
       "15"
      ]
     },
     "execution_count": 2,
     "metadata": {},
     "output_type": "execute_result"
    }
   ],
   "source": [
    "x = 8\n",
    "eval('x+7')"
   ]
  },
  {
   "cell_type": "markdown",
   "id": "7103c8b3-36c9-4f7d-8afd-8839c11aacb0",
   "metadata": {
    "tags": []
   },
   "source": [
    "### 20. exec()\n",
    "\n",
    "exec() runs Python code dynamically.\n",
    "\n",
    "Which means that exec can take block of codes, where the eval() just take an expression."
   ]
  },
  {
   "cell_type": "code",
   "execution_count": 3,
   "id": "5c0eec63-2a73-4f03-ac20-c222016dc41c",
   "metadata": {},
   "outputs": [
    {
     "name": "stdout",
     "output_type": "stream",
     "text": [
      "5\n"
     ]
    }
   ],
   "source": [
    "exec('a=2;b=3;print(a+b)')"
   ]
  },
  {
   "cell_type": "code",
   "execution_count": 4,
   "id": "0eb654cd-4251-4c5e-b6bd-239c4b6ce3ca",
   "metadata": {},
   "outputs": [
    {
     "name": "stdin",
     "output_type": "stream",
     "text": [
      "Enter your program 8+6\n"
     ]
    }
   ],
   "source": [
    "exec(input(\"Enter your program\"))"
   ]
  },
  {
   "cell_type": "markdown",
   "id": "560c9e72-2642-4005-a81a-55458d684fbe",
   "metadata": {
    "tags": []
   },
   "source": [
    "### 21. filter()\n",
    "\n",
    "Usually used with python Lambda Expressios, filter() filters out the items for which the condition is True."
   ]
  },
  {
   "cell_type": "code",
   "execution_count": 5,
   "id": "ecafaa7b-ed14-4693-83ab-e035f0988644",
   "metadata": {},
   "outputs": [
    {
     "data": {
      "text/plain": [
       "[2, 0, False]"
      ]
     },
     "execution_count": 5,
     "metadata": {},
     "output_type": "execute_result"
    }
   ],
   "source": [
    "list(filter(lambda x:x%2==0,[1,2,0,False]))"
   ]
  },
  {
   "cell_type": "markdown",
   "id": "6c1be70a-0b0f-44f1-bb9f-dfe57b70c305",
   "metadata": {
    "tags": []
   },
   "source": [
    "### 22. float()\n",
    "\n",
    "This Python Built In function converts an int or a compatible value into a float."
   ]
  },
  {
   "cell_type": "code",
   "execution_count": 6,
   "id": "e6373e46-3525-49b0-9987-fc6407b4bb8e",
   "metadata": {},
   "outputs": [
    {
     "data": {
      "text/plain": [
       "2.0"
      ]
     },
     "execution_count": 6,
     "metadata": {},
     "output_type": "execute_result"
    }
   ],
   "source": [
    "float(2)"
   ]
  },
  {
   "cell_type": "code",
   "execution_count": 7,
   "id": "6c978be2-090e-48b9-b08d-33f0b24be2ea",
   "metadata": {},
   "outputs": [
    {
     "data": {
      "text/plain": [
       "0.0"
      ]
     },
     "execution_count": 7,
     "metadata": {},
     "output_type": "execute_result"
    }
   ],
   "source": [
    "float(False)"
   ]
  },
  {
   "cell_type": "markdown",
   "id": "7b47a25d-ac32-4ffc-a030-2f65bb801410",
   "metadata": {
    "tags": []
   },
   "source": [
    "### 23. format()\n",
    "\n",
    "Usually used in Python Strings."
   ]
  },
  {
   "cell_type": "code",
   "execution_count": 8,
   "id": "ef56996d-5328-4714-9ad9-4f8888df362d",
   "metadata": {},
   "outputs": [],
   "source": [
    "a,b=2,3"
   ]
  },
  {
   "cell_type": "code",
   "execution_count": 9,
   "id": "1e7a9d5d-0836-4c3e-9edf-94e40da9e717",
   "metadata": {},
   "outputs": [
    {
     "name": "stdout",
     "output_type": "stream",
     "text": [
      "a=2 and b=3\n"
     ]
    }
   ],
   "source": [
    "print(\"a={0} and b={1}\".format(a,b))"
   ]
  },
  {
   "cell_type": "code",
   "execution_count": 10,
   "id": "6ceb54ac-973f-4438-9d7e-a2a677d0e9d4",
   "metadata": {},
   "outputs": [
    {
     "name": "stdout",
     "output_type": "stream",
     "text": [
      "a=3 and b=4\n"
     ]
    }
   ],
   "source": [
    "print(\"a={a} and b={b}\".format(a=3,b=4))"
   ]
  },
  {
   "cell_type": "code",
   "execution_count": 13,
   "id": "848ba5ec-8a9a-4b72-a6ea-f5f8230dccde",
   "metadata": {},
   "outputs": [
    {
     "name": "stdout",
     "output_type": "stream",
     "text": [
      "Help on built-in function format in module builtins:\n",
      "\n",
      "format(value, format_spec='', /)\n",
      "    Return value.__format__(format_spec)\n",
      "    \n",
      "    format_spec defaults to the empty string.\n",
      "    See the Format Specification Mini-Language section of help('FORMATTING') for\n",
      "    details.\n",
      "\n"
     ]
    }
   ],
   "source": [
    "help(format)"
   ]
  },
  {
   "cell_type": "markdown",
   "id": "7b11d660-3d20-4f1d-bc6d-f33cb4f6f9d9",
   "metadata": {
    "tags": []
   },
   "source": [
    "### 24. frozenset()\n",
    "\n",
    "frozenset() returns an immutable frozenset object."
   ]
  },
  {
   "cell_type": "code",
   "execution_count": 14,
   "id": "861b41ae-046e-41d8-9027-67856c3760ed",
   "metadata": {},
   "outputs": [
    {
     "data": {
      "text/plain": [
       "frozenset({2, 3, 4})"
      ]
     },
     "execution_count": 14,
     "metadata": {},
     "output_type": "execute_result"
    }
   ],
   "source": [
    "frozenset((3,2,4))"
   ]
  },
  {
   "cell_type": "markdown",
   "id": "11e14544-0376-4619-a265-a5d0c5da8701",
   "metadata": {
    "tags": []
   },
   "source": [
    "### 25. getattr()\n",
    "\n",
    "getattr() returns the value of an object’s attribute.\n",
    "\n",
    "equals to xxx.xxx"
   ]
  },
  {
   "cell_type": "code",
   "execution_count": 16,
   "id": "f0434968-00d4-471c-a8d7-92fa3df499b7",
   "metadata": {},
   "outputs": [],
   "source": [
    "class orange:\n",
    "    \n",
    "    def __init__(self):\n",
    "        self.size = 7"
   ]
  },
  {
   "cell_type": "code",
   "execution_count": 17,
   "id": "b0b7fd7e-19a9-429b-864d-771176a6e140",
   "metadata": {},
   "outputs": [
    {
     "data": {
      "text/plain": [
       "7"
      ]
     },
     "execution_count": 17,
     "metadata": {},
     "output_type": "execute_result"
    }
   ],
   "source": [
    "one_orange = orange()\n",
    "getattr(one_orange,'size')"
   ]
  },
  {
   "cell_type": "markdown",
   "id": "84319311-7c19-4f9f-9944-2ff19e43fc74",
   "metadata": {
    "tags": []
   },
   "source": [
    "### 26. globals()\n",
    "\n",
    "This Python built-in functions, returns a dictionary of the current global symbol table."
   ]
  },
  {
   "cell_type": "code",
   "execution_count": null,
   "id": "217adbbd-bc03-48d9-a065-c65623058bd6",
   "metadata": {},
   "outputs": [],
   "source": [
    "globals()"
   ]
  },
  {
   "cell_type": "markdown",
   "id": "897468bb-9149-4083-b7dc-39bfa1d664d7",
   "metadata": {
    "tags": []
   },
   "source": [
    "### 27. hasattr()\n",
    "\n",
    "Like delattr() and getattr(), hasattr() Python built-in functions, returns True if the object has that attribute."
   ]
  },
  {
   "cell_type": "code",
   "execution_count": 19,
   "id": "fd10ba4e-afa4-497a-b50c-69b6e6695bc9",
   "metadata": {},
   "outputs": [
    {
     "data": {
      "text/plain": [
       "True"
      ]
     },
     "execution_count": 19,
     "metadata": {},
     "output_type": "execute_result"
    }
   ],
   "source": [
    "hasattr(one_orange,'size')"
   ]
  },
  {
   "cell_type": "markdown",
   "id": "54e7c39d-3a36-4b4c-b61d-e88f8e443343",
   "metadata": {
    "tags": []
   },
   "source": [
    "### 28. hash()\n",
    "\n",
    "hash() function returns the hash value of an object. And in Python, everything is an object."
   ]
  },
  {
   "cell_type": "code",
   "execution_count": 20,
   "id": "4ff420c3-1615-4313-adb9-8502a2133ba1",
   "metadata": {},
   "outputs": [
    {
     "data": {
      "text/plain": [
       "8775116608856"
      ]
     },
     "execution_count": 20,
     "metadata": {},
     "output_type": "execute_result"
    }
   ],
   "source": [
    "hash(one_orange)"
   ]
  },
  {
   "cell_type": "code",
   "execution_count": 21,
   "id": "d861eb96-9413-46c7-b19f-d7ead9031ff5",
   "metadata": {},
   "outputs": [
    {
     "data": {
      "text/plain": [
       "3284605"
      ]
     },
     "execution_count": 21,
     "metadata": {},
     "output_type": "execute_result"
    }
   ],
   "source": [
    "hash(orange)"
   ]
  },
  {
   "cell_type": "markdown",
   "id": "365cd139-75b6-4bc3-8c04-df84d7dc56fc",
   "metadata": {
    "tags": []
   },
   "source": [
    "### 29. help()\n",
    "\n",
    "To get details about any module, keyword, symbol, or topic, we use the help() function."
   ]
  },
  {
   "cell_type": "code",
   "execution_count": 22,
   "id": "1eb6fdfe-b415-4d48-88b8-78e28acb3981",
   "metadata": {},
   "outputs": [
    {
     "name": "stdout",
     "output_type": "stream",
     "text": [
      "\n",
      "Welcome to Python 3.9's help utility!\n",
      "\n",
      "If this is your first time using Python, you should definitely check out\n",
      "the tutorial on the Internet at https://docs.python.org/3.9/tutorial/.\n",
      "\n",
      "Enter the name of any module, keyword, or topic to get help on writing\n",
      "Python programs and using Python modules.  To quit this help utility and\n",
      "return to the interpreter, just type \"quit\".\n",
      "\n",
      "To get a list of available modules, keywords, symbols, or topics, type\n",
      "\"modules\", \"keywords\", \"symbols\", or \"topics\".  Each module also comes\n",
      "with a one-line summary of what it does; to list the modules whose name\n",
      "or summary contain a given string such as \"spam\", type \"modules spam\".\n",
      "\n"
     ]
    },
    {
     "name": "stdin",
     "output_type": "stream",
     "text": [
      "help>  map\n"
     ]
    },
    {
     "name": "stdout",
     "output_type": "stream",
     "text": [
      "Help on class map in module builtins:\n",
      "\n",
      "class map(object)\n",
      " |  map(func, *iterables) --> map object\n",
      " |  \n",
      " |  Make an iterator that computes the function using arguments from\n",
      " |  each of the iterables.  Stops when the shortest iterable is exhausted.\n",
      " |  \n",
      " |  Methods defined here:\n",
      " |  \n",
      " |  __getattribute__(self, name, /)\n",
      " |      Return getattr(self, name).\n",
      " |  \n",
      " |  __iter__(self, /)\n",
      " |      Implement iter(self).\n",
      " |  \n",
      " |  __next__(self, /)\n",
      " |      Implement next(self).\n",
      " |  \n",
      " |  __reduce__(...)\n",
      " |      Return state information for pickling.\n",
      " |  \n",
      " |  ----------------------------------------------------------------------\n",
      " |  Static methods defined here:\n",
      " |  \n",
      " |  __new__(*args, **kwargs) from builtins.type\n",
      " |      Create and return a new object.  See help(type) for accurate signature.\n",
      "\n"
     ]
    },
    {
     "name": "stdin",
     "output_type": "stream",
     "text": [
      "help>  exit\n"
     ]
    },
    {
     "name": "stdout",
     "output_type": "stream",
     "text": [
      "No Python documentation found for 'exit'.\n",
      "Use help() to get the interactive help utility.\n",
      "Use help(str) for help on the str class.\n",
      "\n"
     ]
    },
    {
     "name": "stdin",
     "output_type": "stream",
     "text": [
      "help>  quit\n"
     ]
    },
    {
     "name": "stdout",
     "output_type": "stream",
     "text": [
      "\n",
      "You are now leaving help and returning to the Python interpreter.\n",
      "If you want to ask for help on a particular object directly from the\n",
      "interpreter, you can type \"help(object)\".  Executing \"help('string')\"\n",
      "has the same effect as typing a particular string at the help> prompt.\n"
     ]
    }
   ],
   "source": [
    "help()"
   ]
  },
  {
   "cell_type": "markdown",
   "id": "aa1eb11a-56a2-48e5-8de2-ef7b6208d1ae",
   "metadata": {
    "tags": []
   },
   "source": [
    "### 30. hex()\n",
    "\n",
    "Hex() Python built-in functions, converts an integer to hexadecimal."
   ]
  },
  {
   "cell_type": "code",
   "execution_count": 23,
   "id": "1a58ed58-dcce-4af1-8e7d-3229556a5d75",
   "metadata": {},
   "outputs": [
    {
     "data": {
      "text/plain": [
       "'0x10'"
      ]
     },
     "execution_count": 23,
     "metadata": {},
     "output_type": "execute_result"
    }
   ],
   "source": [
    "hex(16)"
   ]
  },
  {
   "cell_type": "markdown",
   "id": "0145128b-d986-4364-9c8a-ceb212197f7c",
   "metadata": {
    "tags": []
   },
   "source": [
    "### 31. id()\n",
    "\n",
    "id() returns an object’s identity.\n",
    "\n",
    "\n",
    "Python id() value is guaranteed to be unique and constant for an object. We can use this to make sure two objects are referring to the same object in memory or not."
   ]
  },
  {
   "cell_type": "code",
   "execution_count": 24,
   "id": "55013083-e76d-443b-a3ce-2f025c614581",
   "metadata": {},
   "outputs": [
    {
     "data": {
      "text/plain": [
       "52553680"
      ]
     },
     "execution_count": 24,
     "metadata": {},
     "output_type": "execute_result"
    }
   ],
   "source": [
    "id(orange)"
   ]
  },
  {
   "cell_type": "code",
   "execution_count": 25,
   "id": "6b3f96fd-3465-4fb9-a0ec-72fd502fb207",
   "metadata": {},
   "outputs": [
    {
     "data": {
      "text/plain": [
       "140401865741696"
      ]
     },
     "execution_count": 25,
     "metadata": {},
     "output_type": "execute_result"
    }
   ],
   "source": [
    "id(one_orange)"
   ]
  },
  {
   "cell_type": "code",
   "execution_count": 26,
   "id": "ad9a2323-dfde-464e-a6c8-1845825cfb3e",
   "metadata": {},
   "outputs": [
    {
     "data": {
      "text/plain": [
       "True"
      ]
     },
     "execution_count": 26,
     "metadata": {},
     "output_type": "execute_result"
    }
   ],
   "source": [
    "id({1,2,3})==id({1,3,2})"
   ]
  },
  {
   "cell_type": "markdown",
   "id": "0a874e44-a654-42ba-adf9-43420356e9e5",
   "metadata": {
    "tags": []
   },
   "source": [
    "### 32. input()\n",
    "\n",
    "Input() Python built-in functions, reads and returns a line of string."
   ]
  },
  {
   "cell_type": "code",
   "execution_count": 27,
   "id": "eaa8b115-99b1-4aeb-acba-e87a8f585420",
   "metadata": {},
   "outputs": [
    {
     "name": "stdin",
     "output_type": "stream",
     "text": [
      "Enter a number 123\n"
     ]
    },
    {
     "data": {
      "text/plain": [
       "'123'"
      ]
     },
     "execution_count": 27,
     "metadata": {},
     "output_type": "execute_result"
    }
   ],
   "source": [
    "input(\"Enter a number\")"
   ]
  },
  {
   "cell_type": "markdown",
   "id": "1e8f2b73-322b-400e-bb22-90dbd95e7785",
   "metadata": {
    "tags": []
   },
   "source": [
    "### 33. int()\n",
    "\n",
    "int() converts a value to an integer."
   ]
  },
  {
   "cell_type": "code",
   "execution_count": 28,
   "id": "f45f300d-cb76-4cac-8f5b-99fddc1b69d6",
   "metadata": {},
   "outputs": [
    {
     "data": {
      "text/plain": [
       "7"
      ]
     },
     "execution_count": 28,
     "metadata": {},
     "output_type": "execute_result"
    }
   ],
   "source": [
    "int('7')"
   ]
  },
  {
   "cell_type": "markdown",
   "id": "897752d2-a036-48f1-87e8-dc05a70fea46",
   "metadata": {
    "tags": []
   },
   "source": [
    "### 34. isinstance()\n",
    "\n",
    "isinstance() takes a variable and a class as arguments.\n",
    "\n",
    "Then, it returns True if the variable belongs to the class. Otherwise, it returns False."
   ]
  },
  {
   "cell_type": "code",
   "execution_count": 29,
   "id": "ababdd38-d400-4c1f-a08f-90dc18d784c1",
   "metadata": {},
   "outputs": [
    {
     "data": {
      "text/plain": [
       "False"
      ]
     },
     "execution_count": 29,
     "metadata": {},
     "output_type": "execute_result"
    }
   ],
   "source": [
    "isinstance(0,str)"
   ]
  },
  {
   "cell_type": "code",
   "execution_count": 32,
   "id": "ac7a2eaf-bca8-486a-a281-0a70bdb52a2a",
   "metadata": {},
   "outputs": [
    {
     "data": {
      "text/plain": [
       "True"
      ]
     },
     "execution_count": 32,
     "metadata": {},
     "output_type": "execute_result"
    }
   ],
   "source": [
    "isinstance(0,int)"
   ]
  },
  {
   "cell_type": "code",
   "execution_count": 31,
   "id": "9841c7ac-a4e8-4978-974a-3ab4656a1901",
   "metadata": {},
   "outputs": [
    {
     "data": {
      "text/plain": [
       "True"
      ]
     },
     "execution_count": 31,
     "metadata": {},
     "output_type": "execute_result"
    }
   ],
   "source": [
    "isinstance(one_orange,orange)"
   ]
  },
  {
   "cell_type": "markdown",
   "id": "931a23d3-bbc8-46c1-828a-e43a863428de",
   "metadata": {
    "tags": []
   },
   "source": [
    "### 35. issubclass()\n",
    "\n",
    "This Python Built In function takes two arguments- two python classes. If the first class is a subclass of the second, it returns True."
   ]
  },
  {
   "cell_type": "code",
   "execution_count": 35,
   "id": "e5026609-c666-47ec-a0a1-1b87c640da1b",
   "metadata": {},
   "outputs": [],
   "source": [
    "class fruit:\n",
    "       pass\n",
    "class pear(fruit):\n",
    "       pass"
   ]
  },
  {
   "cell_type": "code",
   "execution_count": 36,
   "id": "7d8a453a-334f-44bd-9e91-04c234593b59",
   "metadata": {},
   "outputs": [
    {
     "data": {
      "text/plain": [
       "False"
      ]
     },
     "execution_count": 36,
     "metadata": {},
     "output_type": "execute_result"
    }
   ],
   "source": [
    "issubclass(fruit,pear)"
   ]
  },
  {
   "cell_type": "code",
   "execution_count": 37,
   "id": "2dc5b2bd-62c0-49f2-b8a3-98bb19ba3766",
   "metadata": {},
   "outputs": [
    {
     "data": {
      "text/plain": [
       "True"
      ]
     },
     "execution_count": 37,
     "metadata": {},
     "output_type": "execute_result"
    }
   ],
   "source": [
    "issubclass(pear,fruit)"
   ]
  },
  {
   "cell_type": "markdown",
   "id": "c6b48de0-03b2-4fa6-a4fd-97c9d8ff2ffe",
   "metadata": {
    "tags": []
   },
   "source": [
    "### 36. iter()\n",
    "\n",
    "Iter() Python built-in functions, returns a python iterator for an object.\n",
    "\n",
    "What is an iterator, you can understand it as it tells how to get the next position of element.\n",
    "\n",
    "Think about the list, if the content of the list elements has the same size, then it's easy to get the each element by their memory position, but if the list elements are not aligned in the element size, what should the computer do to understand it?\n",
    "\n",
    "Answer is this iter\n"
   ]
  },
  {
   "cell_type": "code",
   "execution_count": 38,
   "id": "17c8a7af-a3cf-40c9-8fe5-e98503b42ed8",
   "metadata": {},
   "outputs": [
    {
     "name": "stdout",
     "output_type": "stream",
     "text": [
      "1\n",
      "2\n",
      "3\n"
     ]
    }
   ],
   "source": [
    "for i in iter([1,2,3]):\n",
    "    print(i)"
   ]
  },
  {
   "cell_type": "code",
   "execution_count": 39,
   "id": "43fd7d40-666c-4dd0-85ea-b6a9ee3bf170",
   "metadata": {},
   "outputs": [
    {
     "name": "stdout",
     "output_type": "stream",
     "text": [
      "apple\n",
      "samsung\n",
      "oneplus\n"
     ]
    }
   ],
   "source": [
    "# list of vowels\n",
    "phones = ['apple', 'samsung', 'oneplus']\n",
    "phones_iter = iter(phones)\n",
    "\n",
    "print(next(phones_iter))   \n",
    "print(next(phones_iter))    \n",
    "print(next(phones_iter))   "
   ]
  },
  {
   "cell_type": "code",
   "execution_count": 43,
   "id": "07a2b140-6964-4a39-9aaf-e6cf5e91f634",
   "metadata": {},
   "outputs": [
    {
     "data": {
      "text/plain": [
       "<list_iterator at 0x7fb1d82e1070>"
      ]
     },
     "execution_count": 43,
     "metadata": {},
     "output_type": "execute_result"
    }
   ],
   "source": [
    "phones.__iter__()"
   ]
  },
  {
   "cell_type": "code",
   "execution_count": 41,
   "id": "929ce2a8-cd9b-4db1-a65f-3cfedfa5d3a6",
   "metadata": {},
   "outputs": [
    {
     "name": "stdout",
     "output_type": "stream",
     "text": [
      "1\n",
      "2\n",
      "3\n"
     ]
    }
   ],
   "source": [
    "class PrintNumber:\n",
    "    def __init__(self, max):\n",
    "        self.max = max\n",
    "\n",
    "# iter() method in a class\n",
    "    def __iter__(self):\n",
    "        self.num = 0\n",
    "        return self\n",
    "# next() method in a class \n",
    "    def __next__(self):\n",
    "        if(self.num >= self.max):\n",
    "            raise StopIteration\n",
    "        self.num += 1\n",
    "        return self.num\n",
    "\n",
    "print_num = PrintNumber(3)\n",
    "\n",
    "print_num_iter = iter(print_num)\n",
    "print(next(print_num_iter))  # 1\n",
    "print(next(print_num_iter))  # 2\n",
    "print(next(print_num_iter))  # 3\n",
    "\n",
    "# raises StopIteration\n",
    "# print(next(print_num_iter))"
   ]
  },
  {
   "cell_type": "code",
   "execution_count": 45,
   "id": "082da558-1099-48cb-b548-dda8a9ab30da",
   "metadata": {},
   "outputs": [],
   "source": [
    "d = {'a':1,'b':2}\n",
    "\n",
    "itd = iter(d)"
   ]
  },
  {
   "cell_type": "code",
   "execution_count": 46,
   "id": "dae2ac2f-2574-4897-873a-8fe3436c7e43",
   "metadata": {},
   "outputs": [
    {
     "data": {
      "text/plain": [
       "'a'"
      ]
     },
     "execution_count": 46,
     "metadata": {},
     "output_type": "execute_result"
    }
   ],
   "source": [
    "next(itd)"
   ]
  },
  {
   "cell_type": "code",
   "execution_count": 47,
   "id": "a8c39234-5651-46b2-a35b-7d1c96d35094",
   "metadata": {},
   "outputs": [
    {
     "data": {
      "text/plain": [
       "'b'"
      ]
     },
     "execution_count": 47,
     "metadata": {},
     "output_type": "execute_result"
    }
   ],
   "source": [
    "next(itd)"
   ]
  },
  {
   "cell_type": "code",
   "execution_count": null,
   "id": "08796f2c-21cd-4b88-a03b-449053f0c8ba",
   "metadata": {},
   "outputs": [],
   "source": []
  }
 ],
 "metadata": {
  "kernelspec": {
   "display_name": "Python 3 (ipykernel)",
   "language": "python",
   "name": "python3"
  },
  "language_info": {
   "codemirror_mode": {
    "name": "ipython",
    "version": 3
   },
   "file_extension": ".py",
   "mimetype": "text/x-python",
   "name": "python",
   "nbconvert_exporter": "python",
   "pygments_lexer": "ipython3",
   "version": "3.9.13"
  }
 },
 "nbformat": 4,
 "nbformat_minor": 5
}
